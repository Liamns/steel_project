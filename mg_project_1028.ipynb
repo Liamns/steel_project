{
 "cells": [
  {
   "cell_type": "code",
   "execution_count": 1,
   "metadata": {},
   "outputs": [],
   "source": [
    "import pandas as pd\n",
    "import numpy as np\n",
    "import seaborn as sns\n",
    "import matplotlib.pyplot as plt\n",
    "import plotly.express as px\n",
    "import platform\n",
    "\n",
    "# 운영체제별 한글 폰트 설정\n",
    "if platform.system() == 'Darwin': # Mac 환경 폰트 설정\n",
    "    plt.rc('font', family='AppleGothic')\n",
    "elif platform.system() == 'Windows': # Windows 환경 폰트 설정\n",
    "    plt.rc('font', family='Malgun Gothic')\n",
    "\n",
    "plt.rc('axes', unicode_minus=False) # 마이너스 폰트 설정\n",
    "\n",
    "\n",
    "# 글씨 선명하게 출력하는 설정\n",
    "%config InlineBackend.figure_format = 'retina'"
   ]
  },
  {
   "cell_type": "markdown",
   "metadata": {},
   "source": [
    "### 목표1: Bubble Chart를 활용, 질량과 FUR 을 비교하여 양품, 불량을 시각화한다."
   ]
  },
  {
   "cell_type": "markdown",
   "metadata": {},
   "source": [
    "## 데이터 불러오기"
   ]
  },
  {
   "cell_type": "code",
   "execution_count": 2,
   "metadata": {},
   "outputs": [],
   "source": [
    "df = pd.read_csv('steel_date.csv')"
   ]
  },
  {
   "cell_type": "code",
   "execution_count": 3,
   "metadata": {},
   "outputs": [],
   "source": [
    "steel = df\n"
   ]
  },
  {
   "cell_type": "code",
   "execution_count": 4,
   "metadata": {
    "scrolled": true
   },
   "outputs": [
    {
     "name": "stdout",
     "output_type": "stream",
     "text": [
      "<class 'pandas.core.frame.DataFrame'>\n",
      "RangeIndex: 720 entries, 0 to 719\n",
      "Data columns (total 22 columns):\n",
      " #   Column             Non-Null Count  Dtype  \n",
      "---  ------             --------------  -----  \n",
      " 0   Unnamed: 0         720 non-null    int64  \n",
      " 1   PLATE_NO           720 non-null    object \n",
      " 2   ROLLING_DATE       720 non-null    object \n",
      " 3   SCALE              720 non-null    object \n",
      " 4   SPEC               720 non-null    object \n",
      " 5   STEEL_KIND         720 non-null    object \n",
      " 6   PT_THK             720 non-null    float64\n",
      " 7   PT_WDTH            720 non-null    int64  \n",
      " 8   PT_LTH             720 non-null    int64  \n",
      " 9   PT_WGT             720 non-null    int64  \n",
      " 10  FUR_NO             720 non-null    object \n",
      " 11  FUR_NO_ROW         720 non-null    int64  \n",
      " 12  FUR_HZ_TEMP        720 non-null    int64  \n",
      " 13  FUR_HZ_TIME        720 non-null    int64  \n",
      " 14  FUR_SZ_TEMP        720 non-null    int64  \n",
      " 15  FUR_SZ_TIME        720 non-null    int64  \n",
      " 16  FUR_TIME           720 non-null    int64  \n",
      " 17  FUR_EXTEMP         720 non-null    int64  \n",
      " 18  ROLLING_TEMP_T5    720 non-null    int64  \n",
      " 19  HSB                720 non-null    object \n",
      " 20  ROLLING_DESCALING  720 non-null    int64  \n",
      " 21  WORK_GR            720 non-null    object \n",
      "dtypes: float64(1), int64(13), object(8)\n",
      "memory usage: 123.9+ KB\n"
     ]
    }
   ],
   "source": [
    "steel.info()"
   ]
  },
  {
   "cell_type": "markdown",
   "metadata": {},
   "source": [
    "## 데이터 전처리"
   ]
  },
  {
   "cell_type": "markdown",
   "metadata": {},
   "source": [
    "### 칼럼 소문자로 변환"
   ]
  },
  {
   "cell_type": "code",
   "execution_count": 5,
   "metadata": {},
   "outputs": [],
   "source": [
    "#모든 칼럼 소문자로 변환\n",
    "\n",
    "steel.rename(str.lower, axis='columns', inplace=True)"
   ]
  },
  {
   "cell_type": "markdown",
   "metadata": {},
   "source": [
    "### 고유값이 2개인 칼럼 값 치환"
   ]
  },
  {
   "cell_type": "code",
   "execution_count": 6,
   "metadata": {},
   "outputs": [],
   "source": [
    "#계산이 용이하도록 고유값이 2개인 SCALE과 HSB칼럼을 0과 1로 치환\n",
    "\n",
    "steel['scale'] = steel['scale'].replace({'양품':1, '불량':0})\n",
    "steel['hsb'] = steel['hsb'].replace({'적용':1, '미적용':0})"
   ]
  },
  {
   "cell_type": "markdown",
   "metadata": {},
   "source": [
    "### 중복하는 칼럼 제거"
   ]
  },
  {
   "cell_type": "code",
   "execution_count": 7,
   "metadata": {},
   "outputs": [
    {
     "name": "stdout",
     "output_type": "stream",
     "text": [
      "[ True]\n"
     ]
    }
   ],
   "source": [
    "#값이 정확히 일치하는 두 개의 칼럼이 있어 하나를 제거해주었다.\n",
    "\n",
    "#'FUR_SZ_TEMP', 'FUR_EXTEMP' 칼럼이 정확히 일치하는지 확인\n",
    "duplicate = steel[['fur_sz_temp','fur_extemp']].assign(duplicate_lambda=lambda x: (x['fur_sz_temp'] == x['fur_extemp']))\n",
    "\n",
    "#print(test1.to_string())        #출력해보면 두 칼럼의 모든 항목을 비교하는 표를 확인할 수 있다.\n",
    "print(duplicate['duplicate_lambda'].unique())      #lamda로 추출한 값에 True만 존재하기 때문에, 정확히 일치함을 확인\n",
    "\n",
    "steel.drop(columns='fur_extemp', inplace=True)"
   ]
  },
  {
   "cell_type": "markdown",
   "metadata": {},
   "source": [
    "### 고유값 확인"
   ]
  },
  {
   "cell_type": "code",
   "execution_count": 8,
   "metadata": {},
   "outputs": [
    {
     "name": "stdout",
     "output_type": "stream",
     "text": [
      "plate_no 고유값은 720개,\n",
      "데이터 수는720개 입니다.\n"
     ]
    }
   ],
   "source": [
    "#PLATE_NO는 생산된 철의 중복되지 않은 고유번호임을 알 수 있다.\n",
    "\n",
    "plt_no_nunique = steel['plate_no'].nunique()\n",
    "plt_no_count = steel['plate_no'].count()\n",
    "print('plate_no 고유값은 ' + str(plt_no_nunique) + '개,\\n' + \n",
    "      '데이터 수는' + str(plt_no_count) + '개 입니다.')"
   ]
  },
  {
   "cell_type": "markdown",
   "metadata": {},
   "source": [
    "### 일단 전부 시각화"
   ]
  },
  {
   "cell_type": "markdown",
   "metadata": {},
   "source": [
    "#### SPEC별 불량률 - Stacked bar 차트"
   ]
  },
  {
   "cell_type": "code",
   "execution_count": 9,
   "metadata": {},
   "outputs": [],
   "source": [
    "#데이터프레임 추출\n",
    "spec_1 = pd.Series(steel['spec'].unique())\n",
    "spec_2 = pd.DataFrame()\n",
    "\n",
    "for i in spec_1:\n",
    "    yes = steel[(steel['spec'] == i) & (steel['scale'] == 1)]['scale'].count()\n",
    "    no = steel[(steel['spec'] == i) & (steel['scale'] == 0)]['scale'].count()\n",
    "    spec_2 = pd.concat([spec_2,pd.DataFrame([i, yes, no, yes + no]).T])\n",
    "    \n",
    "spec_2.reset_index(drop=True)\n",
    "spec_2.columns = ['spec','1','0','sum']\n",
    "spec_2.sort_values(by='sum', ascending=False, inplace=True)"
   ]
  },
  {
   "cell_type": "code",
   "execution_count": 10,
   "metadata": {},
   "outputs": [
    {
     "data": {
      "text/html": [
       "<div>\n",
       "<style scoped>\n",
       "    .dataframe tbody tr th:only-of-type {\n",
       "        vertical-align: middle;\n",
       "    }\n",
       "\n",
       "    .dataframe tbody tr th {\n",
       "        vertical-align: top;\n",
       "    }\n",
       "\n",
       "    .dataframe thead th {\n",
       "        text-align: right;\n",
       "    }\n",
       "</style>\n",
       "<table border=\"1\" class=\"dataframe\">\n",
       "  <thead>\n",
       "    <tr style=\"text-align: right;\">\n",
       "      <th></th>\n",
       "      <th>spec</th>\n",
       "      <th>1</th>\n",
       "      <th>0</th>\n",
       "      <th>sum</th>\n",
       "    </tr>\n",
       "  </thead>\n",
       "  <tbody>\n",
       "    <tr>\n",
       "      <th>0</th>\n",
       "      <td>JS-SM490YB</td>\n",
       "      <td>49</td>\n",
       "      <td>35</td>\n",
       "      <td>84</td>\n",
       "    </tr>\n",
       "    <tr>\n",
       "      <th>0</th>\n",
       "      <td>LR-A</td>\n",
       "      <td>43</td>\n",
       "      <td>11</td>\n",
       "      <td>54</td>\n",
       "    </tr>\n",
       "    <tr>\n",
       "      <th>0</th>\n",
       "      <td>NV-A</td>\n",
       "      <td>34</td>\n",
       "      <td>14</td>\n",
       "      <td>48</td>\n",
       "    </tr>\n",
       "  </tbody>\n",
       "</table>\n",
       "</div>"
      ],
      "text/plain": [
       "         spec   1   0 sum\n",
       "0  JS-SM490YB  49  35  84\n",
       "0        LR-A  43  11  54\n",
       "0        NV-A  34  14  48"
      ]
     },
     "execution_count": 10,
     "metadata": {},
     "output_type": "execute_result"
    }
   ],
   "source": [
    "spec_2.head(3)"
   ]
  },
  {
   "cell_type": "code",
   "execution_count": 11,
   "metadata": {},
   "outputs": [],
   "source": [
    "plt01 = steel.groupby('spec')[['scale']].count()\n",
    "plt01.sort_values(by='scale', ascending=False, inplace=True)"
   ]
  },
  {
   "cell_type": "code",
   "execution_count": 12,
   "metadata": {},
   "outputs": [
    {
     "data": {
      "application/vnd.plotly.v1+json": {
       "config": {
        "plotlyServerURL": "https://plot.ly"
       },
       "data": [
        {
         "hovertemplate": "spec=%{x}<br>scale=%{y}<extra></extra>",
         "legendgroup": "",
         "line": {
          "color": "#636efa",
          "dash": "solid"
         },
         "marker": {
          "symbol": "circle"
         },
         "mode": "lines",
         "name": "",
         "orientation": "v",
         "showlegend": false,
         "type": "scatter",
         "x": [
          "JS-SM490YB",
          "LR-A",
          "NV-A",
          "PILAC-BT33",
          "BV-EH36-TM",
          "LR-AH32",
          "NV-A32",
          "JS-SM490A",
          "COMMON",
          "BV-B",
          "KR-A",
          "SA283-C",
          "JS-SS400",
          "AB/EH36-TM",
          "GL-E36-TM",
          "BV-AH32",
          "LR-B",
          "NK-KA32",
          "GL-A36-TM",
          "GL-A32",
          "GL-D36-TM",
          "KS-SM490B",
          "AB/A",
          "GL-E32-TM",
          "A283-C",
          "AB/B",
          "NK-KA",
          "JS-SM490YA",
          "KS-SM490A",
          "AB/AH32",
          "KS-SS400",
          "JS-SM400B",
          "NV-E36-TM",
          "NV-D36-TM",
          "KS-SM400A",
          "NV-D32-TM",
          "KS-SM400B",
          "V42JBN3",
          "GL-A32-TM",
          "NV-A32-TM",
          "BV-AH32-TM",
          "KR-AH32",
          "BV-AH36-TL",
          "GL-A",
          "NV-B",
          "LR-EH36-TM",
          "NK-KD36-TM",
          "KS-HSB500",
          "NV-E32-TM",
          "API-2W-50T",
          "NV-A36-TM",
          "AB/EH32-TM",
          "JS-SM400A",
          "A516-60",
          "BV-A",
          "A709-36",
          "KS-HSB600",
          "NK-KA32-TM",
          "BV-AH36-TM",
          "BV-EH32-TM",
          "LR-EH32-TM",
          "CCS-B",
          "LR-AH36-TM",
          "LR-AH36",
          "KR-B",
          "A131-DH36TM"
         ],
         "xaxis": "x",
         "y": [
          84,
          54,
          48,
          40,
          35,
          33,
          33,
          31,
          28,
          28,
          27,
          21,
          19,
          17,
          16,
          14,
          13,
          12,
          11,
          8,
          8,
          7,
          7,
          6,
          6,
          6,
          5,
          5,
          5,
          5,
          5,
          5,
          5,
          5,
          4,
          4,
          4,
          4,
          4,
          3,
          3,
          3,
          3,
          3,
          3,
          2,
          2,
          2,
          2,
          2,
          2,
          2,
          2,
          2,
          1,
          1,
          1,
          1,
          1,
          1,
          1,
          1,
          1,
          1,
          1,
          1
         ],
         "yaxis": "y"
        }
       ],
       "layout": {
        "legend": {
         "tracegroupgap": 0
        },
        "margin": {
         "t": 60
        },
        "template": {
         "data": {
          "bar": [
           {
            "error_x": {
             "color": "#2a3f5f"
            },
            "error_y": {
             "color": "#2a3f5f"
            },
            "marker": {
             "line": {
              "color": "#E5ECF6",
              "width": 0.5
             },
             "pattern": {
              "fillmode": "overlay",
              "size": 10,
              "solidity": 0.2
             }
            },
            "type": "bar"
           }
          ],
          "barpolar": [
           {
            "marker": {
             "line": {
              "color": "#E5ECF6",
              "width": 0.5
             },
             "pattern": {
              "fillmode": "overlay",
              "size": 10,
              "solidity": 0.2
             }
            },
            "type": "barpolar"
           }
          ],
          "carpet": [
           {
            "aaxis": {
             "endlinecolor": "#2a3f5f",
             "gridcolor": "white",
             "linecolor": "white",
             "minorgridcolor": "white",
             "startlinecolor": "#2a3f5f"
            },
            "baxis": {
             "endlinecolor": "#2a3f5f",
             "gridcolor": "white",
             "linecolor": "white",
             "minorgridcolor": "white",
             "startlinecolor": "#2a3f5f"
            },
            "type": "carpet"
           }
          ],
          "choropleth": [
           {
            "colorbar": {
             "outlinewidth": 0,
             "ticks": ""
            },
            "type": "choropleth"
           }
          ],
          "contour": [
           {
            "colorbar": {
             "outlinewidth": 0,
             "ticks": ""
            },
            "colorscale": [
             [
              0,
              "#0d0887"
             ],
             [
              0.1111111111111111,
              "#46039f"
             ],
             [
              0.2222222222222222,
              "#7201a8"
             ],
             [
              0.3333333333333333,
              "#9c179e"
             ],
             [
              0.4444444444444444,
              "#bd3786"
             ],
             [
              0.5555555555555556,
              "#d8576b"
             ],
             [
              0.6666666666666666,
              "#ed7953"
             ],
             [
              0.7777777777777778,
              "#fb9f3a"
             ],
             [
              0.8888888888888888,
              "#fdca26"
             ],
             [
              1,
              "#f0f921"
             ]
            ],
            "type": "contour"
           }
          ],
          "contourcarpet": [
           {
            "colorbar": {
             "outlinewidth": 0,
             "ticks": ""
            },
            "type": "contourcarpet"
           }
          ],
          "heatmap": [
           {
            "colorbar": {
             "outlinewidth": 0,
             "ticks": ""
            },
            "colorscale": [
             [
              0,
              "#0d0887"
             ],
             [
              0.1111111111111111,
              "#46039f"
             ],
             [
              0.2222222222222222,
              "#7201a8"
             ],
             [
              0.3333333333333333,
              "#9c179e"
             ],
             [
              0.4444444444444444,
              "#bd3786"
             ],
             [
              0.5555555555555556,
              "#d8576b"
             ],
             [
              0.6666666666666666,
              "#ed7953"
             ],
             [
              0.7777777777777778,
              "#fb9f3a"
             ],
             [
              0.8888888888888888,
              "#fdca26"
             ],
             [
              1,
              "#f0f921"
             ]
            ],
            "type": "heatmap"
           }
          ],
          "heatmapgl": [
           {
            "colorbar": {
             "outlinewidth": 0,
             "ticks": ""
            },
            "colorscale": [
             [
              0,
              "#0d0887"
             ],
             [
              0.1111111111111111,
              "#46039f"
             ],
             [
              0.2222222222222222,
              "#7201a8"
             ],
             [
              0.3333333333333333,
              "#9c179e"
             ],
             [
              0.4444444444444444,
              "#bd3786"
             ],
             [
              0.5555555555555556,
              "#d8576b"
             ],
             [
              0.6666666666666666,
              "#ed7953"
             ],
             [
              0.7777777777777778,
              "#fb9f3a"
             ],
             [
              0.8888888888888888,
              "#fdca26"
             ],
             [
              1,
              "#f0f921"
             ]
            ],
            "type": "heatmapgl"
           }
          ],
          "histogram": [
           {
            "marker": {
             "pattern": {
              "fillmode": "overlay",
              "size": 10,
              "solidity": 0.2
             }
            },
            "type": "histogram"
           }
          ],
          "histogram2d": [
           {
            "colorbar": {
             "outlinewidth": 0,
             "ticks": ""
            },
            "colorscale": [
             [
              0,
              "#0d0887"
             ],
             [
              0.1111111111111111,
              "#46039f"
             ],
             [
              0.2222222222222222,
              "#7201a8"
             ],
             [
              0.3333333333333333,
              "#9c179e"
             ],
             [
              0.4444444444444444,
              "#bd3786"
             ],
             [
              0.5555555555555556,
              "#d8576b"
             ],
             [
              0.6666666666666666,
              "#ed7953"
             ],
             [
              0.7777777777777778,
              "#fb9f3a"
             ],
             [
              0.8888888888888888,
              "#fdca26"
             ],
             [
              1,
              "#f0f921"
             ]
            ],
            "type": "histogram2d"
           }
          ],
          "histogram2dcontour": [
           {
            "colorbar": {
             "outlinewidth": 0,
             "ticks": ""
            },
            "colorscale": [
             [
              0,
              "#0d0887"
             ],
             [
              0.1111111111111111,
              "#46039f"
             ],
             [
              0.2222222222222222,
              "#7201a8"
             ],
             [
              0.3333333333333333,
              "#9c179e"
             ],
             [
              0.4444444444444444,
              "#bd3786"
             ],
             [
              0.5555555555555556,
              "#d8576b"
             ],
             [
              0.6666666666666666,
              "#ed7953"
             ],
             [
              0.7777777777777778,
              "#fb9f3a"
             ],
             [
              0.8888888888888888,
              "#fdca26"
             ],
             [
              1,
              "#f0f921"
             ]
            ],
            "type": "histogram2dcontour"
           }
          ],
          "mesh3d": [
           {
            "colorbar": {
             "outlinewidth": 0,
             "ticks": ""
            },
            "type": "mesh3d"
           }
          ],
          "parcoords": [
           {
            "line": {
             "colorbar": {
              "outlinewidth": 0,
              "ticks": ""
             }
            },
            "type": "parcoords"
           }
          ],
          "pie": [
           {
            "automargin": true,
            "type": "pie"
           }
          ],
          "scatter": [
           {
            "marker": {
             "colorbar": {
              "outlinewidth": 0,
              "ticks": ""
             }
            },
            "type": "scatter"
           }
          ],
          "scatter3d": [
           {
            "line": {
             "colorbar": {
              "outlinewidth": 0,
              "ticks": ""
             }
            },
            "marker": {
             "colorbar": {
              "outlinewidth": 0,
              "ticks": ""
             }
            },
            "type": "scatter3d"
           }
          ],
          "scattercarpet": [
           {
            "marker": {
             "colorbar": {
              "outlinewidth": 0,
              "ticks": ""
             }
            },
            "type": "scattercarpet"
           }
          ],
          "scattergeo": [
           {
            "marker": {
             "colorbar": {
              "outlinewidth": 0,
              "ticks": ""
             }
            },
            "type": "scattergeo"
           }
          ],
          "scattergl": [
           {
            "marker": {
             "colorbar": {
              "outlinewidth": 0,
              "ticks": ""
             }
            },
            "type": "scattergl"
           }
          ],
          "scattermapbox": [
           {
            "marker": {
             "colorbar": {
              "outlinewidth": 0,
              "ticks": ""
             }
            },
            "type": "scattermapbox"
           }
          ],
          "scatterpolar": [
           {
            "marker": {
             "colorbar": {
              "outlinewidth": 0,
              "ticks": ""
             }
            },
            "type": "scatterpolar"
           }
          ],
          "scatterpolargl": [
           {
            "marker": {
             "colorbar": {
              "outlinewidth": 0,
              "ticks": ""
             }
            },
            "type": "scatterpolargl"
           }
          ],
          "scatterternary": [
           {
            "marker": {
             "colorbar": {
              "outlinewidth": 0,
              "ticks": ""
             }
            },
            "type": "scatterternary"
           }
          ],
          "surface": [
           {
            "colorbar": {
             "outlinewidth": 0,
             "ticks": ""
            },
            "colorscale": [
             [
              0,
              "#0d0887"
             ],
             [
              0.1111111111111111,
              "#46039f"
             ],
             [
              0.2222222222222222,
              "#7201a8"
             ],
             [
              0.3333333333333333,
              "#9c179e"
             ],
             [
              0.4444444444444444,
              "#bd3786"
             ],
             [
              0.5555555555555556,
              "#d8576b"
             ],
             [
              0.6666666666666666,
              "#ed7953"
             ],
             [
              0.7777777777777778,
              "#fb9f3a"
             ],
             [
              0.8888888888888888,
              "#fdca26"
             ],
             [
              1,
              "#f0f921"
             ]
            ],
            "type": "surface"
           }
          ],
          "table": [
           {
            "cells": {
             "fill": {
              "color": "#EBF0F8"
             },
             "line": {
              "color": "white"
             }
            },
            "header": {
             "fill": {
              "color": "#C8D4E3"
             },
             "line": {
              "color": "white"
             }
            },
            "type": "table"
           }
          ]
         },
         "layout": {
          "annotationdefaults": {
           "arrowcolor": "#2a3f5f",
           "arrowhead": 0,
           "arrowwidth": 1
          },
          "autotypenumbers": "strict",
          "coloraxis": {
           "colorbar": {
            "outlinewidth": 0,
            "ticks": ""
           }
          },
          "colorscale": {
           "diverging": [
            [
             0,
             "#8e0152"
            ],
            [
             0.1,
             "#c51b7d"
            ],
            [
             0.2,
             "#de77ae"
            ],
            [
             0.3,
             "#f1b6da"
            ],
            [
             0.4,
             "#fde0ef"
            ],
            [
             0.5,
             "#f7f7f7"
            ],
            [
             0.6,
             "#e6f5d0"
            ],
            [
             0.7,
             "#b8e186"
            ],
            [
             0.8,
             "#7fbc41"
            ],
            [
             0.9,
             "#4d9221"
            ],
            [
             1,
             "#276419"
            ]
           ],
           "sequential": [
            [
             0,
             "#0d0887"
            ],
            [
             0.1111111111111111,
             "#46039f"
            ],
            [
             0.2222222222222222,
             "#7201a8"
            ],
            [
             0.3333333333333333,
             "#9c179e"
            ],
            [
             0.4444444444444444,
             "#bd3786"
            ],
            [
             0.5555555555555556,
             "#d8576b"
            ],
            [
             0.6666666666666666,
             "#ed7953"
            ],
            [
             0.7777777777777778,
             "#fb9f3a"
            ],
            [
             0.8888888888888888,
             "#fdca26"
            ],
            [
             1,
             "#f0f921"
            ]
           ],
           "sequentialminus": [
            [
             0,
             "#0d0887"
            ],
            [
             0.1111111111111111,
             "#46039f"
            ],
            [
             0.2222222222222222,
             "#7201a8"
            ],
            [
             0.3333333333333333,
             "#9c179e"
            ],
            [
             0.4444444444444444,
             "#bd3786"
            ],
            [
             0.5555555555555556,
             "#d8576b"
            ],
            [
             0.6666666666666666,
             "#ed7953"
            ],
            [
             0.7777777777777778,
             "#fb9f3a"
            ],
            [
             0.8888888888888888,
             "#fdca26"
            ],
            [
             1,
             "#f0f921"
            ]
           ]
          },
          "colorway": [
           "#636efa",
           "#EF553B",
           "#00cc96",
           "#ab63fa",
           "#FFA15A",
           "#19d3f3",
           "#FF6692",
           "#B6E880",
           "#FF97FF",
           "#FECB52"
          ],
          "font": {
           "color": "#2a3f5f"
          },
          "geo": {
           "bgcolor": "white",
           "lakecolor": "white",
           "landcolor": "#E5ECF6",
           "showlakes": true,
           "showland": true,
           "subunitcolor": "white"
          },
          "hoverlabel": {
           "align": "left"
          },
          "hovermode": "closest",
          "mapbox": {
           "style": "light"
          },
          "paper_bgcolor": "white",
          "plot_bgcolor": "#E5ECF6",
          "polar": {
           "angularaxis": {
            "gridcolor": "white",
            "linecolor": "white",
            "ticks": ""
           },
           "bgcolor": "#E5ECF6",
           "radialaxis": {
            "gridcolor": "white",
            "linecolor": "white",
            "ticks": ""
           }
          },
          "scene": {
           "xaxis": {
            "backgroundcolor": "#E5ECF6",
            "gridcolor": "white",
            "gridwidth": 2,
            "linecolor": "white",
            "showbackground": true,
            "ticks": "",
            "zerolinecolor": "white"
           },
           "yaxis": {
            "backgroundcolor": "#E5ECF6",
            "gridcolor": "white",
            "gridwidth": 2,
            "linecolor": "white",
            "showbackground": true,
            "ticks": "",
            "zerolinecolor": "white"
           },
           "zaxis": {
            "backgroundcolor": "#E5ECF6",
            "gridcolor": "white",
            "gridwidth": 2,
            "linecolor": "white",
            "showbackground": true,
            "ticks": "",
            "zerolinecolor": "white"
           }
          },
          "shapedefaults": {
           "line": {
            "color": "#2a3f5f"
           }
          },
          "ternary": {
           "aaxis": {
            "gridcolor": "white",
            "linecolor": "white",
            "ticks": ""
           },
           "baxis": {
            "gridcolor": "white",
            "linecolor": "white",
            "ticks": ""
           },
           "bgcolor": "#E5ECF6",
           "caxis": {
            "gridcolor": "white",
            "linecolor": "white",
            "ticks": ""
           }
          },
          "title": {
           "x": 0.05
          },
          "xaxis": {
           "automargin": true,
           "gridcolor": "white",
           "linecolor": "white",
           "ticks": "",
           "title": {
            "standoff": 15
           },
           "zerolinecolor": "white",
           "zerolinewidth": 2
          },
          "yaxis": {
           "automargin": true,
           "gridcolor": "white",
           "linecolor": "white",
           "ticks": "",
           "title": {
            "standoff": 15
           },
           "zerolinecolor": "white",
           "zerolinewidth": 2
          }
         }
        },
        "xaxis": {
         "anchor": "y",
         "domain": [
          0,
          1
         ],
         "title": {
          "text": "spec"
         }
        },
        "yaxis": {
         "anchor": "x",
         "domain": [
          0,
          1
         ],
         "title": {
          "text": "scale"
         }
        }
       }
      }
     },
     "metadata": {},
     "output_type": "display_data"
    }
   ],
   "source": [
    "px.line(plt01, x=plt01.index, y='scale')"
   ]
  },
  {
   "cell_type": "markdown",
   "metadata": {},
   "source": [
    "- 위 그래프 토대로 생산 수 10개 이상의 SPEC을 추려 분석\n",
    "- 19개의 규격이 전체 생산량의 약 78%를 차지\n",
    "- 19개에 대한 근거+(파이차트)"
   ]
  },
  {
   "cell_type": "code",
   "execution_count": 13,
   "metadata": {},
   "outputs": [
    {
     "data": {
      "image/png": "[encoded data removed]",
      "text/plain": [
       "<Figure size 1080x504 with 1 Axes>"
      ]
     },
     "metadata": {
      "image/png": {
       "height": 484,
       "width": 869
      },
      "needs_background": "light"
     },
     "output_type": "display_data"
    }
   ],
   "source": [
    "#Stacked Bar 차트\n",
    "\n",
    "labels = spec_2['spec']\n",
    "x1 = spec_2['0']\n",
    "x2 = spec_2['1']\n",
    "width = 0.35       # the width of the bars: can also be len(x) sequence\n",
    "\n",
    "fig, ax = plt.subplots(figsize=(15, 7))\n",
    "\n",
    "ax.bar(labels, x1, width, label='불량')\n",
    "ax.bar(labels, x2, width, bottom=x1, label='양품')\n",
    "#ax.set_xticklabels(labels, rotation=45)\n",
    "\n",
    "#ax.set_ylabel('Scores')\n",
    "ax.set_title('SPEC별 생산량과 불량 수')\n",
    "ax.legend()\n",
    "\n",
    "plt.style.use('ggplot')\n",
    "#plt.figure(figsize=(15,7))\n",
    "#plt.bar(bc1_labels, bc1_values, width=0.7)\n",
    "#plt.set_xlabel(fontsize=10)\n",
    "plt.xticks(rotation=90)\n",
    "plt.yticks(np.arange(0, 100, step=5))\n",
    "plt.margins(0.01)\n",
    "plt.grid(True, axis='y')\n",
    "plt.show()"
   ]
  },
  {
   "cell_type": "markdown",
   "metadata": {},
   "source": [
    "- 양품과 불량의 확률에 따라 두 그룹으로 나눈 뒤 분석하여 전체적인 불량율을 줄이는 분석이 목표\n",
    "- 불량율의 기준은 PILAC-BT33 규격을 설정. 5% 미만을 목표로 진행\n"
   ]
  },
  {
   "cell_type": "code",
   "execution_count": 14,
   "metadata": {},
   "outputs": [],
   "source": [
    "bt_01 = steel[steel['spec'] == 'PILAC-BT33']\n",
    "bt_bad = bt_01[bt_01['scale'] == 0]\n",
    "bt_good = bt_01[bt_01['scale'] == 1]"
   ]
  },
  {
   "cell_type": "code",
   "execution_count": 15,
   "metadata": {},
   "outputs": [
    {
     "data": {
      "text/plain": [
       "38"
      ]
     },
     "execution_count": 15,
     "metadata": {},
     "output_type": "execute_result"
    }
   ],
   "source": [
    "bt_good['plate_no'].count()"
   ]
  },
  {
   "cell_type": "code",
   "execution_count": 16,
   "metadata": {},
   "outputs": [
    {
     "data": {
      "text/plain": [
       "2"
      ]
     },
     "execution_count": 16,
     "metadata": {},
     "output_type": "execute_result"
    }
   ],
   "source": [
    "bt_bad['plate_no'].count()"
   ]
  },
  {
   "cell_type": "code",
   "execution_count": 17,
   "metadata": {},
   "outputs": [
    {
     "data": {
      "text/plain": [
       "95.0"
      ]
     },
     "execution_count": 17,
     "metadata": {},
     "output_type": "execute_result"
    }
   ],
   "source": [
    "38/40*100"
   ]
  },
  {
   "cell_type": "code",
   "execution_count": 18,
   "metadata": {},
   "outputs": [
    {
     "data": {
      "text/html": [
       "<div>\n",
       "<style scoped>\n",
       "    .dataframe tbody tr th:only-of-type {\n",
       "        vertical-align: middle;\n",
       "    }\n",
       "\n",
       "    .dataframe tbody tr th {\n",
       "        vertical-align: top;\n",
       "    }\n",
       "\n",
       "    .dataframe thead th {\n",
       "        text-align: right;\n",
       "    }\n",
       "</style>\n",
       "<table border=\"1\" class=\"dataframe\">\n",
       "  <thead>\n",
       "    <tr style=\"text-align: right;\">\n",
       "      <th></th>\n",
       "      <th>scale</th>\n",
       "    </tr>\n",
       "    <tr>\n",
       "      <th>spec</th>\n",
       "      <th></th>\n",
       "    </tr>\n",
       "  </thead>\n",
       "  <tbody>\n",
       "    <tr>\n",
       "      <th>JS-SM490YB</th>\n",
       "      <td>84</td>\n",
       "    </tr>\n",
       "    <tr>\n",
       "      <th>LR-A</th>\n",
       "      <td>54</td>\n",
       "    </tr>\n",
       "    <tr>\n",
       "      <th>NV-A</th>\n",
       "      <td>48</td>\n",
       "    </tr>\n",
       "    <tr>\n",
       "      <th>PILAC-BT33</th>\n",
       "      <td>40</td>\n",
       "    </tr>\n",
       "    <tr>\n",
       "      <th>BV-EH36-TM</th>\n",
       "      <td>35</td>\n",
       "    </tr>\n",
       "    <tr>\n",
       "      <th>LR-AH32</th>\n",
       "      <td>33</td>\n",
       "    </tr>\n",
       "    <tr>\n",
       "      <th>NV-A32</th>\n",
       "      <td>33</td>\n",
       "    </tr>\n",
       "    <tr>\n",
       "      <th>JS-SM490A</th>\n",
       "      <td>31</td>\n",
       "    </tr>\n",
       "    <tr>\n",
       "      <th>COMMON</th>\n",
       "      <td>28</td>\n",
       "    </tr>\n",
       "    <tr>\n",
       "      <th>BV-B</th>\n",
       "      <td>28</td>\n",
       "    </tr>\n",
       "    <tr>\n",
       "      <th>KR-A</th>\n",
       "      <td>27</td>\n",
       "    </tr>\n",
       "    <tr>\n",
       "      <th>SA283-C</th>\n",
       "      <td>21</td>\n",
       "    </tr>\n",
       "    <tr>\n",
       "      <th>JS-SS400</th>\n",
       "      <td>19</td>\n",
       "    </tr>\n",
       "    <tr>\n",
       "      <th>AB/EH36-TM</th>\n",
       "      <td>17</td>\n",
       "    </tr>\n",
       "    <tr>\n",
       "      <th>GL-E36-TM</th>\n",
       "      <td>16</td>\n",
       "    </tr>\n",
       "    <tr>\n",
       "      <th>BV-AH32</th>\n",
       "      <td>14</td>\n",
       "    </tr>\n",
       "    <tr>\n",
       "      <th>LR-B</th>\n",
       "      <td>13</td>\n",
       "    </tr>\n",
       "    <tr>\n",
       "      <th>NK-KA32</th>\n",
       "      <td>12</td>\n",
       "    </tr>\n",
       "    <tr>\n",
       "      <th>GL-A36-TM</th>\n",
       "      <td>11</td>\n",
       "    </tr>\n",
       "  </tbody>\n",
       "</table>\n",
       "</div>"
      ],
      "text/plain": [
       "            scale\n",
       "spec             \n",
       "JS-SM490YB     84\n",
       "LR-A           54\n",
       "NV-A           48\n",
       "PILAC-BT33     40\n",
       "BV-EH36-TM     35\n",
       "LR-AH32        33\n",
       "NV-A32         33\n",
       "JS-SM490A      31\n",
       "COMMON         28\n",
       "BV-B           28\n",
       "KR-A           27\n",
       "SA283-C        21\n",
       "JS-SS400       19\n",
       "AB/EH36-TM     17\n",
       "GL-E36-TM      16\n",
       "BV-AH32        14\n",
       "LR-B           13\n",
       "NK-KA32        12\n",
       "GL-A36-TM      11"
      ]
     },
     "execution_count": 18,
     "metadata": {},
     "output_type": "execute_result"
    }
   ],
   "source": [
    "sub = plt01[plt01['scale'] >= 10]\n",
    "sub"
   ]
  },
  {
   "cell_type": "code",
   "execution_count": 19,
   "metadata": {},
   "outputs": [
    {
     "name": "stdout",
     "output_type": "stream",
     "text": [
      "JS-SM490YB\n",
      "LR-A\n",
      "NV-A\n",
      "PILAC-BT33\n",
      "BV-EH36-TM\n",
      "LR-AH32\n",
      "NV-A32\n",
      "JS-SM490A\n",
      "COMMON\n",
      "BV-B\n",
      "KR-A\n",
      "SA283-C\n",
      "JS-SS400\n",
      "AB/EH36-TM\n",
      "GL-E36-TM\n",
      "BV-AH32\n",
      "LR-B\n",
      "NK-KA32\n",
      "GL-A36-TM\n"
     ]
    }
   ],
   "source": [
    "name = sub.index\n",
    "name=pd.Series(name)\n",
    "name\n",
    "for i in name:\n",
    "    print(i)"
   ]
  },
  {
   "cell_type": "code",
   "execution_count": 20,
   "metadata": {},
   "outputs": [
    {
     "data": {
      "text/html": [
       "<div>\n",
       "<style scoped>\n",
       "    .dataframe tbody tr th:only-of-type {\n",
       "        vertical-align: middle;\n",
       "    }\n",
       "\n",
       "    .dataframe tbody tr th {\n",
       "        vertical-align: top;\n",
       "    }\n",
       "\n",
       "    .dataframe thead th {\n",
       "        text-align: right;\n",
       "    }\n",
       "</style>\n",
       "<table border=\"1\" class=\"dataframe\">\n",
       "  <thead>\n",
       "    <tr style=\"text-align: right;\">\n",
       "      <th></th>\n",
       "      <th>unnamed: 0</th>\n",
       "      <th>plate_no</th>\n",
       "      <th>rolling_date</th>\n",
       "      <th>scale</th>\n",
       "      <th>spec</th>\n",
       "      <th>steel_kind</th>\n",
       "      <th>pt_thk</th>\n",
       "      <th>pt_wdth</th>\n",
       "      <th>pt_lth</th>\n",
       "      <th>pt_wgt</th>\n",
       "      <th>...</th>\n",
       "      <th>fur_no_row</th>\n",
       "      <th>fur_hz_temp</th>\n",
       "      <th>fur_hz_time</th>\n",
       "      <th>fur_sz_temp</th>\n",
       "      <th>fur_sz_time</th>\n",
       "      <th>fur_time</th>\n",
       "      <th>rolling_temp_t5</th>\n",
       "      <th>hsb</th>\n",
       "      <th>rolling_descaling</th>\n",
       "      <th>work_gr</th>\n",
       "    </tr>\n",
       "  </thead>\n",
       "  <tbody>\n",
       "    <tr>\n",
       "      <th>0</th>\n",
       "      <td>93</td>\n",
       "      <td>PB562867</td>\n",
       "      <td>2008-08-01:05:54:26</td>\n",
       "      <td>1</td>\n",
       "      <td>JS-SM490YB</td>\n",
       "      <td>C0</td>\n",
       "      <td>14.09</td>\n",
       "      <td>3284</td>\n",
       "      <td>51234</td>\n",
       "      <td>93050</td>\n",
       "      <td>...</td>\n",
       "      <td>1</td>\n",
       "      <td>1140</td>\n",
       "      <td>80</td>\n",
       "      <td>1131</td>\n",
       "      <td>117</td>\n",
       "      <td>352</td>\n",
       "      <td>915</td>\n",
       "      <td>1</td>\n",
       "      <td>10</td>\n",
       "      <td>2조</td>\n",
       "    </tr>\n",
       "    <tr>\n",
       "      <th>1</th>\n",
       "      <td>94</td>\n",
       "      <td>PB562868</td>\n",
       "      <td>2008-08-01:05:55:53</td>\n",
       "      <td>1</td>\n",
       "      <td>JS-SM490YB</td>\n",
       "      <td>C0</td>\n",
       "      <td>14.09</td>\n",
       "      <td>3284</td>\n",
       "      <td>51234</td>\n",
       "      <td>93050</td>\n",
       "      <td>...</td>\n",
       "      <td>2</td>\n",
       "      <td>1142</td>\n",
       "      <td>74</td>\n",
       "      <td>1132</td>\n",
       "      <td>123</td>\n",
       "      <td>353</td>\n",
       "      <td>923</td>\n",
       "      <td>1</td>\n",
       "      <td>10</td>\n",
       "      <td>4조</td>\n",
       "    </tr>\n",
       "    <tr>\n",
       "      <th>2</th>\n",
       "      <td>95</td>\n",
       "      <td>PB562869</td>\n",
       "      <td>2008-08-01:05:55:44</td>\n",
       "      <td>1</td>\n",
       "      <td>JS-SM490YB</td>\n",
       "      <td>C0</td>\n",
       "      <td>14.09</td>\n",
       "      <td>3284</td>\n",
       "      <td>51234</td>\n",
       "      <td>93050</td>\n",
       "      <td>...</td>\n",
       "      <td>1</td>\n",
       "      <td>1142</td>\n",
       "      <td>75</td>\n",
       "      <td>1131</td>\n",
       "      <td>122</td>\n",
       "      <td>353</td>\n",
       "      <td>913</td>\n",
       "      <td>1</td>\n",
       "      <td>10</td>\n",
       "      <td>1조</td>\n",
       "    </tr>\n",
       "    <tr>\n",
       "      <th>3</th>\n",
       "      <td>98</td>\n",
       "      <td>PB562872</td>\n",
       "      <td>2008-08-01:06:60:50</td>\n",
       "      <td>1</td>\n",
       "      <td>JS-SM490YB</td>\n",
       "      <td>C0</td>\n",
       "      <td>14.09</td>\n",
       "      <td>3284</td>\n",
       "      <td>51234</td>\n",
       "      <td>93050</td>\n",
       "      <td>...</td>\n",
       "      <td>1</td>\n",
       "      <td>1143</td>\n",
       "      <td>65</td>\n",
       "      <td>1136</td>\n",
       "      <td>118</td>\n",
       "      <td>354</td>\n",
       "      <td>955</td>\n",
       "      <td>1</td>\n",
       "      <td>10</td>\n",
       "      <td>3조</td>\n",
       "    </tr>\n",
       "    <tr>\n",
       "      <th>4</th>\n",
       "      <td>99</td>\n",
       "      <td>PB562873</td>\n",
       "      <td>2008-08-01:06:60:13</td>\n",
       "      <td>1</td>\n",
       "      <td>JS-SM490YB</td>\n",
       "      <td>C0</td>\n",
       "      <td>14.09</td>\n",
       "      <td>3284</td>\n",
       "      <td>49142</td>\n",
       "      <td>89250</td>\n",
       "      <td>...</td>\n",
       "      <td>2</td>\n",
       "      <td>1140</td>\n",
       "      <td>65</td>\n",
       "      <td>1136</td>\n",
       "      <td>119</td>\n",
       "      <td>355</td>\n",
       "      <td>955</td>\n",
       "      <td>1</td>\n",
       "      <td>10</td>\n",
       "      <td>3조</td>\n",
       "    </tr>\n",
       "    <tr>\n",
       "      <th>...</th>\n",
       "      <td>...</td>\n",
       "      <td>...</td>\n",
       "      <td>...</td>\n",
       "      <td>...</td>\n",
       "      <td>...</td>\n",
       "      <td>...</td>\n",
       "      <td>...</td>\n",
       "      <td>...</td>\n",
       "      <td>...</td>\n",
       "      <td>...</td>\n",
       "      <td>...</td>\n",
       "      <td>...</td>\n",
       "      <td>...</td>\n",
       "      <td>...</td>\n",
       "      <td>...</td>\n",
       "      <td>...</td>\n",
       "      <td>...</td>\n",
       "      <td>...</td>\n",
       "      <td>...</td>\n",
       "      <td>...</td>\n",
       "      <td>...</td>\n",
       "    </tr>\n",
       "    <tr>\n",
       "      <th>559</th>\n",
       "      <td>440</td>\n",
       "      <td>PB563214</td>\n",
       "      <td>2008-08-01:21:12:16</td>\n",
       "      <td>1</td>\n",
       "      <td>GL-A36-TM</td>\n",
       "      <td>T7</td>\n",
       "      <td>40.35</td>\n",
       "      <td>3081</td>\n",
       "      <td>23209</td>\n",
       "      <td>67950</td>\n",
       "      <td>...</td>\n",
       "      <td>1</td>\n",
       "      <td>1174</td>\n",
       "      <td>104</td>\n",
       "      <td>1134</td>\n",
       "      <td>85</td>\n",
       "      <td>307</td>\n",
       "      <td>819</td>\n",
       "      <td>1</td>\n",
       "      <td>6</td>\n",
       "      <td>2조</td>\n",
       "    </tr>\n",
       "    <tr>\n",
       "      <th>560</th>\n",
       "      <td>441</td>\n",
       "      <td>PB563215</td>\n",
       "      <td>2008-08-01:21:13:39</td>\n",
       "      <td>1</td>\n",
       "      <td>GL-A36-TM</td>\n",
       "      <td>T7</td>\n",
       "      <td>40.35</td>\n",
       "      <td>3081</td>\n",
       "      <td>23209</td>\n",
       "      <td>67950</td>\n",
       "      <td>...</td>\n",
       "      <td>2</td>\n",
       "      <td>1159</td>\n",
       "      <td>87</td>\n",
       "      <td>1131</td>\n",
       "      <td>106</td>\n",
       "      <td>304</td>\n",
       "      <td>816</td>\n",
       "      <td>1</td>\n",
       "      <td>6</td>\n",
       "      <td>1조</td>\n",
       "    </tr>\n",
       "    <tr>\n",
       "      <th>561</th>\n",
       "      <td>444</td>\n",
       "      <td>PB563218</td>\n",
       "      <td>2008-08-01:21:15:56</td>\n",
       "      <td>1</td>\n",
       "      <td>GL-A36-TM</td>\n",
       "      <td>T7</td>\n",
       "      <td>40.35</td>\n",
       "      <td>2511</td>\n",
       "      <td>22669</td>\n",
       "      <td>36060</td>\n",
       "      <td>...</td>\n",
       "      <td>2</td>\n",
       "      <td>1174</td>\n",
       "      <td>91</td>\n",
       "      <td>1118</td>\n",
       "      <td>135</td>\n",
       "      <td>339</td>\n",
       "      <td>815</td>\n",
       "      <td>1</td>\n",
       "      <td>6</td>\n",
       "      <td>4조</td>\n",
       "    </tr>\n",
       "    <tr>\n",
       "      <th>562</th>\n",
       "      <td>448</td>\n",
       "      <td>PB563222</td>\n",
       "      <td>2008-08-01:22:21:01</td>\n",
       "      <td>1</td>\n",
       "      <td>GL-A36-TM</td>\n",
       "      <td>T7</td>\n",
       "      <td>40.35</td>\n",
       "      <td>2511</td>\n",
       "      <td>22669</td>\n",
       "      <td>36060</td>\n",
       "      <td>...</td>\n",
       "      <td>1</td>\n",
       "      <td>1178</td>\n",
       "      <td>90</td>\n",
       "      <td>1127</td>\n",
       "      <td>138</td>\n",
       "      <td>333</td>\n",
       "      <td>745</td>\n",
       "      <td>1</td>\n",
       "      <td>6</td>\n",
       "      <td>3조</td>\n",
       "    </tr>\n",
       "    <tr>\n",
       "      <th>563</th>\n",
       "      <td>499</td>\n",
       "      <td>PB563273</td>\n",
       "      <td>2008-08-02:02:20:47</td>\n",
       "      <td>1</td>\n",
       "      <td>GL-A36-TM</td>\n",
       "      <td>T7</td>\n",
       "      <td>40.35</td>\n",
       "      <td>3229</td>\n",
       "      <td>15692</td>\n",
       "      <td>32100</td>\n",
       "      <td>...</td>\n",
       "      <td>1</td>\n",
       "      <td>1135</td>\n",
       "      <td>100</td>\n",
       "      <td>1113</td>\n",
       "      <td>109</td>\n",
       "      <td>342</td>\n",
       "      <td>815</td>\n",
       "      <td>1</td>\n",
       "      <td>6</td>\n",
       "      <td>3조</td>\n",
       "    </tr>\n",
       "  </tbody>\n",
       "</table>\n",
       "<p>564 rows × 21 columns</p>\n",
       "</div>"
      ],
      "text/plain": [
       "     unnamed: 0  plate_no         rolling_date  scale        spec steel_kind  \\\n",
       "0            93  PB562867  2008-08-01:05:54:26      1  JS-SM490YB         C0   \n",
       "1            94  PB562868  2008-08-01:05:55:53      1  JS-SM490YB         C0   \n",
       "2            95  PB562869  2008-08-01:05:55:44      1  JS-SM490YB         C0   \n",
       "3            98  PB562872  2008-08-01:06:60:50      1  JS-SM490YB         C0   \n",
       "4            99  PB562873  2008-08-01:06:60:13      1  JS-SM490YB         C0   \n",
       "..          ...       ...                  ...    ...         ...        ...   \n",
       "559         440  PB563214  2008-08-01:21:12:16      1   GL-A36-TM         T7   \n",
       "560         441  PB563215  2008-08-01:21:13:39      1   GL-A36-TM         T7   \n",
       "561         444  PB563218  2008-08-01:21:15:56      1   GL-A36-TM         T7   \n",
       "562         448  PB563222  2008-08-01:22:21:01      1   GL-A36-TM         T7   \n",
       "563         499  PB563273  2008-08-02:02:20:47      1   GL-A36-TM         T7   \n",
       "\n",
       "     pt_thk  pt_wdth  pt_lth  pt_wgt  ... fur_no_row  fur_hz_temp  \\\n",
       "0     14.09     3284   51234   93050  ...          1         1140   \n",
       "1     14.09     3284   51234   93050  ...          2         1142   \n",
       "2     14.09     3284   51234   93050  ...          1         1142   \n",
       "3     14.09     3284   51234   93050  ...          1         1143   \n",
       "4     14.09     3284   49142   89250  ...          2         1140   \n",
       "..      ...      ...     ...     ...  ...        ...          ...   \n",
       "559   40.35     3081   23209   67950  ...          1         1174   \n",
       "560   40.35     3081   23209   67950  ...          2         1159   \n",
       "561   40.35     2511   22669   36060  ...          2         1174   \n",
       "562   40.35     2511   22669   36060  ...          1         1178   \n",
       "563   40.35     3229   15692   32100  ...          1         1135   \n",
       "\n",
       "     fur_hz_time  fur_sz_temp  fur_sz_time  fur_time  rolling_temp_t5  hsb  \\\n",
       "0             80         1131          117       352              915    1   \n",
       "1             74         1132          123       353              923    1   \n",
       "2             75         1131          122       353              913    1   \n",
       "3             65         1136          118       354              955    1   \n",
       "4             65         1136          119       355              955    1   \n",
       "..           ...          ...          ...       ...              ...  ...   \n",
       "559          104         1134           85       307              819    1   \n",
       "560           87         1131          106       304              816    1   \n",
       "561           91         1118          135       339              815    1   \n",
       "562           90         1127          138       333              745    1   \n",
       "563          100         1113          109       342              815    1   \n",
       "\n",
       "     rolling_descaling  work_gr  \n",
       "0                   10       2조  \n",
       "1                   10       4조  \n",
       "2                   10       1조  \n",
       "3                   10       3조  \n",
       "4                   10       3조  \n",
       "..                 ...      ...  \n",
       "559                  6       2조  \n",
       "560                  6       1조  \n",
       "561                  6       4조  \n",
       "562                  6       3조  \n",
       "563                  6       3조  \n",
       "\n",
       "[564 rows x 21 columns]"
      ]
     },
     "execution_count": 20,
     "metadata": {},
     "output_type": "execute_result"
    }
   ],
   "source": [
    "main = pd.DataFrame()\n",
    "\n",
    "for i in name:\n",
    "    main = pd.concat([main,steel[steel['spec'] == i]], ignore_index=True)\n",
    "main"
   ]
  },
  {
   "cell_type": "code",
   "execution_count": 21,
   "metadata": {},
   "outputs": [
    {
     "data": {
      "text/html": [
       "<div>\n",
       "<style scoped>\n",
       "    .dataframe tbody tr th:only-of-type {\n",
       "        vertical-align: middle;\n",
       "    }\n",
       "\n",
       "    .dataframe tbody tr th {\n",
       "        vertical-align: top;\n",
       "    }\n",
       "\n",
       "    .dataframe thead th {\n",
       "        text-align: right;\n",
       "    }\n",
       "</style>\n",
       "<table border=\"1\" class=\"dataframe\">\n",
       "  <thead>\n",
       "    <tr style=\"text-align: right;\">\n",
       "      <th></th>\n",
       "      <th>plate_no</th>\n",
       "      <th>scale</th>\n",
       "      <th>spec</th>\n",
       "      <th>steel_kind</th>\n",
       "      <th>pt_thk</th>\n",
       "      <th>pt_wdth</th>\n",
       "      <th>pt_lth</th>\n",
       "      <th>pt_wgt</th>\n",
       "      <th>fur_hz_temp</th>\n",
       "      <th>fur_hz_time</th>\n",
       "      <th>fur_sz_temp</th>\n",
       "      <th>fur_sz_time</th>\n",
       "      <th>fur_time</th>\n",
       "      <th>rolling_temp_t5</th>\n",
       "      <th>hsb</th>\n",
       "      <th>rolling_descaling</th>\n",
       "    </tr>\n",
       "  </thead>\n",
       "  <tbody>\n",
       "    <tr>\n",
       "      <th>0</th>\n",
       "      <td>PB562867</td>\n",
       "      <td>1</td>\n",
       "      <td>JS-SM490YB</td>\n",
       "      <td>C0</td>\n",
       "      <td>14.09</td>\n",
       "      <td>3284</td>\n",
       "      <td>51234</td>\n",
       "      <td>93050</td>\n",
       "      <td>1140</td>\n",
       "      <td>80</td>\n",
       "      <td>1131</td>\n",
       "      <td>117</td>\n",
       "      <td>352</td>\n",
       "      <td>915</td>\n",
       "      <td>1</td>\n",
       "      <td>10</td>\n",
       "    </tr>\n",
       "    <tr>\n",
       "      <th>1</th>\n",
       "      <td>PB562868</td>\n",
       "      <td>1</td>\n",
       "      <td>JS-SM490YB</td>\n",
       "      <td>C0</td>\n",
       "      <td>14.09</td>\n",
       "      <td>3284</td>\n",
       "      <td>51234</td>\n",
       "      <td>93050</td>\n",
       "      <td>1142</td>\n",
       "      <td>74</td>\n",
       "      <td>1132</td>\n",
       "      <td>123</td>\n",
       "      <td>353</td>\n",
       "      <td>923</td>\n",
       "      <td>1</td>\n",
       "      <td>10</td>\n",
       "    </tr>\n",
       "    <tr>\n",
       "      <th>2</th>\n",
       "      <td>PB562869</td>\n",
       "      <td>1</td>\n",
       "      <td>JS-SM490YB</td>\n",
       "      <td>C0</td>\n",
       "      <td>14.09</td>\n",
       "      <td>3284</td>\n",
       "      <td>51234</td>\n",
       "      <td>93050</td>\n",
       "      <td>1142</td>\n",
       "      <td>75</td>\n",
       "      <td>1131</td>\n",
       "      <td>122</td>\n",
       "      <td>353</td>\n",
       "      <td>913</td>\n",
       "      <td>1</td>\n",
       "      <td>10</td>\n",
       "    </tr>\n",
       "    <tr>\n",
       "      <th>3</th>\n",
       "      <td>PB562872</td>\n",
       "      <td>1</td>\n",
       "      <td>JS-SM490YB</td>\n",
       "      <td>C0</td>\n",
       "      <td>14.09</td>\n",
       "      <td>3284</td>\n",
       "      <td>51234</td>\n",
       "      <td>93050</td>\n",
       "      <td>1143</td>\n",
       "      <td>65</td>\n",
       "      <td>1136</td>\n",
       "      <td>118</td>\n",
       "      <td>354</td>\n",
       "      <td>955</td>\n",
       "      <td>1</td>\n",
       "      <td>10</td>\n",
       "    </tr>\n",
       "    <tr>\n",
       "      <th>4</th>\n",
       "      <td>PB562873</td>\n",
       "      <td>1</td>\n",
       "      <td>JS-SM490YB</td>\n",
       "      <td>C0</td>\n",
       "      <td>14.09</td>\n",
       "      <td>3284</td>\n",
       "      <td>49142</td>\n",
       "      <td>89250</td>\n",
       "      <td>1140</td>\n",
       "      <td>65</td>\n",
       "      <td>1136</td>\n",
       "      <td>119</td>\n",
       "      <td>355</td>\n",
       "      <td>955</td>\n",
       "      <td>1</td>\n",
       "      <td>10</td>\n",
       "    </tr>\n",
       "    <tr>\n",
       "      <th>...</th>\n",
       "      <td>...</td>\n",
       "      <td>...</td>\n",
       "      <td>...</td>\n",
       "      <td>...</td>\n",
       "      <td>...</td>\n",
       "      <td>...</td>\n",
       "      <td>...</td>\n",
       "      <td>...</td>\n",
       "      <td>...</td>\n",
       "      <td>...</td>\n",
       "      <td>...</td>\n",
       "      <td>...</td>\n",
       "      <td>...</td>\n",
       "      <td>...</td>\n",
       "      <td>...</td>\n",
       "      <td>...</td>\n",
       "    </tr>\n",
       "    <tr>\n",
       "      <th>559</th>\n",
       "      <td>PB563214</td>\n",
       "      <td>1</td>\n",
       "      <td>GL-A36-TM</td>\n",
       "      <td>T7</td>\n",
       "      <td>40.35</td>\n",
       "      <td>3081</td>\n",
       "      <td>23209</td>\n",
       "      <td>67950</td>\n",
       "      <td>1174</td>\n",
       "      <td>104</td>\n",
       "      <td>1134</td>\n",
       "      <td>85</td>\n",
       "      <td>307</td>\n",
       "      <td>819</td>\n",
       "      <td>1</td>\n",
       "      <td>6</td>\n",
       "    </tr>\n",
       "    <tr>\n",
       "      <th>560</th>\n",
       "      <td>PB563215</td>\n",
       "      <td>1</td>\n",
       "      <td>GL-A36-TM</td>\n",
       "      <td>T7</td>\n",
       "      <td>40.35</td>\n",
       "      <td>3081</td>\n",
       "      <td>23209</td>\n",
       "      <td>67950</td>\n",
       "      <td>1159</td>\n",
       "      <td>87</td>\n",
       "      <td>1131</td>\n",
       "      <td>106</td>\n",
       "      <td>304</td>\n",
       "      <td>816</td>\n",
       "      <td>1</td>\n",
       "      <td>6</td>\n",
       "    </tr>\n",
       "    <tr>\n",
       "      <th>561</th>\n",
       "      <td>PB563218</td>\n",
       "      <td>1</td>\n",
       "      <td>GL-A36-TM</td>\n",
       "      <td>T7</td>\n",
       "      <td>40.35</td>\n",
       "      <td>2511</td>\n",
       "      <td>22669</td>\n",
       "      <td>36060</td>\n",
       "      <td>1174</td>\n",
       "      <td>91</td>\n",
       "      <td>1118</td>\n",
       "      <td>135</td>\n",
       "      <td>339</td>\n",
       "      <td>815</td>\n",
       "      <td>1</td>\n",
       "      <td>6</td>\n",
       "    </tr>\n",
       "    <tr>\n",
       "      <th>562</th>\n",
       "      <td>PB563222</td>\n",
       "      <td>1</td>\n",
       "      <td>GL-A36-TM</td>\n",
       "      <td>T7</td>\n",
       "      <td>40.35</td>\n",
       "      <td>2511</td>\n",
       "      <td>22669</td>\n",
       "      <td>36060</td>\n",
       "      <td>1178</td>\n",
       "      <td>90</td>\n",
       "      <td>1127</td>\n",
       "      <td>138</td>\n",
       "      <td>333</td>\n",
       "      <td>745</td>\n",
       "      <td>1</td>\n",
       "      <td>6</td>\n",
       "    </tr>\n",
       "    <tr>\n",
       "      <th>563</th>\n",
       "      <td>PB563273</td>\n",
       "      <td>1</td>\n",
       "      <td>GL-A36-TM</td>\n",
       "      <td>T7</td>\n",
       "      <td>40.35</td>\n",
       "      <td>3229</td>\n",
       "      <td>15692</td>\n",
       "      <td>32100</td>\n",
       "      <td>1135</td>\n",
       "      <td>100</td>\n",
       "      <td>1113</td>\n",
       "      <td>109</td>\n",
       "      <td>342</td>\n",
       "      <td>815</td>\n",
       "      <td>1</td>\n",
       "      <td>6</td>\n",
       "    </tr>\n",
       "  </tbody>\n",
       "</table>\n",
       "<p>564 rows × 16 columns</p>\n",
       "</div>"
      ],
      "text/plain": [
       "     plate_no  scale        spec steel_kind  pt_thk  pt_wdth  pt_lth  pt_wgt  \\\n",
       "0    PB562867      1  JS-SM490YB         C0   14.09     3284   51234   93050   \n",
       "1    PB562868      1  JS-SM490YB         C0   14.09     3284   51234   93050   \n",
       "2    PB562869      1  JS-SM490YB         C0   14.09     3284   51234   93050   \n",
       "3    PB562872      1  JS-SM490YB         C0   14.09     3284   51234   93050   \n",
       "4    PB562873      1  JS-SM490YB         C0   14.09     3284   49142   89250   \n",
       "..        ...    ...         ...        ...     ...      ...     ...     ...   \n",
       "559  PB563214      1   GL-A36-TM         T7   40.35     3081   23209   67950   \n",
       "560  PB563215      1   GL-A36-TM         T7   40.35     3081   23209   67950   \n",
       "561  PB563218      1   GL-A36-TM         T7   40.35     2511   22669   36060   \n",
       "562  PB563222      1   GL-A36-TM         T7   40.35     2511   22669   36060   \n",
       "563  PB563273      1   GL-A36-TM         T7   40.35     3229   15692   32100   \n",
       "\n",
       "     fur_hz_temp  fur_hz_time  fur_sz_temp  fur_sz_time  fur_time  \\\n",
       "0           1140           80         1131          117       352   \n",
       "1           1142           74         1132          123       353   \n",
       "2           1142           75         1131          122       353   \n",
       "3           1143           65         1136          118       354   \n",
       "4           1140           65         1136          119       355   \n",
       "..           ...          ...          ...          ...       ...   \n",
       "559         1174          104         1134           85       307   \n",
       "560         1159           87         1131          106       304   \n",
       "561         1174           91         1118          135       339   \n",
       "562         1178           90         1127          138       333   \n",
       "563         1135          100         1113          109       342   \n",
       "\n",
       "     rolling_temp_t5  hsb  rolling_descaling  \n",
       "0                915    1                 10  \n",
       "1                923    1                 10  \n",
       "2                913    1                 10  \n",
       "3                955    1                 10  \n",
       "4                955    1                 10  \n",
       "..               ...  ...                ...  \n",
       "559              819    1                  6  \n",
       "560              816    1                  6  \n",
       "561              815    1                  6  \n",
       "562              745    1                  6  \n",
       "563              815    1                  6  \n",
       "\n",
       "[564 rows x 16 columns]"
      ]
     },
     "execution_count": 21,
     "metadata": {},
     "output_type": "execute_result"
    }
   ],
   "source": [
    "main_01 = main.drop(['unnamed: 0','rolling_date','fur_no','fur_no_row','work_gr'], axis=1)\n",
    "main_01"
   ]
  },
  {
   "cell_type": "code",
   "execution_count": 22,
   "metadata": {},
   "outputs": [
    {
     "data": {
      "text/plain": [
       "19"
      ]
     },
     "execution_count": 22,
     "metadata": {},
     "output_type": "execute_result"
    }
   ],
   "source": [
    "main_01['spec'].nunique()"
   ]
  },
  {
   "cell_type": "code",
   "execution_count": 23,
   "metadata": {},
   "outputs": [
    {
     "data": {
      "text/html": [
       "<div>\n",
       "<style scoped>\n",
       "    .dataframe tbody tr th:only-of-type {\n",
       "        vertical-align: middle;\n",
       "    }\n",
       "\n",
       "    .dataframe tbody tr th {\n",
       "        vertical-align: top;\n",
       "    }\n",
       "\n",
       "    .dataframe thead th {\n",
       "        text-align: right;\n",
       "    }\n",
       "</style>\n",
       "<table border=\"1\" class=\"dataframe\">\n",
       "  <thead>\n",
       "    <tr style=\"text-align: right;\">\n",
       "      <th></th>\n",
       "      <th>steel_kind</th>\n",
       "      <th>spec</th>\n",
       "      <th>plate_no</th>\n",
       "    </tr>\n",
       "  </thead>\n",
       "  <tbody>\n",
       "    <tr>\n",
       "      <th>0</th>\n",
       "      <td>C0</td>\n",
       "      <td>BV-AH32</td>\n",
       "      <td>14</td>\n",
       "    </tr>\n",
       "    <tr>\n",
       "      <th>1</th>\n",
       "      <td>C0</td>\n",
       "      <td>BV-B</td>\n",
       "      <td>28</td>\n",
       "    </tr>\n",
       "    <tr>\n",
       "      <th>2</th>\n",
       "      <td>C0</td>\n",
       "      <td>JS-SM490A</td>\n",
       "      <td>31</td>\n",
       "    </tr>\n",
       "    <tr>\n",
       "      <th>3</th>\n",
       "      <td>C0</td>\n",
       "      <td>JS-SM490YB</td>\n",
       "      <td>84</td>\n",
       "    </tr>\n",
       "    <tr>\n",
       "      <th>4</th>\n",
       "      <td>C0</td>\n",
       "      <td>JS-SS400</td>\n",
       "      <td>18</td>\n",
       "    </tr>\n",
       "    <tr>\n",
       "      <th>5</th>\n",
       "      <td>C0</td>\n",
       "      <td>KR-A</td>\n",
       "      <td>27</td>\n",
       "    </tr>\n",
       "    <tr>\n",
       "      <th>6</th>\n",
       "      <td>C0</td>\n",
       "      <td>LR-A</td>\n",
       "      <td>54</td>\n",
       "    </tr>\n",
       "    <tr>\n",
       "      <th>7</th>\n",
       "      <td>C0</td>\n",
       "      <td>LR-AH32</td>\n",
       "      <td>32</td>\n",
       "    </tr>\n",
       "    <tr>\n",
       "      <th>8</th>\n",
       "      <td>C0</td>\n",
       "      <td>LR-B</td>\n",
       "      <td>13</td>\n",
       "    </tr>\n",
       "    <tr>\n",
       "      <th>9</th>\n",
       "      <td>C0</td>\n",
       "      <td>NK-KA32</td>\n",
       "      <td>12</td>\n",
       "    </tr>\n",
       "    <tr>\n",
       "      <th>10</th>\n",
       "      <td>C0</td>\n",
       "      <td>NV-A</td>\n",
       "      <td>48</td>\n",
       "    </tr>\n",
       "    <tr>\n",
       "      <th>11</th>\n",
       "      <td>C0</td>\n",
       "      <td>NV-A32</td>\n",
       "      <td>33</td>\n",
       "    </tr>\n",
       "    <tr>\n",
       "      <th>12</th>\n",
       "      <td>C0</td>\n",
       "      <td>SA283-C</td>\n",
       "      <td>21</td>\n",
       "    </tr>\n",
       "    <tr>\n",
       "      <th>13</th>\n",
       "      <td>C1</td>\n",
       "      <td>JS-SS400</td>\n",
       "      <td>1</td>\n",
       "    </tr>\n",
       "    <tr>\n",
       "      <th>14</th>\n",
       "      <td>C3</td>\n",
       "      <td>LR-AH32</td>\n",
       "      <td>1</td>\n",
       "    </tr>\n",
       "    <tr>\n",
       "      <th>15</th>\n",
       "      <td>T0</td>\n",
       "      <td>COMMON</td>\n",
       "      <td>1</td>\n",
       "    </tr>\n",
       "    <tr>\n",
       "      <th>16</th>\n",
       "      <td>T1</td>\n",
       "      <td>COMMON</td>\n",
       "      <td>6</td>\n",
       "    </tr>\n",
       "    <tr>\n",
       "      <th>17</th>\n",
       "      <td>T5</td>\n",
       "      <td>PILAC-BT33</td>\n",
       "      <td>40</td>\n",
       "    </tr>\n",
       "    <tr>\n",
       "      <th>18</th>\n",
       "      <td>T7</td>\n",
       "      <td>COMMON</td>\n",
       "      <td>1</td>\n",
       "    </tr>\n",
       "    <tr>\n",
       "      <th>19</th>\n",
       "      <td>T7</td>\n",
       "      <td>GL-A36-TM</td>\n",
       "      <td>11</td>\n",
       "    </tr>\n",
       "    <tr>\n",
       "      <th>20</th>\n",
       "      <td>T8</td>\n",
       "      <td>AB/EH36-TM</td>\n",
       "      <td>17</td>\n",
       "    </tr>\n",
       "    <tr>\n",
       "      <th>21</th>\n",
       "      <td>T8</td>\n",
       "      <td>BV-EH36-TM</td>\n",
       "      <td>35</td>\n",
       "    </tr>\n",
       "    <tr>\n",
       "      <th>22</th>\n",
       "      <td>T8</td>\n",
       "      <td>COMMON</td>\n",
       "      <td>20</td>\n",
       "    </tr>\n",
       "    <tr>\n",
       "      <th>23</th>\n",
       "      <td>T8</td>\n",
       "      <td>GL-E36-TM</td>\n",
       "      <td>16</td>\n",
       "    </tr>\n",
       "  </tbody>\n",
       "</table>\n",
       "</div>"
      ],
      "text/plain": [
       "   steel_kind        spec  plate_no\n",
       "0          C0     BV-AH32        14\n",
       "1          C0        BV-B        28\n",
       "2          C0   JS-SM490A        31\n",
       "3          C0  JS-SM490YB        84\n",
       "4          C0    JS-SS400        18\n",
       "5          C0        KR-A        27\n",
       "6          C0        LR-A        54\n",
       "7          C0     LR-AH32        32\n",
       "8          C0        LR-B        13\n",
       "9          C0     NK-KA32        12\n",
       "10         C0        NV-A        48\n",
       "11         C0      NV-A32        33\n",
       "12         C0     SA283-C        21\n",
       "13         C1    JS-SS400         1\n",
       "14         C3     LR-AH32         1\n",
       "15         T0      COMMON         1\n",
       "16         T1      COMMON         6\n",
       "17         T5  PILAC-BT33        40\n",
       "18         T7      COMMON         1\n",
       "19         T7   GL-A36-TM        11\n",
       "20         T8  AB/EH36-TM        17\n",
       "21         T8  BV-EH36-TM        35\n",
       "22         T8      COMMON        20\n",
       "23         T8   GL-E36-TM        16"
      ]
     },
     "execution_count": 23,
     "metadata": {},
     "output_type": "execute_result"
    }
   ],
   "source": [
    "group_01=main_01.groupby(['steel_kind','spec'], as_index=False)[['plate_no']].count()\n",
    "group_01"
   ]
  },
  {
   "cell_type": "code",
   "execution_count": 24,
   "metadata": {},
   "outputs": [
    {
     "data": {
      "application/vnd.plotly.v1+json": {
       "config": {
        "plotlyServerURL": "https://plot.ly"
       },
       "data": [
        {
         "alignmentgroup": "True",
         "hovertemplate": "spec=BV-AH32<br>steel_kind=%{x}<br>plate_no=%{y}<extra></extra>",
         "legendgroup": "BV-AH32",
         "marker": {
          "color": "#636efa",
          "pattern": {
           "shape": ""
          }
         },
         "name": "BV-AH32",
         "offsetgroup": "BV-AH32",
         "orientation": "v",
         "showlegend": true,
         "textposition": "auto",
         "type": "bar",
         "x": [
          "C0"
         ],
         "xaxis": "x",
         "y": [
          14
         ],
         "yaxis": "y"
        },
        {
         "alignmentgroup": "True",
         "hovertemplate": "spec=BV-B<br>steel_kind=%{x}<br>plate_no=%{y}<extra></extra>",
         "legendgroup": "BV-B",
         "marker": {
          "color": "#EF553B",
          "pattern": {
           "shape": ""
          }
         },
         "name": "BV-B",
         "offsetgroup": "BV-B",
         "orientation": "v",
         "showlegend": true,
         "textposition": "auto",
         "type": "bar",
         "x": [
          "C0"
         ],
         "xaxis": "x",
         "y": [
          28
         ],
         "yaxis": "y"
        },
        {
         "alignmentgroup": "True",
         "hovertemplate": "spec=JS-SM490A<br>steel_kind=%{x}<br>plate_no=%{y}<extra></extra>",
         "legendgroup": "JS-SM490A",
         "marker": {
          "color": "#00cc96",
          "pattern": {
           "shape": ""
          }
         },
         "name": "JS-SM490A",
         "offsetgroup": "JS-SM490A",
         "orientation": "v",
         "showlegend": true,
         "textposition": "auto",
         "type": "bar",
         "x": [
          "C0"
         ],
         "xaxis": "x",
         "y": [
          31
         ],
         "yaxis": "y"
        },
        {
         "alignmentgroup": "True",
         "hovertemplate": "spec=JS-SM490YB<br>steel_kind=%{x}<br>plate_no=%{y}<extra></extra>",
         "legendgroup": "JS-SM490YB",
         "marker": {
          "color": "#ab63fa",
          "pattern": {
           "shape": ""
          }
         },
         "name": "JS-SM490YB",
         "offsetgroup": "JS-SM490YB",
         "orientation": "v",
         "showlegend": true,
         "textposition": "auto",
         "type": "bar",
         "x": [
          "C0"
         ],
         "xaxis": "x",
         "y": [
          84
         ],
         "yaxis": "y"
        },
        {
         "alignmentgroup": "True",
         "hovertemplate": "spec=JS-SS400<br>steel_kind=%{x}<br>plate_no=%{y}<extra></extra>",
         "legendgroup": "JS-SS400",
         "marker": {
          "color": "#FFA15A",
          "pattern": {
           "shape": ""
          }
         },
         "name": "JS-SS400",
         "offsetgroup": "JS-SS400",
         "orientation": "v",
         "showlegend": true,
         "textposition": "auto",
         "type": "bar",
         "x": [
          "C0",
          "C1"
         ],
         "xaxis": "x",
         "y": [
          18,
          1
         ],
         "yaxis": "y"
        },
        {
         "alignmentgroup": "True",
         "hovertemplate": "spec=KR-A<br>steel_kind=%{x}<br>plate_no=%{y}<extra></extra>",
         "legendgroup": "KR-A",
         "marker": {
          "color": "#19d3f3",
          "pattern": {
           "shape": ""
          }
         },
         "name": "KR-A",
         "offsetgroup": "KR-A",
         "orientation": "v",
         "showlegend": true,
         "textposition": "auto",
         "type": "bar",
         "x": [
          "C0"
         ],
         "xaxis": "x",
         "y": [
          27
         ],
         "yaxis": "y"
        },
        {
         "alignmentgroup": "True",
         "hovertemplate": "spec=LR-A<br>steel_kind=%{x}<br>plate_no=%{y}<extra></extra>",
         "legendgroup": "LR-A",
         "marker": {
          "color": "#FF6692",
          "pattern": {
           "shape": ""
          }
         },
         "name": "LR-A",
         "offsetgroup": "LR-A",
         "orientation": "v",
         "showlegend": true,
         "textposition": "auto",
         "type": "bar",
         "x": [
          "C0"
         ],
         "xaxis": "x",
         "y": [
          54
         ],
         "yaxis": "y"
        },
        {
         "alignmentgroup": "True",
         "hovertemplate": "spec=LR-AH32<br>steel_kind=%{x}<br>plate_no=%{y}<extra></extra>",
         "legendgroup": "LR-AH32",
         "marker": {
          "color": "#B6E880",
          "pattern": {
           "shape": ""
          }
         },
         "name": "LR-AH32",
         "offsetgroup": "LR-AH32",
         "orientation": "v",
         "showlegend": true,
         "textposition": "auto",
         "type": "bar",
         "x": [
          "C0",
          "C3"
         ],
         "xaxis": "x",
         "y": [
          32,
          1
         ],
         "yaxis": "y"
        },
        {
         "alignmentgroup": "True",
         "hovertemplate": "spec=LR-B<br>steel_kind=%{x}<br>plate_no=%{y}<extra></extra>",
         "legendgroup": "LR-B",
         "marker": {
          "color": "#FF97FF",
          "pattern": {
           "shape": ""
          }
         },
         "name": "LR-B",
         "offsetgroup": "LR-B",
         "orientation": "v",
         "showlegend": true,
         "textposition": "auto",
         "type": "bar",
         "x": [
          "C0"
         ],
         "xaxis": "x",
         "y": [
          13
         ],
         "yaxis": "y"
        },
        {
         "alignmentgroup": "True",
         "hovertemplate": "spec=NK-KA32<br>steel_kind=%{x}<br>plate_no=%{y}<extra></extra>",
         "legendgroup": "NK-KA32",
         "marker": {
          "color": "#FECB52",
          "pattern": {
           "shape": ""
          }
         },
         "name": "NK-KA32",
         "offsetgroup": "NK-KA32",
         "orientation": "v",
         "showlegend": true,
         "textposition": "auto",
         "type": "bar",
         "x": [
          "C0"
         ],
         "xaxis": "x",
         "y": [
          12
         ],
         "yaxis": "y"
        },
        {
         "alignmentgroup": "True",
         "hovertemplate": "spec=NV-A<br>steel_kind=%{x}<br>plate_no=%{y}<extra></extra>",
         "legendgroup": "NV-A",
         "marker": {
          "color": "#636efa",
          "pattern": {
           "shape": ""
          }
         },
         "name": "NV-A",
         "offsetgroup": "NV-A",
         "orientation": "v",
         "showlegend": true,
         "textposition": "auto",
         "type": "bar",
         "x": [
          "C0"
         ],
         "xaxis": "x",
         "y": [
          48
         ],
         "yaxis": "y"
        },
        {
         "alignmentgroup": "True",
         "hovertemplate": "spec=NV-A32<br>steel_kind=%{x}<br>plate_no=%{y}<extra></extra>",
         "legendgroup": "NV-A32",
         "marker": {
          "color": "#EF553B",
          "pattern": {
           "shape": ""
          }
         },
         "name": "NV-A32",
         "offsetgroup": "NV-A32",
         "orientation": "v",
         "showlegend": true,
         "textposition": "auto",
         "type": "bar",
         "x": [
          "C0"
         ],
         "xaxis": "x",
         "y": [
          33
         ],
         "yaxis": "y"
        },
        {
         "alignmentgroup": "True",
         "hovertemplate": "spec=SA283-C<br>steel_kind=%{x}<br>plate_no=%{y}<extra></extra>",
         "legendgroup": "SA283-C",
         "marker": {
          "color": "#00cc96",
          "pattern": {
           "shape": ""
          }
         },
         "name": "SA283-C",
         "offsetgroup": "SA283-C",
         "orientation": "v",
         "showlegend": true,
         "textposition": "auto",
         "type": "bar",
         "x": [
          "C0"
         ],
         "xaxis": "x",
         "y": [
          21
         ],
         "yaxis": "y"
        },
        {
         "alignmentgroup": "True",
         "hovertemplate": "spec=COMMON<br>steel_kind=%{x}<br>plate_no=%{y}<extra></extra>",
         "legendgroup": "COMMON",
         "marker": {
          "color": "#ab63fa",
          "pattern": {
           "shape": ""
          }
         },
         "name": "COMMON",
         "offsetgroup": "COMMON",
         "orientation": "v",
         "showlegend": true,
         "textposition": "auto",
         "type": "bar",
         "x": [
          "T0",
          "T1",
          "T7",
          "T8"
         ],
         "xaxis": "x",
         "y": [
          1,
          6,
          1,
          20
         ],
         "yaxis": "y"
        },
        {
         "alignmentgroup": "True",
         "hovertemplate": "spec=PILAC-BT33<br>steel_kind=%{x}<br>plate_no=%{y}<extra></extra>",
         "legendgroup": "PILAC-BT33",
         "marker": {
          "color": "#FFA15A",
          "pattern": {
           "shape": ""
          }
         },
         "name": "PILAC-BT33",
         "offsetgroup": "PILAC-BT33",
         "orientation": "v",
         "showlegend": true,
         "textposition": "auto",
         "type": "bar",
         "x": [
          "T5"
         ],
         "xaxis": "x",
         "y": [
          40
         ],
         "yaxis": "y"
        },
        {
         "alignmentgroup": "True",
         "hovertemplate": "spec=GL-A36-TM<br>steel_kind=%{x}<br>plate_no=%{y}<extra></extra>",
         "legendgroup": "GL-A36-TM",
         "marker": {
          "color": "#19d3f3",
          "pattern": {
           "shape": ""
          }
         },
         "name": "GL-A36-TM",
         "offsetgroup": "GL-A36-TM",
         "orientation": "v",
         "showlegend": true,
         "textposition": "auto",
         "type": "bar",
         "x": [
          "T7"
         ],
         "xaxis": "x",
         "y": [
          11
         ],
         "yaxis": "y"
        },
        {
         "alignmentgroup": "True",
         "hovertemplate": "spec=AB/EH36-TM<br>steel_kind=%{x}<br>plate_no=%{y}<extra></extra>",
         "legendgroup": "AB/EH36-TM",
         "marker": {
          "color": "#FF6692",
          "pattern": {
           "shape": ""
          }
         },
         "name": "AB/EH36-TM",
         "offsetgroup": "AB/EH36-TM",
         "orientation": "v",
         "showlegend": true,
         "textposition": "auto",
         "type": "bar",
         "x": [
          "T8"
         ],
         "xaxis": "x",
         "y": [
          17
         ],
         "yaxis": "y"
        },
        {
         "alignmentgroup": "True",
         "hovertemplate": "spec=BV-EH36-TM<br>steel_kind=%{x}<br>plate_no=%{y}<extra></extra>",
         "legendgroup": "BV-EH36-TM",
         "marker": {
          "color": "#B6E880",
          "pattern": {
           "shape": ""
          }
         },
         "name": "BV-EH36-TM",
         "offsetgroup": "BV-EH36-TM",
         "orientation": "v",
         "showlegend": true,
         "textposition": "auto",
         "type": "bar",
         "x": [
          "T8"
         ],
         "xaxis": "x",
         "y": [
          35
         ],
         "yaxis": "y"
        },
        {
         "alignmentgroup": "True",
         "hovertemplate": "spec=GL-E36-TM<br>steel_kind=%{x}<br>plate_no=%{y}<extra></extra>",
         "legendgroup": "GL-E36-TM",
         "marker": {
          "color": "#FF97FF",
          "pattern": {
           "shape": ""
          }
         },
         "name": "GL-E36-TM",
         "offsetgroup": "GL-E36-TM",
         "orientation": "v",
         "showlegend": true,
         "textposition": "auto",
         "type": "bar",
         "x": [
          "T8"
         ],
         "xaxis": "x",
         "y": [
          16
         ],
         "yaxis": "y"
        }
       ],
       "layout": {
        "barmode": "relative",
        "legend": {
         "title": {
          "text": "spec"
         },
         "tracegroupgap": 0
        },
        "template": {
         "data": {
          "bar": [
           {
            "error_x": {
             "color": "#2a3f5f"
            },
            "error_y": {
             "color": "#2a3f5f"
            },
            "marker": {
             "line": {
              "color": "#E5ECF6",
              "width": 0.5
             },
             "pattern": {
              "fillmode": "overlay",
              "size": 10,
              "solidity": 0.2
             }
            },
            "type": "bar"
           }
          ],
          "barpolar": [
           {
            "marker": {
             "line": {
              "color": "#E5ECF6",
              "width": 0.5
             },
             "pattern": {
              "fillmode": "overlay",
              "size": 10,
              "solidity": 0.2
             }
            },
            "type": "barpolar"
           }
          ],
          "carpet": [
           {
            "aaxis": {
             "endlinecolor": "#2a3f5f",
             "gridcolor": "white",
             "linecolor": "white",
             "minorgridcolor": "white",
             "startlinecolor": "#2a3f5f"
            },
            "baxis": {
             "endlinecolor": "#2a3f5f",
             "gridcolor": "white",
             "linecolor": "white",
             "minorgridcolor": "white",
             "startlinecolor": "#2a3f5f"
            },
            "type": "carpet"
           }
          ],
          "choropleth": [
           {
            "colorbar": {
             "outlinewidth": 0,
             "ticks": ""
            },
            "type": "choropleth"
           }
          ],
          "contour": [
           {
            "colorbar": {
             "outlinewidth": 0,
             "ticks": ""
            },
            "colorscale": [
             [
              0,
              "#0d0887"
             ],
             [
              0.1111111111111111,
              "#46039f"
             ],
             [
              0.2222222222222222,
              "#7201a8"
             ],
             [
              0.3333333333333333,
              "#9c179e"
             ],
             [
              0.4444444444444444,
              "#bd3786"
             ],
             [
              0.5555555555555556,
              "#d8576b"
             ],
             [
              0.6666666666666666,
              "#ed7953"
             ],
             [
              0.7777777777777778,
              "#fb9f3a"
             ],
             [
              0.8888888888888888,
              "#fdca26"
             ],
             [
              1,
              "#f0f921"
             ]
            ],
            "type": "contour"
           }
          ],
          "contourcarpet": [
           {
            "colorbar": {
             "outlinewidth": 0,
             "ticks": ""
            },
            "type": "contourcarpet"
           }
          ],
          "heatmap": [
           {
            "colorbar": {
             "outlinewidth": 0,
             "ticks": ""
            },
            "colorscale": [
             [
              0,
              "#0d0887"
             ],
             [
              0.1111111111111111,
              "#46039f"
             ],
             [
              0.2222222222222222,
              "#7201a8"
             ],
             [
              0.3333333333333333,
              "#9c179e"
             ],
             [
              0.4444444444444444,
              "#bd3786"
             ],
             [
              0.5555555555555556,
              "#d8576b"
             ],
             [
              0.6666666666666666,
              "#ed7953"
             ],
             [
              0.7777777777777778,
              "#fb9f3a"
             ],
             [
              0.8888888888888888,
              "#fdca26"
             ],
             [
              1,
              "#f0f921"
             ]
            ],
            "type": "heatmap"
           }
          ],
          "heatmapgl": [
           {
            "colorbar": {
             "outlinewidth": 0,
             "ticks": ""
            },
            "colorscale": [
             [
              0,
              "#0d0887"
             ],
             [
              0.1111111111111111,
              "#46039f"
             ],
             [
              0.2222222222222222,
              "#7201a8"
             ],
             [
              0.3333333333333333,
              "#9c179e"
             ],
             [
              0.4444444444444444,
              "#bd3786"
             ],
             [
              0.5555555555555556,
              "#d8576b"
             ],
             [
              0.6666666666666666,
              "#ed7953"
             ],
             [
              0.7777777777777778,
              "#fb9f3a"
             ],
             [
              0.8888888888888888,
              "#fdca26"
             ],
             [
              1,
              "#f0f921"
             ]
            ],
            "type": "heatmapgl"
           }
          ],
          "histogram": [
           {
            "marker": {
             "pattern": {
              "fillmode": "overlay",
              "size": 10,
              "solidity": 0.2
             }
            },
            "type": "histogram"
           }
          ],
          "histogram2d": [
           {
            "colorbar": {
             "outlinewidth": 0,
             "ticks": ""
            },
            "colorscale": [
             [
              0,
              "#0d0887"
             ],
             [
              0.1111111111111111,
              "#46039f"
             ],
             [
              0.2222222222222222,
              "#7201a8"
             ],
             [
              0.3333333333333333,
              "#9c179e"
             ],
             [
              0.4444444444444444,
              "#bd3786"
             ],
             [
              0.5555555555555556,
              "#d8576b"
             ],
             [
              0.6666666666666666,
              "#ed7953"
             ],
             [
              0.7777777777777778,
              "#fb9f3a"
             ],
             [
              0.8888888888888888,
              "#fdca26"
             ],
             [
              1,
              "#f0f921"
             ]
            ],
            "type": "histogram2d"
           }
          ],
          "histogram2dcontour": [
           {
            "colorbar": {
             "outlinewidth": 0,
             "ticks": ""
            },
            "colorscale": [
             [
              0,
              "#0d0887"
             ],
             [
              0.1111111111111111,
              "#46039f"
             ],
             [
              0.2222222222222222,
              "#7201a8"
             ],
             [
              0.3333333333333333,
              "#9c179e"
             ],
             [
              0.4444444444444444,
              "#bd3786"
             ],
             [
              0.5555555555555556,
              "#d8576b"
             ],
             [
              0.6666666666666666,
              "#ed7953"
             ],
             [
              0.7777777777777778,
              "#fb9f3a"
             ],
             [
              0.8888888888888888,
              "#fdca26"
             ],
             [
              1,
              "#f0f921"
             ]
            ],
            "type": "histogram2dcontour"
           }
          ],
          "mesh3d": [
           {
            "colorbar": {
             "outlinewidth": 0,
             "ticks": ""
            },
            "type": "mesh3d"
           }
          ],
          "parcoords": [
           {
            "line": {
             "colorbar": {
              "outlinewidth": 0,
              "ticks": ""
             }
            },
            "type": "parcoords"
           }
          ],
          "pie": [
           {
            "automargin": true,
            "type": "pie"
           }
          ],
          "scatter": [
           {
            "marker": {
             "colorbar": {
              "outlinewidth": 0,
              "ticks": ""
             }
            },
            "type": "scatter"
           }
          ],
          "scatter3d": [
           {
            "line": {
             "colorbar": {
              "outlinewidth": 0,
              "ticks": ""
             }
            },
            "marker": {
             "colorbar": {
              "outlinewidth": 0,
              "ticks": ""
             }
            },
            "type": "scatter3d"
           }
          ],
          "scattercarpet": [
           {
            "marker": {
             "colorbar": {
              "outlinewidth": 0,
              "ticks": ""
             }
            },
            "type": "scattercarpet"
           }
          ],
          "scattergeo": [
           {
            "marker": {
             "colorbar": {
              "outlinewidth": 0,
              "ticks": ""
             }
            },
            "type": "scattergeo"
           }
          ],
          "scattergl": [
           {
            "marker": {
             "colorbar": {
              "outlinewidth": 0,
              "ticks": ""
             }
            },
            "type": "scattergl"
           }
          ],
          "scattermapbox": [
           {
            "marker": {
             "colorbar": {
              "outlinewidth": 0,
              "ticks": ""
             }
            },
            "type": "scattermapbox"
           }
          ],
          "scatterpolar": [
           {
            "marker": {
             "colorbar": {
              "outlinewidth": 0,
              "ticks": ""
             }
            },
            "type": "scatterpolar"
           }
          ],
          "scatterpolargl": [
           {
            "marker": {
             "colorbar": {
              "outlinewidth": 0,
              "ticks": ""
             }
            },
            "type": "scatterpolargl"
           }
          ],
          "scatterternary": [
           {
            "marker": {
             "colorbar": {
              "outlinewidth": 0,
              "ticks": ""
             }
            },
            "type": "scatterternary"
           }
          ],
          "surface": [
           {
            "colorbar": {
             "outlinewidth": 0,
             "ticks": ""
            },
            "colorscale": [
             [
              0,
              "#0d0887"
             ],
             [
              0.1111111111111111,
              "#46039f"
             ],
             [
              0.2222222222222222,
              "#7201a8"
             ],
             [
              0.3333333333333333,
              "#9c179e"
             ],
             [
              0.4444444444444444,
              "#bd3786"
             ],
             [
              0.5555555555555556,
              "#d8576b"
             ],
             [
              0.6666666666666666,
              "#ed7953"
             ],
             [
              0.7777777777777778,
              "#fb9f3a"
             ],
             [
              0.8888888888888888,
              "#fdca26"
             ],
             [
              1,
              "#f0f921"
             ]
            ],
            "type": "surface"
           }
          ],
          "table": [
           {
            "cells": {
             "fill": {
              "color": "#EBF0F8"
             },
             "line": {
              "color": "white"
             }
            },
            "header": {
             "fill": {
              "color": "#C8D4E3"
             },
             "line": {
              "color": "white"
             }
            },
            "type": "table"
           }
          ]
         },
         "layout": {
          "annotationdefaults": {
           "arrowcolor": "#2a3f5f",
           "arrowhead": 0,
           "arrowwidth": 1
          },
          "autotypenumbers": "strict",
          "coloraxis": {
           "colorbar": {
            "outlinewidth": 0,
            "ticks": ""
           }
          },
          "colorscale": {
           "diverging": [
            [
             0,
             "#8e0152"
            ],
            [
             0.1,
             "#c51b7d"
            ],
            [
             0.2,
             "#de77ae"
            ],
            [
             0.3,
             "#f1b6da"
            ],
            [
             0.4,
             "#fde0ef"
            ],
            [
             0.5,
             "#f7f7f7"
            ],
            [
             0.6,
             "#e6f5d0"
            ],
            [
             0.7,
             "#b8e186"
            ],
            [
             0.8,
             "#7fbc41"
            ],
            [
             0.9,
             "#4d9221"
            ],
            [
             1,
             "#276419"
            ]
           ],
           "sequential": [
            [
             0,
             "#0d0887"
            ],
            [
             0.1111111111111111,
             "#46039f"
            ],
            [
             0.2222222222222222,
             "#7201a8"
            ],
            [
             0.3333333333333333,
             "#9c179e"
            ],
            [
             0.4444444444444444,
             "#bd3786"
            ],
            [
             0.5555555555555556,
             "#d8576b"
            ],
            [
             0.6666666666666666,
             "#ed7953"
            ],
            [
             0.7777777777777778,
             "#fb9f3a"
            ],
            [
             0.8888888888888888,
             "#fdca26"
            ],
            [
             1,
             "#f0f921"
            ]
           ],
           "sequentialminus": [
            [
             0,
             "#0d0887"
            ],
            [
             0.1111111111111111,
             "#46039f"
            ],
            [
             0.2222222222222222,
             "#7201a8"
            ],
            [
             0.3333333333333333,
             "#9c179e"
            ],
            [
             0.4444444444444444,
             "#bd3786"
            ],
            [
             0.5555555555555556,
             "#d8576b"
            ],
            [
             0.6666666666666666,
             "#ed7953"
            ],
            [
             0.7777777777777778,
             "#fb9f3a"
            ],
            [
             0.8888888888888888,
             "#fdca26"
            ],
            [
             1,
             "#f0f921"
            ]
           ]
          },
          "colorway": [
           "#636efa",
           "#EF553B",
           "#00cc96",
           "#ab63fa",
           "#FFA15A",
           "#19d3f3",
           "#FF6692",
           "#B6E880",
           "#FF97FF",
           "#FECB52"
          ],
          "font": {
           "color": "#2a3f5f"
          },
          "geo": {
           "bgcolor": "white",
           "lakecolor": "white",
           "landcolor": "#E5ECF6",
           "showlakes": true,
           "showland": true,
           "subunitcolor": "white"
          },
          "hoverlabel": {
           "align": "left"
          },
          "hovermode": "closest",
          "mapbox": {
           "style": "light"
          },
          "paper_bgcolor": "white",
          "plot_bgcolor": "#E5ECF6",
          "polar": {
           "angularaxis": {
            "gridcolor": "white",
            "linecolor": "white",
            "ticks": ""
           },
           "bgcolor": "#E5ECF6",
           "radialaxis": {
            "gridcolor": "white",
            "linecolor": "white",
            "ticks": ""
           }
          },
          "scene": {
           "xaxis": {
            "backgroundcolor": "#E5ECF6",
            "gridcolor": "white",
            "gridwidth": 2,
            "linecolor": "white",
            "showbackground": true,
            "ticks": "",
            "zerolinecolor": "white"
           },
           "yaxis": {
            "backgroundcolor": "#E5ECF6",
            "gridcolor": "white",
            "gridwidth": 2,
            "linecolor": "white",
            "showbackground": true,
            "ticks": "",
            "zerolinecolor": "white"
           },
           "zaxis": {
            "backgroundcolor": "#E5ECF6",
            "gridcolor": "white",
            "gridwidth": 2,
            "linecolor": "white",
            "showbackground": true,
            "ticks": "",
            "zerolinecolor": "white"
           }
          },
          "shapedefaults": {
           "line": {
            "color": "#2a3f5f"
           }
          },
          "ternary": {
           "aaxis": {
            "gridcolor": "white",
            "linecolor": "white",
            "ticks": ""
           },
           "baxis": {
            "gridcolor": "white",
            "linecolor": "white",
            "ticks": ""
           },
           "bgcolor": "#E5ECF6",
           "caxis": {
            "gridcolor": "white",
            "linecolor": "white",
            "ticks": ""
           }
          },
          "title": {
           "x": 0.05
          },
          "xaxis": {
           "automargin": true,
           "gridcolor": "white",
           "linecolor": "white",
           "ticks": "",
           "title": {
            "standoff": 15
           },
           "zerolinecolor": "white",
           "zerolinewidth": 2
          },
          "yaxis": {
           "automargin": true,
           "gridcolor": "white",
           "linecolor": "white",
           "ticks": "",
           "title": {
            "standoff": 15
           },
           "zerolinecolor": "white",
           "zerolinewidth": 2
          }
         }
        },
        "title": {
         "text": "STEEL_KIND 별 SPEC cnt"
        },
        "xaxis": {
         "anchor": "y",
         "domain": [
          0,
          1
         ],
         "title": {
          "text": "steel_kind"
         }
        },
        "yaxis": {
         "anchor": "x",
         "domain": [
          0,
          1
         ],
         "title": {
          "text": "plate_no"
         }
        }
       }
      }
     },
     "metadata": {},
     "output_type": "display_data"
    }
   ],
   "source": [
    "fig_01 = px.bar(group_01, x='steel_kind', y='plate_no', color='spec', title='STEEL_KIND 별 SPEC cnt')\n",
    "fig_01.show()"
   ]
  },
  {
   "cell_type": "markdown",
   "metadata": {},
   "source": [
    "- 위에서 추린 데이터로 철의 종류별 생산 수를 확인해보았다.\n",
    "- 대부분의 규격을 C0 철로 만드는 것을 알 수 있었다.\n",
    "- C0에 대한 불량율을 알아볼 필요가 있다고 판단하였다."
   ]
  },
  {
   "cell_type": "code",
   "execution_count": 25,
   "metadata": {
    "scrolled": true
   },
   "outputs": [],
   "source": [
    "# spec_3 = spec_2[spec_2['sum'] >= 20]\n",
    "# labels = spec_3['spec']\n",
    "# values = ((spec_3['0'] / spec_3['sum']) * 100).sort_values()\n",
    "\n",
    "# # explode = (0, 0.1, 0, 0)  # only \"explode\" the 2nd slice (i.e. 'Hogs')\n",
    "\n",
    "# fig1, ax1 = plt.subplots()\n",
    "# ax1.pie(values, labels=labels) \n",
    "# #         autopct='%1.1f%%', explode=explode, shadow=True, startangle=90)\n",
    "# # ax1.axis('equal')  # Equal aspect ratio ensures that pie is drawn as a circle.\n",
    "\n",
    "# plt.show()"
   ]
  },
  {
   "cell_type": "markdown",
   "metadata": {},
   "source": [
    "#### STEEL_KIND별 불량률 - Stacked bar 차트"
   ]
  },
  {
   "cell_type": "code",
   "execution_count": 26,
   "metadata": {},
   "outputs": [],
   "source": [
    "#데이터프레임 추출\n",
    "sk_1 = pd.Series(steel['steel_kind'].unique())\n",
    "sk_2 = pd.DataFrame()\n",
    "#steel[(steel['steel_kind'] == 'AB/EH32-TM') & (steel['scale'] == 1)]['scale'].count()\n",
    "for i in sk_1:\n",
    "    yes = steel[(steel['steel_kind'] == i) & (steel['scale'] == 1)]['scale'].count()\n",
    "    no = steel[(steel['steel_kind'] == i) & (steel['scale'] == 0)]['scale'].count()\n",
    "    sk_2 = pd.concat([sk_2,pd.DataFrame([i, yes, no, yes + no]).T])\n",
    "    \n",
    "sk_2.reset_index(drop=True)\n",
    "sk_2.columns = ['sk_1','1','0','sum']\n",
    "sk_2.sort_values(by='sum', ascending=False, inplace=True)"
   ]
  },
  {
   "cell_type": "code",
   "execution_count": 27,
   "metadata": {
    "scrolled": true
   },
   "outputs": [
    {
     "data": {
      "text/html": [
       "<div>\n",
       "<style scoped>\n",
       "    .dataframe tbody tr th:only-of-type {\n",
       "        vertical-align: middle;\n",
       "    }\n",
       "\n",
       "    .dataframe tbody tr th {\n",
       "        vertical-align: top;\n",
       "    }\n",
       "\n",
       "    .dataframe thead th {\n",
       "        text-align: right;\n",
       "    }\n",
       "</style>\n",
       "<table border=\"1\" class=\"dataframe\">\n",
       "  <thead>\n",
       "    <tr style=\"text-align: right;\">\n",
       "      <th></th>\n",
       "      <th>sk_1</th>\n",
       "      <th>1</th>\n",
       "      <th>0</th>\n",
       "      <th>sum</th>\n",
       "    </tr>\n",
       "  </thead>\n",
       "  <tbody>\n",
       "    <tr>\n",
       "      <th>0</th>\n",
       "      <td>C0</td>\n",
       "      <td>291</td>\n",
       "      <td>212</td>\n",
       "      <td>503</td>\n",
       "    </tr>\n",
       "    <tr>\n",
       "      <th>0</th>\n",
       "      <td>T8</td>\n",
       "      <td>90</td>\n",
       "      <td>5</td>\n",
       "      <td>95</td>\n",
       "    </tr>\n",
       "    <tr>\n",
       "      <th>0</th>\n",
       "      <td>T5</td>\n",
       "      <td>41</td>\n",
       "      <td>2</td>\n",
       "      <td>43</td>\n",
       "    </tr>\n",
       "  </tbody>\n",
       "</table>\n",
       "</div>"
      ],
      "text/plain": [
       "  sk_1    1    0  sum\n",
       "0   C0  291  212  503\n",
       "0   T8   90    5   95\n",
       "0   T5   41    2   43"
      ]
     },
     "execution_count": 27,
     "metadata": {},
     "output_type": "execute_result"
    }
   ],
   "source": [
    "sk_2.head(3)"
   ]
  },
  {
   "cell_type": "code",
   "execution_count": 28,
   "metadata": {},
   "outputs": [
    {
     "data": {
      "image/png": "[encoded data removed]",
      "text/plain": [
       "<Figure size 1080x504 with 1 Axes>"
      ]
     },
     "metadata": {
      "image/png": {
       "height": 430,
       "width": 874
      }
     },
     "output_type": "display_data"
    }
   ],
   "source": [
    "#Stacked Bar 차트\n",
    "\n",
    "labels = sk_2['sk_1']\n",
    "x1 = sk_2['0']\n",
    "x2 = sk_2['1']\n",
    "width = 0.35       # the width of the bars: can also be len(x) sequence\n",
    "\n",
    "fig, ax = plt.subplots(figsize=(15, 7))\n",
    "\n",
    "ax.bar(labels, x1, width, label='불량')\n",
    "ax.bar(labels, x2, width, bottom=x1, label='양품')\n",
    "#ax.set_xticklabels(labels, rotation=45)\n",
    "\n",
    "#ax.set_ylabel('Scores')\n",
    "ax.set_title('STEEL_KIND별 생산량과 불량 수')\n",
    "ax.legend()\n",
    "\n",
    "plt.style.use('ggplot')\n",
    "#plt.figure(figsize=(15,7))\n",
    "#plt.bar(bc1_labels, bc1_values, width=0.7)\n",
    "#plt.set_xlabel(fontsize=10)\n",
    "plt.xticks(rotation=90)\n",
    "#plt.yticks(np.arange(0, 100, step=5))\n",
    "#plt.margins(0.01)\n",
    "plt.grid(True, axis='y')\n",
    "plt.show()"
   ]
  },
  {
   "cell_type": "markdown",
   "metadata": {},
   "source": [
    "- 위 그래프를 통해 대부분의 불량품은 C0에서 발생하는 것을 파악할 수 있다.\n",
    "- C0로 만든 제품들을 추리고 그룹을 나눠 분석할 필요가 있음을 알 수 있다.\n",
    "- C0와 아닌 것들을 묶어서 비교? (막대 or 파이차트)"
   ]
  },
  {
   "cell_type": "code",
   "execution_count": 29,
   "metadata": {},
   "outputs": [
    {
     "data": {
      "text/plain": [
       "0      1\n",
       "1      1\n",
       "2      1\n",
       "3      1\n",
       "4      1\n",
       "      ..\n",
       "548    1\n",
       "549    1\n",
       "550    1\n",
       "551    1\n",
       "552    1\n",
       "Name: scale, Length: 415, dtype: category\n",
       "Categories (2, int64): [0, 1]"
      ]
     },
     "execution_count": 29,
     "metadata": {},
     "output_type": "execute_result"
    }
   ],
   "source": [
    "main_02 = main_01[main_01['steel_kind'] == 'C0']\n",
    "main_02['scale'].astype('category')"
   ]
  },
  {
   "cell_type": "code",
   "execution_count": 30,
   "metadata": {},
   "outputs": [
    {
     "data": {
      "text/plain": [
       "<AxesSubplot:xlabel='rolling_descaling', ylabel='count'>"
      ]
     },
     "execution_count": 30,
     "metadata": {},
     "output_type": "execute_result"
    },
    {
     "data": {
      "image/png": "[encoded data removed]",
      "text/plain": [
       "<Figure size 1440x576 with 4 Axes>"
      ]
     },
     "metadata": {
      "image/png": {
       "height": 483,
       "width": 1175
      }
     },
     "output_type": "display_data"
    }
   ],
   "source": [
    "fig_02 = plt.figure(figsize=(20,8))\n",
    "ax1 = fig_02.add_subplot(2,2,1)\n",
    "ax2 = fig_02.add_subplot(2,2,2)\n",
    "ax3 = fig_02.add_subplot(2,2,3)\n",
    "ax4 = fig_02.add_subplot(2,2,4)\n",
    "\n",
    "sns.scatterplot(data=main_02, x='fur_hz_time', y='fur_hz_temp', hue = 'scale', ax=ax1)\n",
    "sns.scatterplot(data=main_02, x='fur_sz_time', y='fur_sz_temp', hue = 'scale', ax=ax2)\n",
    "sns.barplot(data=main_02, x='rolling_descaling', y='fur_time', hue = 'scale', ax=ax3)\n",
    "sns.countplot(data=main_02, x='rolling_descaling',  ax=ax4)\n"
   ]
  },
  {
   "cell_type": "markdown",
   "metadata": {},
   "source": [
    "- 1번 그래프를 통해 fur hz에서 175분 이상 가열하지 않고 100분 이내 가열할 때 불량율을 낮출 수 있는 방법이 필요해 보인다.\n",
    "- 1번 그래프를 통해 약 1130도 이하에서 작업하는 것이 불량품을 줄일 수 있을 것으로 보인다.\n",
    "- 2번 그래프를 통해 fur sz에서 100~150분 사이에서 가열하는 것이 시간적, 비용적 가장 좋을 것으로 보인다.\n",
    "- 2번 그래프를 통해 약 1140도 이하에서 작업하는 것이 불량품을 줄일 수 있을 것으로 보인다.\n",
    "- 3번 그래프를 위 4가지 인사이트에 대한 근거로 볼 수 있다.\n",
    "- ?온도와 시간 외의 변수를 생각해야한다 / 공장 입장에서 시간을 늘리는 게 쉽지않다\n",
    "- 총 가열로 시간 - (sz+hz) = 새로운 time <- 분석\n",
    "- time 100을 기준으로 분석?\n",
    "\n",
    "- 총 가열로 시간 - (sz+hz) = 새로운 time -> 새로운 변수로 정의, 새로운 변수의 가중치가 높을 것으로 가설"
   ]
  },
  {
   "cell_type": "code",
   "execution_count": 31,
   "metadata": {},
   "outputs": [
    {
     "name": "stderr",
     "output_type": "stream",
     "text": [
      "C:\\Users\\operation\\AppData\\Local\\Temp\\ipykernel_16768\\549661945.py:1: SettingWithCopyWarning:\n",
      "\n",
      "\n",
      "A value is trying to be set on a copy of a slice from a DataFrame.\n",
      "Try using .loc[row_indexer,col_indexer] = value instead\n",
      "\n",
      "See the caveats in the documentation: https://pandas.pydata.org/pandas-docs/stable/user_guide/indexing.html#returning-a-view-versus-a-copy\n",
      "\n"
     ]
    }
   ],
   "source": [
    "main_02['unnamed_time'] = main_02['fur_time'] - (main_02['fur_sz_time'] + main_02['fur_hz_time'])"
   ]
  },
  {
   "cell_type": "code",
   "execution_count": 32,
   "metadata": {},
   "outputs": [
    {
     "name": "stderr",
     "output_type": "stream",
     "text": [
      "C:\\Users\\operation\\AppData\\Local\\Temp\\ipykernel_16768\\179891520.py:1: SettingWithCopyWarning:\n",
      "\n",
      "\n",
      "A value is trying to be set on a copy of a slice from a DataFrame.\n",
      "Try using .loc[row_indexer,col_indexer] = value instead\n",
      "\n",
      "See the caveats in the documentation: https://pandas.pydata.org/pandas-docs/stable/user_guide/indexing.html#returning-a-view-versus-a-copy\n",
      "\n",
      "C:\\Users\\operation\\AppData\\Local\\Temp\\ipykernel_16768\\179891520.py:2: SettingWithCopyWarning:\n",
      "\n",
      "\n",
      "A value is trying to be set on a copy of a slice from a DataFrame.\n",
      "Try using .loc[row_indexer,col_indexer] = value instead\n",
      "\n",
      "See the caveats in the documentation: https://pandas.pydata.org/pandas-docs/stable/user_guide/indexing.html#returning-a-view-versus-a-copy\n",
      "\n"
     ]
    }
   ],
   "source": [
    "main_02['scale'] = main_02['scale'].astype('category')\n",
    "main_02['hsb'] = main_02['hsb'].astype('category')"
   ]
  },
  {
   "cell_type": "code",
   "execution_count": 33,
   "metadata": {},
   "outputs": [
    {
     "data": {
      "text/html": [
       "<div>\n",
       "<style scoped>\n",
       "    .dataframe tbody tr th:only-of-type {\n",
       "        vertical-align: middle;\n",
       "    }\n",
       "\n",
       "    .dataframe tbody tr th {\n",
       "        vertical-align: top;\n",
       "    }\n",
       "\n",
       "    .dataframe thead th {\n",
       "        text-align: right;\n",
       "    }\n",
       "</style>\n",
       "<table border=\"1\" class=\"dataframe\">\n",
       "  <thead>\n",
       "    <tr style=\"text-align: right;\">\n",
       "      <th></th>\n",
       "      <th>scale</th>\n",
       "      <th>spec</th>\n",
       "      <th>steel_kind</th>\n",
       "      <th>pt_thk</th>\n",
       "      <th>pt_wdth</th>\n",
       "      <th>pt_lth</th>\n",
       "      <th>pt_wgt</th>\n",
       "      <th>fur_hz_temp</th>\n",
       "      <th>fur_hz_time</th>\n",
       "      <th>fur_sz_temp</th>\n",
       "      <th>fur_sz_time</th>\n",
       "      <th>fur_time</th>\n",
       "      <th>rolling_temp_t5</th>\n",
       "      <th>hsb</th>\n",
       "      <th>rolling_descaling</th>\n",
       "      <th>unnamed_time</th>\n",
       "    </tr>\n",
       "  </thead>\n",
       "  <tbody>\n",
       "    <tr>\n",
       "      <th>0</th>\n",
       "      <td>1</td>\n",
       "      <td>JS-SM490YB</td>\n",
       "      <td>C0</td>\n",
       "      <td>14.09</td>\n",
       "      <td>3284</td>\n",
       "      <td>51234</td>\n",
       "      <td>93050</td>\n",
       "      <td>1140</td>\n",
       "      <td>80</td>\n",
       "      <td>1131</td>\n",
       "      <td>117</td>\n",
       "      <td>352</td>\n",
       "      <td>915</td>\n",
       "      <td>1</td>\n",
       "      <td>10</td>\n",
       "      <td>155</td>\n",
       "    </tr>\n",
       "    <tr>\n",
       "      <th>1</th>\n",
       "      <td>1</td>\n",
       "      <td>JS-SM490YB</td>\n",
       "      <td>C0</td>\n",
       "      <td>14.09</td>\n",
       "      <td>3284</td>\n",
       "      <td>51234</td>\n",
       "      <td>93050</td>\n",
       "      <td>1142</td>\n",
       "      <td>74</td>\n",
       "      <td>1132</td>\n",
       "      <td>123</td>\n",
       "      <td>353</td>\n",
       "      <td>923</td>\n",
       "      <td>1</td>\n",
       "      <td>10</td>\n",
       "      <td>156</td>\n",
       "    </tr>\n",
       "    <tr>\n",
       "      <th>2</th>\n",
       "      <td>1</td>\n",
       "      <td>JS-SM490YB</td>\n",
       "      <td>C0</td>\n",
       "      <td>14.09</td>\n",
       "      <td>3284</td>\n",
       "      <td>51234</td>\n",
       "      <td>93050</td>\n",
       "      <td>1142</td>\n",
       "      <td>75</td>\n",
       "      <td>1131</td>\n",
       "      <td>122</td>\n",
       "      <td>353</td>\n",
       "      <td>913</td>\n",
       "      <td>1</td>\n",
       "      <td>10</td>\n",
       "      <td>156</td>\n",
       "    </tr>\n",
       "    <tr>\n",
       "      <th>3</th>\n",
       "      <td>1</td>\n",
       "      <td>JS-SM490YB</td>\n",
       "      <td>C0</td>\n",
       "      <td>14.09</td>\n",
       "      <td>3284</td>\n",
       "      <td>51234</td>\n",
       "      <td>93050</td>\n",
       "      <td>1143</td>\n",
       "      <td>65</td>\n",
       "      <td>1136</td>\n",
       "      <td>118</td>\n",
       "      <td>354</td>\n",
       "      <td>955</td>\n",
       "      <td>1</td>\n",
       "      <td>10</td>\n",
       "      <td>171</td>\n",
       "    </tr>\n",
       "    <tr>\n",
       "      <th>4</th>\n",
       "      <td>1</td>\n",
       "      <td>JS-SM490YB</td>\n",
       "      <td>C0</td>\n",
       "      <td>14.09</td>\n",
       "      <td>3284</td>\n",
       "      <td>49142</td>\n",
       "      <td>89250</td>\n",
       "      <td>1140</td>\n",
       "      <td>65</td>\n",
       "      <td>1136</td>\n",
       "      <td>119</td>\n",
       "      <td>355</td>\n",
       "      <td>955</td>\n",
       "      <td>1</td>\n",
       "      <td>10</td>\n",
       "      <td>171</td>\n",
       "    </tr>\n",
       "  </tbody>\n",
       "</table>\n",
       "</div>"
      ],
      "text/plain": [
       "  scale        spec steel_kind  pt_thk  pt_wdth  pt_lth  pt_wgt  fur_hz_temp  \\\n",
       "0     1  JS-SM490YB         C0   14.09     3284   51234   93050         1140   \n",
       "1     1  JS-SM490YB         C0   14.09     3284   51234   93050         1142   \n",
       "2     1  JS-SM490YB         C0   14.09     3284   51234   93050         1142   \n",
       "3     1  JS-SM490YB         C0   14.09     3284   51234   93050         1143   \n",
       "4     1  JS-SM490YB         C0   14.09     3284   49142   89250         1140   \n",
       "\n",
       "   fur_hz_time  fur_sz_temp  fur_sz_time  fur_time  rolling_temp_t5 hsb  \\\n",
       "0           80         1131          117       352              915   1   \n",
       "1           74         1132          123       353              923   1   \n",
       "2           75         1131          122       353              913   1   \n",
       "3           65         1136          118       354              955   1   \n",
       "4           65         1136          119       355              955   1   \n",
       "\n",
       "   rolling_descaling  unnamed_time  \n",
       "0                 10           155  \n",
       "1                 10           156  \n",
       "2                 10           156  \n",
       "3                 10           171  \n",
       "4                 10           171  "
      ]
     },
     "execution_count": 33,
     "metadata": {},
     "output_type": "execute_result"
    }
   ],
   "source": [
    "main_03 = main_02.drop('plate_no', axis=1)\n",
    "main_03.head()"
   ]
  },
  {
   "cell_type": "code",
   "execution_count": 109,
   "metadata": {},
   "outputs": [],
   "source": [
    "main_03['scale']=main_03['scale'].astype('category')\n",
    "main_03['hsb']=main_03['hsb'].astype('category')\n"
   ]
  },
  {
   "cell_type": "code",
   "execution_count": null,
   "metadata": {},
   "outputs": [],
   "source": [
    "main_03['spec']=main_03['spec'].astype('category')\n",
    "main_03['steel_kind']=main_03['steel_kind'].astype('category')"
   ]
  },
  {
   "cell_type": "code",
   "execution_count": 112,
   "metadata": {},
   "outputs": [
    {
     "data": {
      "text/plain": [
       "0      1\n",
       "1      1\n",
       "2      1\n",
       "3      1\n",
       "4      1\n",
       "      ..\n",
       "548    1\n",
       "549    1\n",
       "550    1\n",
       "551    1\n",
       "552    1\n",
       "Name: scale, Length: 415, dtype: category\n",
       "Categories (2, int64): [0, 1]"
      ]
     },
     "execution_count": 112,
     "metadata": {},
     "output_type": "execute_result"
    }
   ],
   "source": [
    "y = main_03.loc[:, 'scale']\n",
    "y"
   ]
  },
  {
   "cell_type": "code",
   "execution_count": 148,
   "metadata": {},
   "outputs": [
    {
     "name": "stdout",
     "output_type": "stream",
     "text": [
      "<class 'pandas.core.frame.DataFrame'>\n",
      "Int64Index: 415 entries, 0 to 552\n",
      "Data columns (total 15 columns):\n",
      " #   Column             Non-Null Count  Dtype   \n",
      "---  ------             --------------  -----   \n",
      " 0   spec               415 non-null    category\n",
      " 1   steel_kind         415 non-null    category\n",
      " 2   pt_thk             415 non-null    float64 \n",
      " 3   pt_wdth            415 non-null    int64   \n",
      " 4   pt_lth             415 non-null    int64   \n",
      " 5   pt_wgt             415 non-null    int64   \n",
      " 6   fur_hz_temp        415 non-null    int64   \n",
      " 7   fur_hz_time        415 non-null    int64   \n",
      " 8   fur_sz_temp        415 non-null    int64   \n",
      " 9   fur_sz_time        415 non-null    int64   \n",
      " 10  fur_time           415 non-null    int64   \n",
      " 11  rolling_temp_t5    415 non-null    int64   \n",
      " 12  hsb                415 non-null    category\n",
      " 13  rolling_descaling  415 non-null    int64   \n",
      " 14  unnamed_time       415 non-null    int64   \n",
      "dtypes: category(3), float64(1), int64(11)\n",
      "memory usage: 60.4 KB\n"
     ]
    }
   ],
   "source": [
    "main_04 = main_03.drop('scale', axis=1)\n",
    "main_04.info()"
   ]
  },
  {
   "cell_type": "markdown",
   "metadata": {},
   "source": [
    "Series.str.get_dummies\n",
    "Convert Series to dummy codes.\n",
    "\n",
    "from_dummies()\n",
    "Convert dummy codes to categorical DataFrame."
   ]
  },
  {
   "cell_type": "code",
   "execution_count": 149,
   "metadata": {},
   "outputs": [],
   "source": [
    "main_04 = pd.get_dummies(main_04)"
   ]
  },
  {
   "cell_type": "code",
   "execution_count": 222,
   "metadata": {},
   "outputs": [
    {
     "data": {
      "text/plain": [
       "Index(['pt_wdth', 'pt_lth', 'pt_wgt', 'fur_hz_temp', 'fur_hz_time',\n",
       "       'fur_sz_temp', 'fur_sz_time', 'fur_time', 'rolling_temp_t5',\n",
       "       'rolling_descaling', 'unnamed_time', 'spec_BV-AH32', 'spec_BV-B',\n",
       "       'spec_JS-SM490A', 'spec_JS-SM490YB', 'spec_JS-SS400', 'spec_KR-A',\n",
       "       'spec_LR-A', 'spec_LR-AH32', 'spec_LR-B', 'spec_NK-KA32', 'spec_NV-A',\n",
       "       'spec_NV-A32', 'spec_SA283-C', 'steel_kind_C0', 'hsb_0', 'hsb_1'],\n",
       "      dtype='object')"
      ]
     },
     "execution_count": 222,
     "metadata": {},
     "output_type": "execute_result"
    }
   ],
   "source": [
    "x = pd.DataFrame(main_04.iloc[:, 1:])\n",
    "y = pd.DataFrame(main_03.loc[:, 'scale'])\n",
    "x.columns"
   ]
  },
  {
   "cell_type": "markdown",
   "metadata": {},
   "source": [
    "pca, scaler, regression, xgboosting(regression, classify)"
   ]
  },
  {
   "cell_type": "code",
   "execution_count": 151,
   "metadata": {},
   "outputs": [],
   "source": [
    "from sklearn.preprocessing import StandardScaler\n",
    "from sklearn.preprocessing import MinMaxScaler\n",
    "import xgboost as xgb\n",
    "from sklearn.model_selection import train_test_split\n",
    "from sklearn.linear_model import LinearRegression\n",
    "from sklearn.ensemble import RandomForestClassifier\n",
    "\n",
    "x_tn, x_ts, y_tn, y_ts = train_test_split(x, y, test_size=0.3)"
   ]
  },
  {
   "cell_type": "code",
   "execution_count": 152,
   "metadata": {},
   "outputs": [],
   "source": [
    "from sklearn.metrics import balanced_accuracy_score, roc_auc_score, make_scorer\n",
    "from sklearn.model_selection import GridSearchCV\n",
    "from sklearn.metrics import confusion_matrix\n",
    "from sklearn.metrics import plot_confusion_matrix"
   ]
  },
  {
   "cell_type": "code",
   "execution_count": 153,
   "metadata": {},
   "outputs": [],
   "source": [
    "std = StandardScaler()\n",
    "std.fit(x_tn)\n",
    "\n",
    "std_x_tn = std.transform(x_tn)\n",
    "std_x_ts = std.transform(x_ts)\n",
    "\n",
    "scaler = MinMaxScaler()\n",
    "scaler.fit(x_tn)\n",
    "scalerd_x_tn = scaler.transform(x_tn)\n",
    "scalerd_x_ts = scaler.transform(x_ts)"
   ]
  },
  {
   "cell_type": "code",
   "execution_count": 217,
   "metadata": {},
   "outputs": [
    {
     "name": "stderr",
     "output_type": "stream",
     "text": [
      "C:\\Users\\operation\\AppData\\Local\\Temp\\ipykernel_16768\\1678751858.py:2: DataConversionWarning:\n",
      "\n",
      "A column-vector y was passed when a 1d array was expected. Please change the shape of y to (n_samples,), for example using ravel().\n",
      "\n"
     ]
    }
   ],
   "source": [
    "\n",
    "rf = RandomForestClassifier(max_depth=7, n_estimators=500)\n",
    "rf.fit(std_x_tn, y_tn)\n",
    "\n",
    "pred_rf = rf.predict(std_x_ts)"
   ]
  },
  {
   "cell_type": "code",
   "execution_count": 218,
   "metadata": {},
   "outputs": [
    {
     "name": "stdout",
     "output_type": "stream",
     "text": [
      "랜덤 포레스트 훈련 스코어는 0.9896551724137931이고 테스트 스코어는 0.952입니다.\n"
     ]
    }
   ],
   "source": [
    "std_tn_score = rf.score(std_x_tn, y_tn)\n",
    "std_ts_score = rf.score(std_x_ts, y_ts)\n",
    "\n",
    "print('랜덤 포레스트 훈련 스코어는 {}이고 테스트 스코어는 {}입니다.'.format(std_tn_score, std_ts_score))"
   ]
  },
  {
   "cell_type": "code",
   "execution_count": 219,
   "metadata": {},
   "outputs": [],
   "source": [
    "from sklearn.metrics import confusion_matrix\n",
    "from sklearn.metrics import classification_report\n",
    "\n",
    "conf_matrix = confusion_matrix(y_ts, pred_rf)\n",
    "class_report = classification_report(y_ts, pred_rf)"
   ]
  },
  {
   "cell_type": "code",
   "execution_count": 220,
   "metadata": {},
   "outputs": [
    {
     "name": "stdout",
     "output_type": "stream",
     "text": [
      "[[43  4]\n",
      " [ 2 76]]\n"
     ]
    }
   ],
   "source": [
    "print(conf_matrix)"
   ]
  },
  {
   "cell_type": "code",
   "execution_count": 221,
   "metadata": {},
   "outputs": [
    {
     "name": "stdout",
     "output_type": "stream",
     "text": [
      "              precision    recall  f1-score   support\n",
      "\n",
      "           0       0.96      0.91      0.93        47\n",
      "           1       0.95      0.97      0.96        78\n",
      "\n",
      "    accuracy                           0.95       125\n",
      "   macro avg       0.95      0.94      0.95       125\n",
      "weighted avg       0.95      0.95      0.95       125\n",
      "\n"
     ]
    }
   ],
   "source": [
    "print(class_report)"
   ]
  },
  {
   "cell_type": "code",
   "execution_count": 229,
   "metadata": {},
   "outputs": [],
   "source": [
    "importance = pd.DataFrame({'feature_name' : x.columns, 'coefficient' : rf.feature_importances_})\n",
    "importance=importance.sort_values(by='coefficient', ascending=False)"
   ]
  },
  {
   "cell_type": "code",
   "execution_count": 231,
   "metadata": {},
   "outputs": [
    {
     "data": {
      "text/plain": [
       "<AxesSubplot:xlabel='coefficient', ylabel='feature_name'>"
      ]
     },
     "execution_count": 231,
     "metadata": {},
     "output_type": "execute_result"
    },
    {
     "data": {
      "image/png": "[encoded data removed]",
      "text/plain": [
       "<Figure size 720x576 with 1 Axes>"
      ]
     },
     "metadata": {
      "image/png": {
       "height": 483,
       "width": 676
      }
     },
     "output_type": "display_data"
    }
   ],
   "source": [
    "import matplotlib.pyplot as plt\n",
    "plt.rcParams['font.family'] = 'Malgun Gothic'\n",
    "plt.figure(figsize=(10,8))\n",
    "sns.barplot(data=importance, x='coefficient',y='feature_name')"
   ]
  }
 ],
 "metadata": {
  "kernelspec": {
   "display_name": "Python 3 (ipykernel)",
   "language": "python",
   "name": "python3"
  },
  "language_info": {
   "codemirror_mode": {
    "name": "ipython",
    "version": 3
   },
   "file_extension": ".py",
   "mimetype": "text/x-python",
   "name": "python",
   "nbconvert_exporter": "python",
   "pygments_lexer": "ipython3",
   "version": "3.9.12"
  },
  "toc": {
   "base_numbering": 1,
   "nav_menu": {},
   "number_sections": true,
   "sideBar": true,
   "skip_h1_title": false,
   "title_cell": "Table of Contents",
   "title_sidebar": "Contents",
   "toc_cell": false,
   "toc_position": {},
   "toc_section_display": true,
   "toc_window_display": false
  },
  "vscode": {
   "interpreter": {
    "hash": "ff4f85d6e04298634172ac5d8264e7e9b556b95639fe52ebb9425c4d4cba0c9c"
   }
  }
 },
 "nbformat": 4,
 "nbformat_minor": 2
}
