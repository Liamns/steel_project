{
 "cells": [
  {
   "cell_type": "code",
   "execution_count": 117,
   "metadata": {},
   "outputs": [],
   "source": [
    "import pandas as pd\n",
    "import numpy as np\n",
    "import seaborn as sns\n",
    "import matplotlib.pyplot as plt\n",
    "import plotly.express as px"
   ]
  },
  {
   "cell_type": "code",
   "execution_count": 118,
   "metadata": {},
   "outputs": [],
   "source": [
    "df = pd.read_csv('steel_date.csv')"
   ]
  },
  {
   "cell_type": "code",
   "execution_count": 119,
   "metadata": {},
   "outputs": [],
   "source": [
    "steel = df.copy()"
   ]
  },
  {
   "cell_type": "code",
   "execution_count": 120,
   "metadata": {},
   "outputs": [
    {
     "data": {
      "text/html": [
       "<div>\n",
       "<style scoped>\n",
       "    .dataframe tbody tr th:only-of-type {\n",
       "        vertical-align: middle;\n",
       "    }\n",
       "\n",
       "    .dataframe tbody tr th {\n",
       "        vertical-align: top;\n",
       "    }\n",
       "\n",
       "    .dataframe thead th {\n",
       "        text-align: right;\n",
       "    }\n",
       "</style>\n",
       "<table border=\"1\" class=\"dataframe\">\n",
       "  <thead>\n",
       "    <tr style=\"text-align: right;\">\n",
       "      <th></th>\n",
       "      <th>Unnamed: 0</th>\n",
       "      <th>PLATE_NO</th>\n",
       "      <th>ROLLING_DATE</th>\n",
       "      <th>SCALE</th>\n",
       "      <th>SPEC</th>\n",
       "      <th>STEEL_KIND</th>\n",
       "      <th>PT_THK</th>\n",
       "      <th>PT_WDTH</th>\n",
       "      <th>PT_LTH</th>\n",
       "      <th>PT_WGT</th>\n",
       "      <th>...</th>\n",
       "      <th>FUR_HZ_TEMP</th>\n",
       "      <th>FUR_HZ_TIME</th>\n",
       "      <th>FUR_SZ_TEMP</th>\n",
       "      <th>FUR_SZ_TIME</th>\n",
       "      <th>FUR_TIME</th>\n",
       "      <th>FUR_EXTEMP</th>\n",
       "      <th>ROLLING_TEMP_T5</th>\n",
       "      <th>HSB</th>\n",
       "      <th>ROLLING_DESCALING</th>\n",
       "      <th>WORK_GR</th>\n",
       "    </tr>\n",
       "  </thead>\n",
       "  <tbody>\n",
       "    <tr>\n",
       "      <th>0</th>\n",
       "      <td>0</td>\n",
       "      <td>PB562774</td>\n",
       "      <td>2008-08-01:00:00:15</td>\n",
       "      <td>양품</td>\n",
       "      <td>AB/EH32-TM</td>\n",
       "      <td>T1</td>\n",
       "      <td>32.25</td>\n",
       "      <td>3707</td>\n",
       "      <td>15109</td>\n",
       "      <td>14180</td>\n",
       "      <td>...</td>\n",
       "      <td>1144</td>\n",
       "      <td>116</td>\n",
       "      <td>1133</td>\n",
       "      <td>59</td>\n",
       "      <td>282</td>\n",
       "      <td>1133</td>\n",
       "      <td>934</td>\n",
       "      <td>적용</td>\n",
       "      <td>8</td>\n",
       "      <td>2조</td>\n",
       "    </tr>\n",
       "    <tr>\n",
       "      <th>1</th>\n",
       "      <td>1</td>\n",
       "      <td>PB562775</td>\n",
       "      <td>2008-08-01:00:00:16</td>\n",
       "      <td>양품</td>\n",
       "      <td>AB/EH32-TM</td>\n",
       "      <td>T1</td>\n",
       "      <td>32.25</td>\n",
       "      <td>3707</td>\n",
       "      <td>15109</td>\n",
       "      <td>14180</td>\n",
       "      <td>...</td>\n",
       "      <td>1144</td>\n",
       "      <td>122</td>\n",
       "      <td>1135</td>\n",
       "      <td>53</td>\n",
       "      <td>283</td>\n",
       "      <td>1135</td>\n",
       "      <td>937</td>\n",
       "      <td>적용</td>\n",
       "      <td>8</td>\n",
       "      <td>2조</td>\n",
       "    </tr>\n",
       "    <tr>\n",
       "      <th>2</th>\n",
       "      <td>2</td>\n",
       "      <td>PB562776</td>\n",
       "      <td>2008-08-01:00:00:59</td>\n",
       "      <td>양품</td>\n",
       "      <td>NV-E36-TM</td>\n",
       "      <td>T8</td>\n",
       "      <td>33.27</td>\n",
       "      <td>3619</td>\n",
       "      <td>19181</td>\n",
       "      <td>18130</td>\n",
       "      <td>...</td>\n",
       "      <td>1129</td>\n",
       "      <td>116</td>\n",
       "      <td>1121</td>\n",
       "      <td>55</td>\n",
       "      <td>282</td>\n",
       "      <td>1121</td>\n",
       "      <td>889</td>\n",
       "      <td>적용</td>\n",
       "      <td>8</td>\n",
       "      <td>3조</td>\n",
       "    </tr>\n",
       "    <tr>\n",
       "      <th>3</th>\n",
       "      <td>3</td>\n",
       "      <td>PB562777</td>\n",
       "      <td>2008-08-01:00:01:24</td>\n",
       "      <td>양품</td>\n",
       "      <td>NV-E36-TM</td>\n",
       "      <td>T8</td>\n",
       "      <td>33.27</td>\n",
       "      <td>3619</td>\n",
       "      <td>19181</td>\n",
       "      <td>18130</td>\n",
       "      <td>...</td>\n",
       "      <td>1152</td>\n",
       "      <td>125</td>\n",
       "      <td>1127</td>\n",
       "      <td>68</td>\n",
       "      <td>316</td>\n",
       "      <td>1127</td>\n",
       "      <td>885</td>\n",
       "      <td>적용</td>\n",
       "      <td>8</td>\n",
       "      <td>3조</td>\n",
       "    </tr>\n",
       "    <tr>\n",
       "      <th>4</th>\n",
       "      <td>4</td>\n",
       "      <td>PB562778</td>\n",
       "      <td>2008-08-01:00:01:44</td>\n",
       "      <td>양품</td>\n",
       "      <td>BV-EH36-TM</td>\n",
       "      <td>T8</td>\n",
       "      <td>38.33</td>\n",
       "      <td>3098</td>\n",
       "      <td>13334</td>\n",
       "      <td>12430</td>\n",
       "      <td>...</td>\n",
       "      <td>1140</td>\n",
       "      <td>134</td>\n",
       "      <td>1128</td>\n",
       "      <td>48</td>\n",
       "      <td>314</td>\n",
       "      <td>1128</td>\n",
       "      <td>873</td>\n",
       "      <td>적용</td>\n",
       "      <td>8</td>\n",
       "      <td>1조</td>\n",
       "    </tr>\n",
       "  </tbody>\n",
       "</table>\n",
       "<p>5 rows × 22 columns</p>\n",
       "</div>"
      ],
      "text/plain": [
       "   Unnamed: 0  PLATE_NO         ROLLING_DATE SCALE        SPEC STEEL_KIND  \\\n",
       "0           0  PB562774  2008-08-01:00:00:15    양품  AB/EH32-TM         T1   \n",
       "1           1  PB562775  2008-08-01:00:00:16    양품  AB/EH32-TM         T1   \n",
       "2           2  PB562776  2008-08-01:00:00:59    양품   NV-E36-TM         T8   \n",
       "3           3  PB562777  2008-08-01:00:01:24    양품   NV-E36-TM         T8   \n",
       "4           4  PB562778  2008-08-01:00:01:44    양품  BV-EH36-TM         T8   \n",
       "\n",
       "   PT_THK  PT_WDTH  PT_LTH  PT_WGT  ... FUR_HZ_TEMP  FUR_HZ_TIME  FUR_SZ_TEMP  \\\n",
       "0   32.25     3707   15109   14180  ...        1144          116         1133   \n",
       "1   32.25     3707   15109   14180  ...        1144          122         1135   \n",
       "2   33.27     3619   19181   18130  ...        1129          116         1121   \n",
       "3   33.27     3619   19181   18130  ...        1152          125         1127   \n",
       "4   38.33     3098   13334   12430  ...        1140          134         1128   \n",
       "\n",
       "   FUR_SZ_TIME  FUR_TIME  FUR_EXTEMP  ROLLING_TEMP_T5  HSB  ROLLING_DESCALING  \\\n",
       "0           59       282        1133              934   적용                  8   \n",
       "1           53       283        1135              937   적용                  8   \n",
       "2           55       282        1121              889   적용                  8   \n",
       "3           68       316        1127              885   적용                  8   \n",
       "4           48       314        1128              873   적용                  8   \n",
       "\n",
       "  WORK_GR  \n",
       "0      2조  \n",
       "1      2조  \n",
       "2      3조  \n",
       "3      3조  \n",
       "4      1조  \n",
       "\n",
       "[5 rows x 22 columns]"
      ]
     },
     "execution_count": 120,
     "metadata": {},
     "output_type": "execute_result"
    }
   ],
   "source": [
    "steel.head()"
   ]
  },
  {
   "cell_type": "markdown",
   "metadata": {},
   "source": [
    "- ptp = max - min"
   ]
  },
  {
   "cell_type": "code",
   "execution_count": 121,
   "metadata": {},
   "outputs": [
    {
     "name": "stdout",
     "output_type": "stream",
     "text": [
      "   STEEL_KIND         SPEC  PT_THK  PT_WDTH  PT_LTH  PT_WGT\n",
      "0          C0       A283-C    8.09      844   12163   42770\n",
      "1          C0      A516-60    0.00        0       0       0\n",
      "2          C0      A709-36    0.00        0       0       0\n",
      "3          C0         AB/A   12.62     1193   13484   25890\n",
      "4          C0      AB/AH32    3.53       43    4978   24720\n",
      "5          C0         AB/B    6.07     1826   29771   53800\n",
      "6          C0         BV-A    0.00        0       0       0\n",
      "7          C0      BV-AH32    8.09     2488   30436   54480\n",
      "8          C0         BV-B    5.06     1570   15231   70960\n",
      "9          C0        CCS-B    0.00        0       0       0\n",
      "10         C0         GL-A    1.01      749   14466   14140\n",
      "11         C0       GL-A32    5.05      789   12175   57080\n",
      "12         C0    JS-SM400A    0.00        0       0       0\n",
      "13         C0    JS-SM400B    0.00        0       0       0\n",
      "14         C0    JS-SM490A   37.11      925   35685   63120\n",
      "15         C0   JS-SM490YA    0.00        0       0       0\n",
      "16         C0   JS-SM490YB    6.01     1284   21799   79500\n",
      "17         C0     JS-SS400   61.18      619   40411   73090\n",
      "18         C0         KR-A   11.59     2290   33790   97850\n",
      "19         C0      KR-AH32    0.50      660     533    8740\n",
      "20         C0         KR-B    0.00        0       0       0\n",
      "21         C0    KS-SM400A   10.16       67   16345   56940\n",
      "22         C0    KS-SM400B    8.14      482   17441   82920\n",
      "23         C0    KS-SM490A   10.03      603   24420   39040\n",
      "24         C0    KS-SM490B   21.09     1478   26101   53140\n",
      "25         C0     KS-SS400    5.02      206   14207   76900\n",
      "26         C0         LR-A   12.12     2375   37603   95760\n",
      "27         C0      LR-AH32    8.05     2528   33154   71750\n",
      "28         C0         LR-B    8.38     1448   20499   59710\n",
      "29         C0        NK-KA    7.08     1025   17923   46820\n",
      "30         C0      NK-KA32    3.03      742   11264   48750\n",
      "31         C0         NV-A   13.16     2035   30856   62320\n",
      "32         C0       NV-A32    8.09     1567   14564   52300\n",
      "33         C0         NV-B   12.64     1339    6184   43190\n",
      "34         C0      SA283-C   19.55      928   23846   37230\n",
      "35         C1     JS-SS400    0.00        0       0       0\n",
      "36         C3      AB/AH32    0.00        0       0       0\n",
      "37         C3      LR-AH32    0.00        0       0       0\n",
      "38         C3      LR-AH36    0.00        0       0       0\n",
      "39         C3      V42JBN3    0.00        0    6845   11370\n",
      "40         T0   BV-AH32-TM   10.06       15    6229   21260\n",
      "41         T0       COMMON    0.00        0       0       0\n",
      "42         T0    GL-A32-TM   27.29      604   18367   14460\n",
      "43         T0   NK-KA32-TM    0.00        0       0       0\n",
      "44         T0    NV-A32-TM    0.00        0       0       0\n",
      "45         T0    NV-D32-TM    0.01      454    5312    1600\n",
      "46         T1   AB/EH32-TM    0.00        0       0       0\n",
      "47         T1   BV-EH32-TM    0.00        0       0       0\n",
      "48         T1       COMMON    0.00       60      34     420\n",
      "49         T1    GL-E32-TM   16.18       22    8787   19780\n",
      "50         T1   LR-EH32-TM    0.00        0       0       0\n",
      "51         T1    NV-E32-TM    0.50        0      79    2200\n",
      "52         T3   API-2W-50T    0.00      626    9478   15610\n",
      "53         T5    KS-HSB500    2.00      115    3917   10670\n",
      "54         T5    KS-HSB600    0.00        0       0       0\n",
      "55         T5   PILAC-BT33   40.83     1255   16149   26310\n",
      "56         T7  A131-DH36TM    0.00        0       0       0\n",
      "57         T7   BV-AH36-TL    2.01        0     266       0\n",
      "58         T7   BV-AH36-TM    0.00        0       0       0\n",
      "59         T7       COMMON    0.00        0       0       0\n",
      "60         T7    GL-A36-TM    4.05      748    7517   45300\n",
      "61         T7    GL-D36-TM    0.00      815    7885   18140\n",
      "62         T7   LR-AH36-TM    0.00        0       0       0\n",
      "63         T7   NK-KD36-TM    0.00      110      18    2490\n",
      "64         T7    NV-A36-TM    0.00      317       8   12930\n",
      "65         T7    NV-D36-TM   31.26     1830   14505    5780\n",
      "66         T8   AB/EH36-TM   38.36      612    4514    6500\n",
      "67         T8   BV-EH36-TM   35.38     1303   13491   26390\n",
      "68         T8       COMMON   37.28      804    6438   16320\n",
      "69         T8    GL-E36-TM   31.32     1765   18483   28580\n",
      "70         T8   LR-EH36-TM    0.00        0       0       0\n",
      "71         T8    NV-E36-TM   37.33     1354    7349    3270\n"
     ]
    }
   ],
   "source": [
    "result = steel.groupby(['STEEL_KIND','SPEC'], as_index=False).agg({'PT_THK': np.ptp, 'PT_WDTH': np.ptp,\n",
    "                                                   'PT_LTH': np.ptp, 'PT_WGT': np.ptp\n",
    "                                                   })\n",
    "print(result.to_string())"
   ]
  },
  {
   "cell_type": "code",
   "execution_count": 122,
   "metadata": {},
   "outputs": [],
   "source": [
    "plt01 = kind.groupby('SPEC')[['SCALE']].count()\n",
    "plt01 = plt01.sort_values(by='SCALE', ascending=False)\n"
   ]
  },
  {
   "cell_type": "code",
   "execution_count": 123,
   "metadata": {},
   "outputs": [
    {
     "data": {
      "application/vnd.plotly.v1+json": {
       "config": {
        "plotlyServerURL": "https://plot.ly"
       },
       "data": [
        {
         "hovertemplate": "SPEC=%{x}<br>SCALE=%{y}<extra></extra>",
         "legendgroup": "",
         "line": {
          "color": "#636efa",
          "dash": "solid"
         },
         "marker": {
          "symbol": "circle"
         },
         "mode": "lines",
         "name": "",
         "orientation": "v",
         "showlegend": false,
         "type": "scatter",
         "x": [
          "JS-SM490YB",
          "LR-A",
          "NV-A",
          "PILAC-BT33",
          "BV-EH36-TM",
          "LR-AH32",
          "NV-A32",
          "JS-SM490A",
          "COMMON",
          "BV-B",
          "KR-A",
          "SA283-C",
          "JS-SS400",
          "AB/EH36-TM",
          "GL-E36-TM",
          "BV-AH32",
          "LR-B",
          "NK-KA32",
          "GL-A36-TM",
          "GL-A32",
          "GL-D36-TM",
          "KS-SM490B",
          "AB/A",
          "GL-E32-TM",
          "A283-C",
          "AB/B",
          "NK-KA",
          "JS-SM490YA",
          "KS-SM490A",
          "AB/AH32",
          "KS-SS400",
          "JS-SM400B",
          "NV-E36-TM",
          "NV-D36-TM",
          "KS-SM400A",
          "NV-D32-TM",
          "KS-SM400B",
          "V42JBN3",
          "GL-A32-TM",
          "NV-A32-TM",
          "BV-AH32-TM",
          "KR-AH32",
          "BV-AH36-TL",
          "GL-A",
          "NV-B",
          "LR-EH36-TM",
          "NK-KD36-TM",
          "KS-HSB500",
          "NV-E32-TM",
          "API-2W-50T",
          "NV-A36-TM",
          "AB/EH32-TM",
          "JS-SM400A",
          "A516-60",
          "BV-A",
          "A709-36",
          "KS-HSB600",
          "NK-KA32-TM",
          "BV-AH36-TM",
          "BV-EH32-TM",
          "LR-EH32-TM",
          "CCS-B",
          "LR-AH36-TM",
          "LR-AH36",
          "KR-B",
          "A131-DH36TM"
         ],
         "xaxis": "x",
         "y": [
          84,
          54,
          48,
          40,
          35,
          33,
          33,
          31,
          28,
          28,
          27,
          21,
          19,
          17,
          16,
          14,
          13,
          12,
          11,
          8,
          8,
          7,
          7,
          6,
          6,
          6,
          5,
          5,
          5,
          5,
          5,
          5,
          5,
          5,
          4,
          4,
          4,
          4,
          4,
          3,
          3,
          3,
          3,
          3,
          3,
          2,
          2,
          2,
          2,
          2,
          2,
          2,
          2,
          2,
          1,
          1,
          1,
          1,
          1,
          1,
          1,
          1,
          1,
          1,
          1,
          1
         ],
         "yaxis": "y"
        }
       ],
       "layout": {
        "legend": {
         "tracegroupgap": 0
        },
        "margin": {
         "t": 60
        },
        "template": {
         "data": {
          "bar": [
           {
            "error_x": {
             "color": "#2a3f5f"
            },
            "error_y": {
             "color": "#2a3f5f"
            },
            "marker": {
             "line": {
              "color": "#E5ECF6",
              "width": 0.5
             },
             "pattern": {
              "fillmode": "overlay",
              "size": 10,
              "solidity": 0.2
             }
            },
            "type": "bar"
           }
          ],
          "barpolar": [
           {
            "marker": {
             "line": {
              "color": "#E5ECF6",
              "width": 0.5
             },
             "pattern": {
              "fillmode": "overlay",
              "size": 10,
              "solidity": 0.2
             }
            },
            "type": "barpolar"
           }
          ],
          "carpet": [
           {
            "aaxis": {
             "endlinecolor": "#2a3f5f",
             "gridcolor": "white",
             "linecolor": "white",
             "minorgridcolor": "white",
             "startlinecolor": "#2a3f5f"
            },
            "baxis": {
             "endlinecolor": "#2a3f5f",
             "gridcolor": "white",
             "linecolor": "white",
             "minorgridcolor": "white",
             "startlinecolor": "#2a3f5f"
            },
            "type": "carpet"
           }
          ],
          "choropleth": [
           {
            "colorbar": {
             "outlinewidth": 0,
             "ticks": ""
            },
            "type": "choropleth"
           }
          ],
          "contour": [
           {
            "colorbar": {
             "outlinewidth": 0,
             "ticks": ""
            },
            "colorscale": [
             [
              0,
              "#0d0887"
             ],
             [
              0.1111111111111111,
              "#46039f"
             ],
             [
              0.2222222222222222,
              "#7201a8"
             ],
             [
              0.3333333333333333,
              "#9c179e"
             ],
             [
              0.4444444444444444,
              "#bd3786"
             ],
             [
              0.5555555555555556,
              "#d8576b"
             ],
             [
              0.6666666666666666,
              "#ed7953"
             ],
             [
              0.7777777777777778,
              "#fb9f3a"
             ],
             [
              0.8888888888888888,
              "#fdca26"
             ],
             [
              1,
              "#f0f921"
             ]
            ],
            "type": "contour"
           }
          ],
          "contourcarpet": [
           {
            "colorbar": {
             "outlinewidth": 0,
             "ticks": ""
            },
            "type": "contourcarpet"
           }
          ],
          "heatmap": [
           {
            "colorbar": {
             "outlinewidth": 0,
             "ticks": ""
            },
            "colorscale": [
             [
              0,
              "#0d0887"
             ],
             [
              0.1111111111111111,
              "#46039f"
             ],
             [
              0.2222222222222222,
              "#7201a8"
             ],
             [
              0.3333333333333333,
              "#9c179e"
             ],
             [
              0.4444444444444444,
              "#bd3786"
             ],
             [
              0.5555555555555556,
              "#d8576b"
             ],
             [
              0.6666666666666666,
              "#ed7953"
             ],
             [
              0.7777777777777778,
              "#fb9f3a"
             ],
             [
              0.8888888888888888,
              "#fdca26"
             ],
             [
              1,
              "#f0f921"
             ]
            ],
            "type": "heatmap"
           }
          ],
          "heatmapgl": [
           {
            "colorbar": {
             "outlinewidth": 0,
             "ticks": ""
            },
            "colorscale": [
             [
              0,
              "#0d0887"
             ],
             [
              0.1111111111111111,
              "#46039f"
             ],
             [
              0.2222222222222222,
              "#7201a8"
             ],
             [
              0.3333333333333333,
              "#9c179e"
             ],
             [
              0.4444444444444444,
              "#bd3786"
             ],
             [
              0.5555555555555556,
              "#d8576b"
             ],
             [
              0.6666666666666666,
              "#ed7953"
             ],
             [
              0.7777777777777778,
              "#fb9f3a"
             ],
             [
              0.8888888888888888,
              "#fdca26"
             ],
             [
              1,
              "#f0f921"
             ]
            ],
            "type": "heatmapgl"
           }
          ],
          "histogram": [
           {
            "marker": {
             "pattern": {
              "fillmode": "overlay",
              "size": 10,
              "solidity": 0.2
             }
            },
            "type": "histogram"
           }
          ],
          "histogram2d": [
           {
            "colorbar": {
             "outlinewidth": 0,
             "ticks": ""
            },
            "colorscale": [
             [
              0,
              "#0d0887"
             ],
             [
              0.1111111111111111,
              "#46039f"
             ],
             [
              0.2222222222222222,
              "#7201a8"
             ],
             [
              0.3333333333333333,
              "#9c179e"
             ],
             [
              0.4444444444444444,
              "#bd3786"
             ],
             [
              0.5555555555555556,
              "#d8576b"
             ],
             [
              0.6666666666666666,
              "#ed7953"
             ],
             [
              0.7777777777777778,
              "#fb9f3a"
             ],
             [
              0.8888888888888888,
              "#fdca26"
             ],
             [
              1,
              "#f0f921"
             ]
            ],
            "type": "histogram2d"
           }
          ],
          "histogram2dcontour": [
           {
            "colorbar": {
             "outlinewidth": 0,
             "ticks": ""
            },
            "colorscale": [
             [
              0,
              "#0d0887"
             ],
             [
              0.1111111111111111,
              "#46039f"
             ],
             [
              0.2222222222222222,
              "#7201a8"
             ],
             [
              0.3333333333333333,
              "#9c179e"
             ],
             [
              0.4444444444444444,
              "#bd3786"
             ],
             [
              0.5555555555555556,
              "#d8576b"
             ],
             [
              0.6666666666666666,
              "#ed7953"
             ],
             [
              0.7777777777777778,
              "#fb9f3a"
             ],
             [
              0.8888888888888888,
              "#fdca26"
             ],
             [
              1,
              "#f0f921"
             ]
            ],
            "type": "histogram2dcontour"
           }
          ],
          "mesh3d": [
           {
            "colorbar": {
             "outlinewidth": 0,
             "ticks": ""
            },
            "type": "mesh3d"
           }
          ],
          "parcoords": [
           {
            "line": {
             "colorbar": {
              "outlinewidth": 0,
              "ticks": ""
             }
            },
            "type": "parcoords"
           }
          ],
          "pie": [
           {
            "automargin": true,
            "type": "pie"
           }
          ],
          "scatter": [
           {
            "marker": {
             "colorbar": {
              "outlinewidth": 0,
              "ticks": ""
             }
            },
            "type": "scatter"
           }
          ],
          "scatter3d": [
           {
            "line": {
             "colorbar": {
              "outlinewidth": 0,
              "ticks": ""
             }
            },
            "marker": {
             "colorbar": {
              "outlinewidth": 0,
              "ticks": ""
             }
            },
            "type": "scatter3d"
           }
          ],
          "scattercarpet": [
           {
            "marker": {
             "colorbar": {
              "outlinewidth": 0,
              "ticks": ""
             }
            },
            "type": "scattercarpet"
           }
          ],
          "scattergeo": [
           {
            "marker": {
             "colorbar": {
              "outlinewidth": 0,
              "ticks": ""
             }
            },
            "type": "scattergeo"
           }
          ],
          "scattergl": [
           {
            "marker": {
             "colorbar": {
              "outlinewidth": 0,
              "ticks": ""
             }
            },
            "type": "scattergl"
           }
          ],
          "scattermapbox": [
           {
            "marker": {
             "colorbar": {
              "outlinewidth": 0,
              "ticks": ""
             }
            },
            "type": "scattermapbox"
           }
          ],
          "scatterpolar": [
           {
            "marker": {
             "colorbar": {
              "outlinewidth": 0,
              "ticks": ""
             }
            },
            "type": "scatterpolar"
           }
          ],
          "scatterpolargl": [
           {
            "marker": {
             "colorbar": {
              "outlinewidth": 0,
              "ticks": ""
             }
            },
            "type": "scatterpolargl"
           }
          ],
          "scatterternary": [
           {
            "marker": {
             "colorbar": {
              "outlinewidth": 0,
              "ticks": ""
             }
            },
            "type": "scatterternary"
           }
          ],
          "surface": [
           {
            "colorbar": {
             "outlinewidth": 0,
             "ticks": ""
            },
            "colorscale": [
             [
              0,
              "#0d0887"
             ],
             [
              0.1111111111111111,
              "#46039f"
             ],
             [
              0.2222222222222222,
              "#7201a8"
             ],
             [
              0.3333333333333333,
              "#9c179e"
             ],
             [
              0.4444444444444444,
              "#bd3786"
             ],
             [
              0.5555555555555556,
              "#d8576b"
             ],
             [
              0.6666666666666666,
              "#ed7953"
             ],
             [
              0.7777777777777778,
              "#fb9f3a"
             ],
             [
              0.8888888888888888,
              "#fdca26"
             ],
             [
              1,
              "#f0f921"
             ]
            ],
            "type": "surface"
           }
          ],
          "table": [
           {
            "cells": {
             "fill": {
              "color": "#EBF0F8"
             },
             "line": {
              "color": "white"
             }
            },
            "header": {
             "fill": {
              "color": "#C8D4E3"
             },
             "line": {
              "color": "white"
             }
            },
            "type": "table"
           }
          ]
         },
         "layout": {
          "annotationdefaults": {
           "arrowcolor": "#2a3f5f",
           "arrowhead": 0,
           "arrowwidth": 1
          },
          "autotypenumbers": "strict",
          "coloraxis": {
           "colorbar": {
            "outlinewidth": 0,
            "ticks": ""
           }
          },
          "colorscale": {
           "diverging": [
            [
             0,
             "#8e0152"
            ],
            [
             0.1,
             "#c51b7d"
            ],
            [
             0.2,
             "#de77ae"
            ],
            [
             0.3,
             "#f1b6da"
            ],
            [
             0.4,
             "#fde0ef"
            ],
            [
             0.5,
             "#f7f7f7"
            ],
            [
             0.6,
             "#e6f5d0"
            ],
            [
             0.7,
             "#b8e186"
            ],
            [
             0.8,
             "#7fbc41"
            ],
            [
             0.9,
             "#4d9221"
            ],
            [
             1,
             "#276419"
            ]
           ],
           "sequential": [
            [
             0,
             "#0d0887"
            ],
            [
             0.1111111111111111,
             "#46039f"
            ],
            [
             0.2222222222222222,
             "#7201a8"
            ],
            [
             0.3333333333333333,
             "#9c179e"
            ],
            [
             0.4444444444444444,
             "#bd3786"
            ],
            [
             0.5555555555555556,
             "#d8576b"
            ],
            [
             0.6666666666666666,
             "#ed7953"
            ],
            [
             0.7777777777777778,
             "#fb9f3a"
            ],
            [
             0.8888888888888888,
             "#fdca26"
            ],
            [
             1,
             "#f0f921"
            ]
           ],
           "sequentialminus": [
            [
             0,
             "#0d0887"
            ],
            [
             0.1111111111111111,
             "#46039f"
            ],
            [
             0.2222222222222222,
             "#7201a8"
            ],
            [
             0.3333333333333333,
             "#9c179e"
            ],
            [
             0.4444444444444444,
             "#bd3786"
            ],
            [
             0.5555555555555556,
             "#d8576b"
            ],
            [
             0.6666666666666666,
             "#ed7953"
            ],
            [
             0.7777777777777778,
             "#fb9f3a"
            ],
            [
             0.8888888888888888,
             "#fdca26"
            ],
            [
             1,
             "#f0f921"
            ]
           ]
          },
          "colorway": [
           "#636efa",
           "#EF553B",
           "#00cc96",
           "#ab63fa",
           "#FFA15A",
           "#19d3f3",
           "#FF6692",
           "#B6E880",
           "#FF97FF",
           "#FECB52"
          ],
          "font": {
           "color": "#2a3f5f"
          },
          "geo": {
           "bgcolor": "white",
           "lakecolor": "white",
           "landcolor": "#E5ECF6",
           "showlakes": true,
           "showland": true,
           "subunitcolor": "white"
          },
          "hoverlabel": {
           "align": "left"
          },
          "hovermode": "closest",
          "mapbox": {
           "style": "light"
          },
          "paper_bgcolor": "white",
          "plot_bgcolor": "#E5ECF6",
          "polar": {
           "angularaxis": {
            "gridcolor": "white",
            "linecolor": "white",
            "ticks": ""
           },
           "bgcolor": "#E5ECF6",
           "radialaxis": {
            "gridcolor": "white",
            "linecolor": "white",
            "ticks": ""
           }
          },
          "scene": {
           "xaxis": {
            "backgroundcolor": "#E5ECF6",
            "gridcolor": "white",
            "gridwidth": 2,
            "linecolor": "white",
            "showbackground": true,
            "ticks": "",
            "zerolinecolor": "white"
           },
           "yaxis": {
            "backgroundcolor": "#E5ECF6",
            "gridcolor": "white",
            "gridwidth": 2,
            "linecolor": "white",
            "showbackground": true,
            "ticks": "",
            "zerolinecolor": "white"
           },
           "zaxis": {
            "backgroundcolor": "#E5ECF6",
            "gridcolor": "white",
            "gridwidth": 2,
            "linecolor": "white",
            "showbackground": true,
            "ticks": "",
            "zerolinecolor": "white"
           }
          },
          "shapedefaults": {
           "line": {
            "color": "#2a3f5f"
           }
          },
          "ternary": {
           "aaxis": {
            "gridcolor": "white",
            "linecolor": "white",
            "ticks": ""
           },
           "baxis": {
            "gridcolor": "white",
            "linecolor": "white",
            "ticks": ""
           },
           "bgcolor": "#E5ECF6",
           "caxis": {
            "gridcolor": "white",
            "linecolor": "white",
            "ticks": ""
           }
          },
          "title": {
           "x": 0.05
          },
          "xaxis": {
           "automargin": true,
           "gridcolor": "white",
           "linecolor": "white",
           "ticks": "",
           "title": {
            "standoff": 15
           },
           "zerolinecolor": "white",
           "zerolinewidth": 2
          },
          "yaxis": {
           "automargin": true,
           "gridcolor": "white",
           "linecolor": "white",
           "ticks": "",
           "title": {
            "standoff": 15
           },
           "zerolinecolor": "white",
           "zerolinewidth": 2
          }
         }
        },
        "xaxis": {
         "anchor": "y",
         "domain": [
          0,
          1
         ],
         "title": {
          "text": "SPEC"
         }
        },
        "yaxis": {
         "anchor": "x",
         "domain": [
          0,
          1
         ],
         "title": {
          "text": "SCALE"
         }
        }
       }
      }
     },
     "metadata": {},
     "output_type": "display_data"
    }
   ],
   "source": [
    "px.line(plt01, x=plt01.index, y='SCALE')"
   ]
  },
  {
   "cell_type": "markdown",
   "metadata": {},
   "source": [
    "- 위 그래프 토대로 20이상의 SPEC을 추려 분석\n",
    "- 12개의 규격이 전체 생산량의 약 64%를 차지"
   ]
  },
  {
   "cell_type": "code",
   "execution_count": 124,
   "metadata": {},
   "outputs": [
    {
     "data": {
      "text/html": [
       "<div>\n",
       "<style scoped>\n",
       "    .dataframe tbody tr th:only-of-type {\n",
       "        vertical-align: middle;\n",
       "    }\n",
       "\n",
       "    .dataframe tbody tr th {\n",
       "        vertical-align: top;\n",
       "    }\n",
       "\n",
       "    .dataframe thead th {\n",
       "        text-align: right;\n",
       "    }\n",
       "</style>\n",
       "<table border=\"1\" class=\"dataframe\">\n",
       "  <thead>\n",
       "    <tr style=\"text-align: right;\">\n",
       "      <th></th>\n",
       "      <th>SCALE</th>\n",
       "    </tr>\n",
       "    <tr>\n",
       "      <th>SPEC</th>\n",
       "      <th></th>\n",
       "    </tr>\n",
       "  </thead>\n",
       "  <tbody>\n",
       "    <tr>\n",
       "      <th>JS-SM490YB</th>\n",
       "      <td>84</td>\n",
       "    </tr>\n",
       "    <tr>\n",
       "      <th>LR-A</th>\n",
       "      <td>54</td>\n",
       "    </tr>\n",
       "    <tr>\n",
       "      <th>NV-A</th>\n",
       "      <td>48</td>\n",
       "    </tr>\n",
       "    <tr>\n",
       "      <th>PILAC-BT33</th>\n",
       "      <td>40</td>\n",
       "    </tr>\n",
       "    <tr>\n",
       "      <th>BV-EH36-TM</th>\n",
       "      <td>35</td>\n",
       "    </tr>\n",
       "    <tr>\n",
       "      <th>LR-AH32</th>\n",
       "      <td>33</td>\n",
       "    </tr>\n",
       "    <tr>\n",
       "      <th>NV-A32</th>\n",
       "      <td>33</td>\n",
       "    </tr>\n",
       "    <tr>\n",
       "      <th>JS-SM490A</th>\n",
       "      <td>31</td>\n",
       "    </tr>\n",
       "    <tr>\n",
       "      <th>COMMON</th>\n",
       "      <td>28</td>\n",
       "    </tr>\n",
       "    <tr>\n",
       "      <th>BV-B</th>\n",
       "      <td>28</td>\n",
       "    </tr>\n",
       "    <tr>\n",
       "      <th>KR-A</th>\n",
       "      <td>27</td>\n",
       "    </tr>\n",
       "    <tr>\n",
       "      <th>SA283-C</th>\n",
       "      <td>21</td>\n",
       "    </tr>\n",
       "  </tbody>\n",
       "</table>\n",
       "</div>"
      ],
      "text/plain": [
       "            SCALE\n",
       "SPEC             \n",
       "JS-SM490YB     84\n",
       "LR-A           54\n",
       "NV-A           48\n",
       "PILAC-BT33     40\n",
       "BV-EH36-TM     35\n",
       "LR-AH32        33\n",
       "NV-A32         33\n",
       "JS-SM490A      31\n",
       "COMMON         28\n",
       "BV-B           28\n",
       "KR-A           27\n",
       "SA283-C        21"
      ]
     },
     "execution_count": 124,
     "metadata": {},
     "output_type": "execute_result"
    }
   ],
   "source": [
    "sub = plt01[plt01['SCALE'] >= 20]\n",
    "sub"
   ]
  },
  {
   "cell_type": "code",
   "execution_count": 125,
   "metadata": {},
   "outputs": [
    {
     "name": "stdout",
     "output_type": "stream",
     "text": [
      "JS-SM490YB\n",
      "LR-A\n",
      "NV-A\n",
      "PILAC-BT33\n",
      "BV-EH36-TM\n",
      "LR-AH32\n",
      "NV-A32\n",
      "JS-SM490A\n",
      "COMMON\n",
      "BV-B\n",
      "KR-A\n",
      "SA283-C\n"
     ]
    }
   ],
   "source": [
    "name = sub.index\n",
    "name=pd.Series(name)\n",
    "name\n",
    "for i in name:\n",
    "    print(i)"
   ]
  },
  {
   "cell_type": "code",
   "execution_count": 127,
   "metadata": {},
   "outputs": [
    {
     "data": {
      "text/html": [
       "<div>\n",
       "<style scoped>\n",
       "    .dataframe tbody tr th:only-of-type {\n",
       "        vertical-align: middle;\n",
       "    }\n",
       "\n",
       "    .dataframe tbody tr th {\n",
       "        vertical-align: top;\n",
       "    }\n",
       "\n",
       "    .dataframe thead th {\n",
       "        text-align: right;\n",
       "    }\n",
       "</style>\n",
       "<table border=\"1\" class=\"dataframe\">\n",
       "  <thead>\n",
       "    <tr style=\"text-align: right;\">\n",
       "      <th></th>\n",
       "      <th>Unnamed: 0</th>\n",
       "      <th>PLATE_NO</th>\n",
       "      <th>ROLLING_DATE</th>\n",
       "      <th>SCALE</th>\n",
       "      <th>SPEC</th>\n",
       "      <th>STEEL_KIND</th>\n",
       "      <th>PT_THK</th>\n",
       "      <th>PT_WDTH</th>\n",
       "      <th>PT_LTH</th>\n",
       "      <th>PT_WGT</th>\n",
       "      <th>...</th>\n",
       "      <th>FUR_HZ_TEMP</th>\n",
       "      <th>FUR_HZ_TIME</th>\n",
       "      <th>FUR_SZ_TEMP</th>\n",
       "      <th>FUR_SZ_TIME</th>\n",
       "      <th>FUR_TIME</th>\n",
       "      <th>FUR_EXTEMP</th>\n",
       "      <th>ROLLING_TEMP_T5</th>\n",
       "      <th>HSB</th>\n",
       "      <th>ROLLING_DESCALING</th>\n",
       "      <th>WORK_GR</th>\n",
       "    </tr>\n",
       "  </thead>\n",
       "  <tbody>\n",
       "    <tr>\n",
       "      <th>0</th>\n",
       "      <td>93</td>\n",
       "      <td>PB562867</td>\n",
       "      <td>2008-08-01:05:54:26</td>\n",
       "      <td>양품</td>\n",
       "      <td>JS-SM490YB</td>\n",
       "      <td>C0</td>\n",
       "      <td>14.09</td>\n",
       "      <td>3284</td>\n",
       "      <td>51234</td>\n",
       "      <td>93050</td>\n",
       "      <td>...</td>\n",
       "      <td>1140</td>\n",
       "      <td>80</td>\n",
       "      <td>1131</td>\n",
       "      <td>117</td>\n",
       "      <td>352</td>\n",
       "      <td>1131</td>\n",
       "      <td>915</td>\n",
       "      <td>적용</td>\n",
       "      <td>10</td>\n",
       "      <td>2조</td>\n",
       "    </tr>\n",
       "    <tr>\n",
       "      <th>1</th>\n",
       "      <td>94</td>\n",
       "      <td>PB562868</td>\n",
       "      <td>2008-08-01:05:55:53</td>\n",
       "      <td>양품</td>\n",
       "      <td>JS-SM490YB</td>\n",
       "      <td>C0</td>\n",
       "      <td>14.09</td>\n",
       "      <td>3284</td>\n",
       "      <td>51234</td>\n",
       "      <td>93050</td>\n",
       "      <td>...</td>\n",
       "      <td>1142</td>\n",
       "      <td>74</td>\n",
       "      <td>1132</td>\n",
       "      <td>123</td>\n",
       "      <td>353</td>\n",
       "      <td>1132</td>\n",
       "      <td>923</td>\n",
       "      <td>적용</td>\n",
       "      <td>10</td>\n",
       "      <td>4조</td>\n",
       "    </tr>\n",
       "    <tr>\n",
       "      <th>2</th>\n",
       "      <td>95</td>\n",
       "      <td>PB562869</td>\n",
       "      <td>2008-08-01:05:55:44</td>\n",
       "      <td>양품</td>\n",
       "      <td>JS-SM490YB</td>\n",
       "      <td>C0</td>\n",
       "      <td>14.09</td>\n",
       "      <td>3284</td>\n",
       "      <td>51234</td>\n",
       "      <td>93050</td>\n",
       "      <td>...</td>\n",
       "      <td>1142</td>\n",
       "      <td>75</td>\n",
       "      <td>1131</td>\n",
       "      <td>122</td>\n",
       "      <td>353</td>\n",
       "      <td>1131</td>\n",
       "      <td>913</td>\n",
       "      <td>적용</td>\n",
       "      <td>10</td>\n",
       "      <td>1조</td>\n",
       "    </tr>\n",
       "    <tr>\n",
       "      <th>3</th>\n",
       "      <td>98</td>\n",
       "      <td>PB562872</td>\n",
       "      <td>2008-08-01:06:60:50</td>\n",
       "      <td>양품</td>\n",
       "      <td>JS-SM490YB</td>\n",
       "      <td>C0</td>\n",
       "      <td>14.09</td>\n",
       "      <td>3284</td>\n",
       "      <td>51234</td>\n",
       "      <td>93050</td>\n",
       "      <td>...</td>\n",
       "      <td>1143</td>\n",
       "      <td>65</td>\n",
       "      <td>1136</td>\n",
       "      <td>118</td>\n",
       "      <td>354</td>\n",
       "      <td>1136</td>\n",
       "      <td>955</td>\n",
       "      <td>적용</td>\n",
       "      <td>10</td>\n",
       "      <td>3조</td>\n",
       "    </tr>\n",
       "    <tr>\n",
       "      <th>4</th>\n",
       "      <td>99</td>\n",
       "      <td>PB562873</td>\n",
       "      <td>2008-08-01:06:60:13</td>\n",
       "      <td>양품</td>\n",
       "      <td>JS-SM490YB</td>\n",
       "      <td>C0</td>\n",
       "      <td>14.09</td>\n",
       "      <td>3284</td>\n",
       "      <td>49142</td>\n",
       "      <td>89250</td>\n",
       "      <td>...</td>\n",
       "      <td>1140</td>\n",
       "      <td>65</td>\n",
       "      <td>1136</td>\n",
       "      <td>119</td>\n",
       "      <td>355</td>\n",
       "      <td>1136</td>\n",
       "      <td>955</td>\n",
       "      <td>적용</td>\n",
       "      <td>10</td>\n",
       "      <td>3조</td>\n",
       "    </tr>\n",
       "    <tr>\n",
       "      <th>...</th>\n",
       "      <td>...</td>\n",
       "      <td>...</td>\n",
       "      <td>...</td>\n",
       "      <td>...</td>\n",
       "      <td>...</td>\n",
       "      <td>...</td>\n",
       "      <td>...</td>\n",
       "      <td>...</td>\n",
       "      <td>...</td>\n",
       "      <td>...</td>\n",
       "      <td>...</td>\n",
       "      <td>...</td>\n",
       "      <td>...</td>\n",
       "      <td>...</td>\n",
       "      <td>...</td>\n",
       "      <td>...</td>\n",
       "      <td>...</td>\n",
       "      <td>...</td>\n",
       "      <td>...</td>\n",
       "      <td>...</td>\n",
       "      <td>...</td>\n",
       "    </tr>\n",
       "    <tr>\n",
       "      <th>457</th>\n",
       "      <td>670</td>\n",
       "      <td>PB563457</td>\n",
       "      <td>2008-08-02:11:15:58</td>\n",
       "      <td>양품</td>\n",
       "      <td>SA283-C</td>\n",
       "      <td>C0</td>\n",
       "      <td>18.16</td>\n",
       "      <td>3126</td>\n",
       "      <td>31483</td>\n",
       "      <td>70150</td>\n",
       "      <td>...</td>\n",
       "      <td>1184</td>\n",
       "      <td>67</td>\n",
       "      <td>1167</td>\n",
       "      <td>52</td>\n",
       "      <td>250</td>\n",
       "      <td>1167</td>\n",
       "      <td>991</td>\n",
       "      <td>적용</td>\n",
       "      <td>10</td>\n",
       "      <td>3조</td>\n",
       "    </tr>\n",
       "    <tr>\n",
       "      <th>458</th>\n",
       "      <td>673</td>\n",
       "      <td>PB563460</td>\n",
       "      <td>2008-08-02:12:20:11</td>\n",
       "      <td>양품</td>\n",
       "      <td>SA283-C</td>\n",
       "      <td>C0</td>\n",
       "      <td>20.19</td>\n",
       "      <td>3126</td>\n",
       "      <td>31466</td>\n",
       "      <td>77950</td>\n",
       "      <td>...</td>\n",
       "      <td>1177</td>\n",
       "      <td>71</td>\n",
       "      <td>1172</td>\n",
       "      <td>50</td>\n",
       "      <td>247</td>\n",
       "      <td>1172</td>\n",
       "      <td>994</td>\n",
       "      <td>적용</td>\n",
       "      <td>8</td>\n",
       "      <td>3조</td>\n",
       "    </tr>\n",
       "    <tr>\n",
       "      <th>459</th>\n",
       "      <td>674</td>\n",
       "      <td>PB563461</td>\n",
       "      <td>2008-08-02:12:20:07</td>\n",
       "      <td>양품</td>\n",
       "      <td>SA283-C</td>\n",
       "      <td>C0</td>\n",
       "      <td>20.18</td>\n",
       "      <td>3082</td>\n",
       "      <td>32996</td>\n",
       "      <td>80550</td>\n",
       "      <td>...</td>\n",
       "      <td>1177</td>\n",
       "      <td>73</td>\n",
       "      <td>1164</td>\n",
       "      <td>47</td>\n",
       "      <td>245</td>\n",
       "      <td>1164</td>\n",
       "      <td>989</td>\n",
       "      <td>적용</td>\n",
       "      <td>8</td>\n",
       "      <td>3조</td>\n",
       "    </tr>\n",
       "    <tr>\n",
       "      <th>460</th>\n",
       "      <td>676</td>\n",
       "      <td>PB563463</td>\n",
       "      <td>2008-08-02:12:20:34</td>\n",
       "      <td>양품</td>\n",
       "      <td>SA283-C</td>\n",
       "      <td>C0</td>\n",
       "      <td>20.19</td>\n",
       "      <td>3125</td>\n",
       "      <td>29154</td>\n",
       "      <td>57760</td>\n",
       "      <td>...</td>\n",
       "      <td>1167</td>\n",
       "      <td>62</td>\n",
       "      <td>1166</td>\n",
       "      <td>60</td>\n",
       "      <td>251</td>\n",
       "      <td>1166</td>\n",
       "      <td>982</td>\n",
       "      <td>적용</td>\n",
       "      <td>8</td>\n",
       "      <td>3조</td>\n",
       "    </tr>\n",
       "    <tr>\n",
       "      <th>461</th>\n",
       "      <td>677</td>\n",
       "      <td>PB563464</td>\n",
       "      <td>2008-08-02:12:20:20</td>\n",
       "      <td>불량</td>\n",
       "      <td>SA283-C</td>\n",
       "      <td>C0</td>\n",
       "      <td>33.67</td>\n",
       "      <td>3127</td>\n",
       "      <td>19298</td>\n",
       "      <td>47850</td>\n",
       "      <td>...</td>\n",
       "      <td>1181</td>\n",
       "      <td>72</td>\n",
       "      <td>1166</td>\n",
       "      <td>60</td>\n",
       "      <td>248</td>\n",
       "      <td>1166</td>\n",
       "      <td>1037</td>\n",
       "      <td>적용</td>\n",
       "      <td>8</td>\n",
       "      <td>3조</td>\n",
       "    </tr>\n",
       "  </tbody>\n",
       "</table>\n",
       "<p>462 rows × 22 columns</p>\n",
       "</div>"
      ],
      "text/plain": [
       "     Unnamed: 0  PLATE_NO         ROLLING_DATE SCALE        SPEC STEEL_KIND  \\\n",
       "0            93  PB562867  2008-08-01:05:54:26    양품  JS-SM490YB         C0   \n",
       "1            94  PB562868  2008-08-01:05:55:53    양품  JS-SM490YB         C0   \n",
       "2            95  PB562869  2008-08-01:05:55:44    양품  JS-SM490YB         C0   \n",
       "3            98  PB562872  2008-08-01:06:60:50    양품  JS-SM490YB         C0   \n",
       "4            99  PB562873  2008-08-01:06:60:13    양품  JS-SM490YB         C0   \n",
       "..          ...       ...                  ...   ...         ...        ...   \n",
       "457         670  PB563457  2008-08-02:11:15:58    양품     SA283-C         C0   \n",
       "458         673  PB563460  2008-08-02:12:20:11    양품     SA283-C         C0   \n",
       "459         674  PB563461  2008-08-02:12:20:07    양품     SA283-C         C0   \n",
       "460         676  PB563463  2008-08-02:12:20:34    양품     SA283-C         C0   \n",
       "461         677  PB563464  2008-08-02:12:20:20    불량     SA283-C         C0   \n",
       "\n",
       "     PT_THK  PT_WDTH  PT_LTH  PT_WGT  ... FUR_HZ_TEMP  FUR_HZ_TIME  \\\n",
       "0     14.09     3284   51234   93050  ...        1140           80   \n",
       "1     14.09     3284   51234   93050  ...        1142           74   \n",
       "2     14.09     3284   51234   93050  ...        1142           75   \n",
       "3     14.09     3284   51234   93050  ...        1143           65   \n",
       "4     14.09     3284   49142   89250  ...        1140           65   \n",
       "..      ...      ...     ...     ...  ...         ...          ...   \n",
       "457   18.16     3126   31483   70150  ...        1184           67   \n",
       "458   20.19     3126   31466   77950  ...        1177           71   \n",
       "459   20.18     3082   32996   80550  ...        1177           73   \n",
       "460   20.19     3125   29154   57760  ...        1167           62   \n",
       "461   33.67     3127   19298   47850  ...        1181           72   \n",
       "\n",
       "     FUR_SZ_TEMP  FUR_SZ_TIME  FUR_TIME  FUR_EXTEMP  ROLLING_TEMP_T5  HSB  \\\n",
       "0           1131          117       352        1131              915   적용   \n",
       "1           1132          123       353        1132              923   적용   \n",
       "2           1131          122       353        1131              913   적용   \n",
       "3           1136          118       354        1136              955   적용   \n",
       "4           1136          119       355        1136              955   적용   \n",
       "..           ...          ...       ...         ...              ...  ...   \n",
       "457         1167           52       250        1167              991   적용   \n",
       "458         1172           50       247        1172              994   적용   \n",
       "459         1164           47       245        1164              989   적용   \n",
       "460         1166           60       251        1166              982   적용   \n",
       "461         1166           60       248        1166             1037   적용   \n",
       "\n",
       "     ROLLING_DESCALING WORK_GR  \n",
       "0                   10      2조  \n",
       "1                   10      4조  \n",
       "2                   10      1조  \n",
       "3                   10      3조  \n",
       "4                   10      3조  \n",
       "..                 ...     ...  \n",
       "457                 10      3조  \n",
       "458                  8      3조  \n",
       "459                  8      3조  \n",
       "460                  8      3조  \n",
       "461                  8      3조  \n",
       "\n",
       "[462 rows x 22 columns]"
      ]
     },
     "execution_count": 127,
     "metadata": {},
     "output_type": "execute_result"
    }
   ],
   "source": [
    "main = pd.DataFrame()\n",
    "\n",
    "for i in name:\n",
    "    main = pd.concat([main,steel[steel['SPEC'] == i]], ignore_index=True)\n",
    "main"
   ]
  },
  {
   "cell_type": "code",
   "execution_count": 137,
   "metadata": {},
   "outputs": [
    {
     "data": {
      "text/html": [
       "<div>\n",
       "<style scoped>\n",
       "    .dataframe tbody tr th:only-of-type {\n",
       "        vertical-align: middle;\n",
       "    }\n",
       "\n",
       "    .dataframe tbody tr th {\n",
       "        vertical-align: top;\n",
       "    }\n",
       "\n",
       "    .dataframe thead th {\n",
       "        text-align: right;\n",
       "    }\n",
       "</style>\n",
       "<table border=\"1\" class=\"dataframe\">\n",
       "  <thead>\n",
       "    <tr style=\"text-align: right;\">\n",
       "      <th></th>\n",
       "      <th>PLATE_NO</th>\n",
       "      <th>SCALE</th>\n",
       "      <th>SPEC</th>\n",
       "      <th>STEEL_KIND</th>\n",
       "      <th>PT_THK</th>\n",
       "      <th>PT_WDTH</th>\n",
       "      <th>PT_LTH</th>\n",
       "      <th>PT_WGT</th>\n",
       "      <th>FUR_HZ_TEMP</th>\n",
       "      <th>FUR_HZ_TIME</th>\n",
       "      <th>FUR_SZ_TEMP</th>\n",
       "      <th>FUR_SZ_TIME</th>\n",
       "      <th>FUR_TIME</th>\n",
       "      <th>FUR_EXTEMP</th>\n",
       "      <th>ROLLING_TEMP_T5</th>\n",
       "      <th>HSB</th>\n",
       "      <th>ROLLING_DESCALING</th>\n",
       "    </tr>\n",
       "  </thead>\n",
       "  <tbody>\n",
       "    <tr>\n",
       "      <th>0</th>\n",
       "      <td>PB562867</td>\n",
       "      <td>양품</td>\n",
       "      <td>JS-SM490YB</td>\n",
       "      <td>C0</td>\n",
       "      <td>14.09</td>\n",
       "      <td>3284</td>\n",
       "      <td>51234</td>\n",
       "      <td>93050</td>\n",
       "      <td>1140</td>\n",
       "      <td>80</td>\n",
       "      <td>1131</td>\n",
       "      <td>117</td>\n",
       "      <td>352</td>\n",
       "      <td>1131</td>\n",
       "      <td>915</td>\n",
       "      <td>적용</td>\n",
       "      <td>10</td>\n",
       "    </tr>\n",
       "    <tr>\n",
       "      <th>1</th>\n",
       "      <td>PB562868</td>\n",
       "      <td>양품</td>\n",
       "      <td>JS-SM490YB</td>\n",
       "      <td>C0</td>\n",
       "      <td>14.09</td>\n",
       "      <td>3284</td>\n",
       "      <td>51234</td>\n",
       "      <td>93050</td>\n",
       "      <td>1142</td>\n",
       "      <td>74</td>\n",
       "      <td>1132</td>\n",
       "      <td>123</td>\n",
       "      <td>353</td>\n",
       "      <td>1132</td>\n",
       "      <td>923</td>\n",
       "      <td>적용</td>\n",
       "      <td>10</td>\n",
       "    </tr>\n",
       "    <tr>\n",
       "      <th>2</th>\n",
       "      <td>PB562869</td>\n",
       "      <td>양품</td>\n",
       "      <td>JS-SM490YB</td>\n",
       "      <td>C0</td>\n",
       "      <td>14.09</td>\n",
       "      <td>3284</td>\n",
       "      <td>51234</td>\n",
       "      <td>93050</td>\n",
       "      <td>1142</td>\n",
       "      <td>75</td>\n",
       "      <td>1131</td>\n",
       "      <td>122</td>\n",
       "      <td>353</td>\n",
       "      <td>1131</td>\n",
       "      <td>913</td>\n",
       "      <td>적용</td>\n",
       "      <td>10</td>\n",
       "    </tr>\n",
       "    <tr>\n",
       "      <th>3</th>\n",
       "      <td>PB562872</td>\n",
       "      <td>양품</td>\n",
       "      <td>JS-SM490YB</td>\n",
       "      <td>C0</td>\n",
       "      <td>14.09</td>\n",
       "      <td>3284</td>\n",
       "      <td>51234</td>\n",
       "      <td>93050</td>\n",
       "      <td>1143</td>\n",
       "      <td>65</td>\n",
       "      <td>1136</td>\n",
       "      <td>118</td>\n",
       "      <td>354</td>\n",
       "      <td>1136</td>\n",
       "      <td>955</td>\n",
       "      <td>적용</td>\n",
       "      <td>10</td>\n",
       "    </tr>\n",
       "    <tr>\n",
       "      <th>4</th>\n",
       "      <td>PB562873</td>\n",
       "      <td>양품</td>\n",
       "      <td>JS-SM490YB</td>\n",
       "      <td>C0</td>\n",
       "      <td>14.09</td>\n",
       "      <td>3284</td>\n",
       "      <td>49142</td>\n",
       "      <td>89250</td>\n",
       "      <td>1140</td>\n",
       "      <td>65</td>\n",
       "      <td>1136</td>\n",
       "      <td>119</td>\n",
       "      <td>355</td>\n",
       "      <td>1136</td>\n",
       "      <td>955</td>\n",
       "      <td>적용</td>\n",
       "      <td>10</td>\n",
       "    </tr>\n",
       "    <tr>\n",
       "      <th>...</th>\n",
       "      <td>...</td>\n",
       "      <td>...</td>\n",
       "      <td>...</td>\n",
       "      <td>...</td>\n",
       "      <td>...</td>\n",
       "      <td>...</td>\n",
       "      <td>...</td>\n",
       "      <td>...</td>\n",
       "      <td>...</td>\n",
       "      <td>...</td>\n",
       "      <td>...</td>\n",
       "      <td>...</td>\n",
       "      <td>...</td>\n",
       "      <td>...</td>\n",
       "      <td>...</td>\n",
       "      <td>...</td>\n",
       "      <td>...</td>\n",
       "    </tr>\n",
       "    <tr>\n",
       "      <th>457</th>\n",
       "      <td>PB563457</td>\n",
       "      <td>양품</td>\n",
       "      <td>SA283-C</td>\n",
       "      <td>C0</td>\n",
       "      <td>18.16</td>\n",
       "      <td>3126</td>\n",
       "      <td>31483</td>\n",
       "      <td>70150</td>\n",
       "      <td>1184</td>\n",
       "      <td>67</td>\n",
       "      <td>1167</td>\n",
       "      <td>52</td>\n",
       "      <td>250</td>\n",
       "      <td>1167</td>\n",
       "      <td>991</td>\n",
       "      <td>적용</td>\n",
       "      <td>10</td>\n",
       "    </tr>\n",
       "    <tr>\n",
       "      <th>458</th>\n",
       "      <td>PB563460</td>\n",
       "      <td>양품</td>\n",
       "      <td>SA283-C</td>\n",
       "      <td>C0</td>\n",
       "      <td>20.19</td>\n",
       "      <td>3126</td>\n",
       "      <td>31466</td>\n",
       "      <td>77950</td>\n",
       "      <td>1177</td>\n",
       "      <td>71</td>\n",
       "      <td>1172</td>\n",
       "      <td>50</td>\n",
       "      <td>247</td>\n",
       "      <td>1172</td>\n",
       "      <td>994</td>\n",
       "      <td>적용</td>\n",
       "      <td>8</td>\n",
       "    </tr>\n",
       "    <tr>\n",
       "      <th>459</th>\n",
       "      <td>PB563461</td>\n",
       "      <td>양품</td>\n",
       "      <td>SA283-C</td>\n",
       "      <td>C0</td>\n",
       "      <td>20.18</td>\n",
       "      <td>3082</td>\n",
       "      <td>32996</td>\n",
       "      <td>80550</td>\n",
       "      <td>1177</td>\n",
       "      <td>73</td>\n",
       "      <td>1164</td>\n",
       "      <td>47</td>\n",
       "      <td>245</td>\n",
       "      <td>1164</td>\n",
       "      <td>989</td>\n",
       "      <td>적용</td>\n",
       "      <td>8</td>\n",
       "    </tr>\n",
       "    <tr>\n",
       "      <th>460</th>\n",
       "      <td>PB563463</td>\n",
       "      <td>양품</td>\n",
       "      <td>SA283-C</td>\n",
       "      <td>C0</td>\n",
       "      <td>20.19</td>\n",
       "      <td>3125</td>\n",
       "      <td>29154</td>\n",
       "      <td>57760</td>\n",
       "      <td>1167</td>\n",
       "      <td>62</td>\n",
       "      <td>1166</td>\n",
       "      <td>60</td>\n",
       "      <td>251</td>\n",
       "      <td>1166</td>\n",
       "      <td>982</td>\n",
       "      <td>적용</td>\n",
       "      <td>8</td>\n",
       "    </tr>\n",
       "    <tr>\n",
       "      <th>461</th>\n",
       "      <td>PB563464</td>\n",
       "      <td>불량</td>\n",
       "      <td>SA283-C</td>\n",
       "      <td>C0</td>\n",
       "      <td>33.67</td>\n",
       "      <td>3127</td>\n",
       "      <td>19298</td>\n",
       "      <td>47850</td>\n",
       "      <td>1181</td>\n",
       "      <td>72</td>\n",
       "      <td>1166</td>\n",
       "      <td>60</td>\n",
       "      <td>248</td>\n",
       "      <td>1166</td>\n",
       "      <td>1037</td>\n",
       "      <td>적용</td>\n",
       "      <td>8</td>\n",
       "    </tr>\n",
       "  </tbody>\n",
       "</table>\n",
       "<p>462 rows × 17 columns</p>\n",
       "</div>"
      ],
      "text/plain": [
       "     PLATE_NO SCALE        SPEC STEEL_KIND  PT_THK  PT_WDTH  PT_LTH  PT_WGT  \\\n",
       "0    PB562867    양품  JS-SM490YB         C0   14.09     3284   51234   93050   \n",
       "1    PB562868    양품  JS-SM490YB         C0   14.09     3284   51234   93050   \n",
       "2    PB562869    양품  JS-SM490YB         C0   14.09     3284   51234   93050   \n",
       "3    PB562872    양품  JS-SM490YB         C0   14.09     3284   51234   93050   \n",
       "4    PB562873    양품  JS-SM490YB         C0   14.09     3284   49142   89250   \n",
       "..        ...   ...         ...        ...     ...      ...     ...     ...   \n",
       "457  PB563457    양품     SA283-C         C0   18.16     3126   31483   70150   \n",
       "458  PB563460    양품     SA283-C         C0   20.19     3126   31466   77950   \n",
       "459  PB563461    양품     SA283-C         C0   20.18     3082   32996   80550   \n",
       "460  PB563463    양품     SA283-C         C0   20.19     3125   29154   57760   \n",
       "461  PB563464    불량     SA283-C         C0   33.67     3127   19298   47850   \n",
       "\n",
       "     FUR_HZ_TEMP  FUR_HZ_TIME  FUR_SZ_TEMP  FUR_SZ_TIME  FUR_TIME  FUR_EXTEMP  \\\n",
       "0           1140           80         1131          117       352        1131   \n",
       "1           1142           74         1132          123       353        1132   \n",
       "2           1142           75         1131          122       353        1131   \n",
       "3           1143           65         1136          118       354        1136   \n",
       "4           1140           65         1136          119       355        1136   \n",
       "..           ...          ...          ...          ...       ...         ...   \n",
       "457         1184           67         1167           52       250        1167   \n",
       "458         1177           71         1172           50       247        1172   \n",
       "459         1177           73         1164           47       245        1164   \n",
       "460         1167           62         1166           60       251        1166   \n",
       "461         1181           72         1166           60       248        1166   \n",
       "\n",
       "     ROLLING_TEMP_T5 HSB  ROLLING_DESCALING  \n",
       "0                915  적용                 10  \n",
       "1                923  적용                 10  \n",
       "2                913  적용                 10  \n",
       "3                955  적용                 10  \n",
       "4                955  적용                 10  \n",
       "..               ...  ..                ...  \n",
       "457              991  적용                 10  \n",
       "458              994  적용                  8  \n",
       "459              989  적용                  8  \n",
       "460              982  적용                  8  \n",
       "461             1037  적용                  8  \n",
       "\n",
       "[462 rows x 17 columns]"
      ]
     },
     "execution_count": 137,
     "metadata": {},
     "output_type": "execute_result"
    }
   ],
   "source": [
    "main_01 = main.drop(['Unnamed: 0','ROLLING_DATE','FUR_NO','FUR_NO_ROW','WORK_GR'], axis=1)\n",
    "main_01"
   ]
  },
  {
   "cell_type": "code",
   "execution_count": 143,
   "metadata": {},
   "outputs": [
    {
     "data": {
      "text/plain": [
       "12"
      ]
     },
     "execution_count": 143,
     "metadata": {},
     "output_type": "execute_result"
    }
   ],
   "source": [
    "main_01['SPEC'].nunique()"
   ]
  },
  {
   "cell_type": "code",
   "execution_count": 147,
   "metadata": {},
   "outputs": [
    {
     "data": {
      "text/html": [
       "<div>\n",
       "<style scoped>\n",
       "    .dataframe tbody tr th:only-of-type {\n",
       "        vertical-align: middle;\n",
       "    }\n",
       "\n",
       "    .dataframe tbody tr th {\n",
       "        vertical-align: top;\n",
       "    }\n",
       "\n",
       "    .dataframe thead th {\n",
       "        text-align: right;\n",
       "    }\n",
       "</style>\n",
       "<table border=\"1\" class=\"dataframe\">\n",
       "  <thead>\n",
       "    <tr style=\"text-align: right;\">\n",
       "      <th></th>\n",
       "      <th>STEEL_KIND</th>\n",
       "      <th>SPEC</th>\n",
       "      <th>PLATE_NO</th>\n",
       "    </tr>\n",
       "  </thead>\n",
       "  <tbody>\n",
       "    <tr>\n",
       "      <th>0</th>\n",
       "      <td>C0</td>\n",
       "      <td>BV-B</td>\n",
       "      <td>28</td>\n",
       "    </tr>\n",
       "    <tr>\n",
       "      <th>1</th>\n",
       "      <td>C0</td>\n",
       "      <td>JS-SM490A</td>\n",
       "      <td>31</td>\n",
       "    </tr>\n",
       "    <tr>\n",
       "      <th>2</th>\n",
       "      <td>C0</td>\n",
       "      <td>JS-SM490YB</td>\n",
       "      <td>84</td>\n",
       "    </tr>\n",
       "    <tr>\n",
       "      <th>3</th>\n",
       "      <td>C0</td>\n",
       "      <td>KR-A</td>\n",
       "      <td>27</td>\n",
       "    </tr>\n",
       "    <tr>\n",
       "      <th>4</th>\n",
       "      <td>C0</td>\n",
       "      <td>LR-A</td>\n",
       "      <td>54</td>\n",
       "    </tr>\n",
       "    <tr>\n",
       "      <th>5</th>\n",
       "      <td>C0</td>\n",
       "      <td>LR-AH32</td>\n",
       "      <td>32</td>\n",
       "    </tr>\n",
       "    <tr>\n",
       "      <th>6</th>\n",
       "      <td>C0</td>\n",
       "      <td>NV-A</td>\n",
       "      <td>48</td>\n",
       "    </tr>\n",
       "    <tr>\n",
       "      <th>7</th>\n",
       "      <td>C0</td>\n",
       "      <td>NV-A32</td>\n",
       "      <td>33</td>\n",
       "    </tr>\n",
       "    <tr>\n",
       "      <th>8</th>\n",
       "      <td>C0</td>\n",
       "      <td>SA283-C</td>\n",
       "      <td>21</td>\n",
       "    </tr>\n",
       "    <tr>\n",
       "      <th>9</th>\n",
       "      <td>C3</td>\n",
       "      <td>LR-AH32</td>\n",
       "      <td>1</td>\n",
       "    </tr>\n",
       "    <tr>\n",
       "      <th>10</th>\n",
       "      <td>T0</td>\n",
       "      <td>COMMON</td>\n",
       "      <td>1</td>\n",
       "    </tr>\n",
       "    <tr>\n",
       "      <th>11</th>\n",
       "      <td>T1</td>\n",
       "      <td>COMMON</td>\n",
       "      <td>6</td>\n",
       "    </tr>\n",
       "    <tr>\n",
       "      <th>12</th>\n",
       "      <td>T5</td>\n",
       "      <td>PILAC-BT33</td>\n",
       "      <td>40</td>\n",
       "    </tr>\n",
       "    <tr>\n",
       "      <th>13</th>\n",
       "      <td>T7</td>\n",
       "      <td>COMMON</td>\n",
       "      <td>1</td>\n",
       "    </tr>\n",
       "    <tr>\n",
       "      <th>14</th>\n",
       "      <td>T8</td>\n",
       "      <td>BV-EH36-TM</td>\n",
       "      <td>35</td>\n",
       "    </tr>\n",
       "    <tr>\n",
       "      <th>15</th>\n",
       "      <td>T8</td>\n",
       "      <td>COMMON</td>\n",
       "      <td>20</td>\n",
       "    </tr>\n",
       "  </tbody>\n",
       "</table>\n",
       "</div>"
      ],
      "text/plain": [
       "   STEEL_KIND        SPEC  PLATE_NO\n",
       "0          C0        BV-B        28\n",
       "1          C0   JS-SM490A        31\n",
       "2          C0  JS-SM490YB        84\n",
       "3          C0        KR-A        27\n",
       "4          C0        LR-A        54\n",
       "5          C0     LR-AH32        32\n",
       "6          C0        NV-A        48\n",
       "7          C0      NV-A32        33\n",
       "8          C0     SA283-C        21\n",
       "9          C3     LR-AH32         1\n",
       "10         T0      COMMON         1\n",
       "11         T1      COMMON         6\n",
       "12         T5  PILAC-BT33        40\n",
       "13         T7      COMMON         1\n",
       "14         T8  BV-EH36-TM        35\n",
       "15         T8      COMMON        20"
      ]
     },
     "execution_count": 147,
     "metadata": {},
     "output_type": "execute_result"
    }
   ],
   "source": [
    "group_01=main_01.groupby(['STEEL_KIND','SPEC'], as_index=False)[['PLATE_NO']].count()\n",
    "group_01"
   ]
  },
  {
   "cell_type": "code",
   "execution_count": 148,
   "metadata": {},
   "outputs": [
    {
     "data": {
      "application/vnd.plotly.v1+json": {
       "config": {
        "plotlyServerURL": "https://plot.ly"
       },
       "data": [
        {
         "alignmentgroup": "True",
         "hovertemplate": "SPEC=BV-B<br>STEEL_KIND=%{x}<br>PLATE_NO=%{y}<extra></extra>",
         "legendgroup": "BV-B",
         "marker": {
          "color": "#636efa",
          "pattern": {
           "shape": ""
          }
         },
         "name": "BV-B",
         "offsetgroup": "BV-B",
         "orientation": "v",
         "showlegend": true,
         "textposition": "auto",
         "type": "bar",
         "x": [
          "C0"
         ],
         "xaxis": "x",
         "y": [
          28
         ],
         "yaxis": "y"
        },
        {
         "alignmentgroup": "True",
         "hovertemplate": "SPEC=JS-SM490A<br>STEEL_KIND=%{x}<br>PLATE_NO=%{y}<extra></extra>",
         "legendgroup": "JS-SM490A",
         "marker": {
          "color": "#EF553B",
          "pattern": {
           "shape": ""
          }
         },
         "name": "JS-SM490A",
         "offsetgroup": "JS-SM490A",
         "orientation": "v",
         "showlegend": true,
         "textposition": "auto",
         "type": "bar",
         "x": [
          "C0"
         ],
         "xaxis": "x",
         "y": [
          31
         ],
         "yaxis": "y"
        },
        {
         "alignmentgroup": "True",
         "hovertemplate": "SPEC=JS-SM490YB<br>STEEL_KIND=%{x}<br>PLATE_NO=%{y}<extra></extra>",
         "legendgroup": "JS-SM490YB",
         "marker": {
          "color": "#00cc96",
          "pattern": {
           "shape": ""
          }
         },
         "name": "JS-SM490YB",
         "offsetgroup": "JS-SM490YB",
         "orientation": "v",
         "showlegend": true,
         "textposition": "auto",
         "type": "bar",
         "x": [
          "C0"
         ],
         "xaxis": "x",
         "y": [
          84
         ],
         "yaxis": "y"
        },
        {
         "alignmentgroup": "True",
         "hovertemplate": "SPEC=KR-A<br>STEEL_KIND=%{x}<br>PLATE_NO=%{y}<extra></extra>",
         "legendgroup": "KR-A",
         "marker": {
          "color": "#ab63fa",
          "pattern": {
           "shape": ""
          }
         },
         "name": "KR-A",
         "offsetgroup": "KR-A",
         "orientation": "v",
         "showlegend": true,
         "textposition": "auto",
         "type": "bar",
         "x": [
          "C0"
         ],
         "xaxis": "x",
         "y": [
          27
         ],
         "yaxis": "y"
        },
        {
         "alignmentgroup": "True",
         "hovertemplate": "SPEC=LR-A<br>STEEL_KIND=%{x}<br>PLATE_NO=%{y}<extra></extra>",
         "legendgroup": "LR-A",
         "marker": {
          "color": "#FFA15A",
          "pattern": {
           "shape": ""
          }
         },
         "name": "LR-A",
         "offsetgroup": "LR-A",
         "orientation": "v",
         "showlegend": true,
         "textposition": "auto",
         "type": "bar",
         "x": [
          "C0"
         ],
         "xaxis": "x",
         "y": [
          54
         ],
         "yaxis": "y"
        },
        {
         "alignmentgroup": "True",
         "hovertemplate": "SPEC=LR-AH32<br>STEEL_KIND=%{x}<br>PLATE_NO=%{y}<extra></extra>",
         "legendgroup": "LR-AH32",
         "marker": {
          "color": "#19d3f3",
          "pattern": {
           "shape": ""
          }
         },
         "name": "LR-AH32",
         "offsetgroup": "LR-AH32",
         "orientation": "v",
         "showlegend": true,
         "textposition": "auto",
         "type": "bar",
         "x": [
          "C0",
          "C3"
         ],
         "xaxis": "x",
         "y": [
          32,
          1
         ],
         "yaxis": "y"
        },
        {
         "alignmentgroup": "True",
         "hovertemplate": "SPEC=NV-A<br>STEEL_KIND=%{x}<br>PLATE_NO=%{y}<extra></extra>",
         "legendgroup": "NV-A",
         "marker": {
          "color": "#FF6692",
          "pattern": {
           "shape": ""
          }
         },
         "name": "NV-A",
         "offsetgroup": "NV-A",
         "orientation": "v",
         "showlegend": true,
         "textposition": "auto",
         "type": "bar",
         "x": [
          "C0"
         ],
         "xaxis": "x",
         "y": [
          48
         ],
         "yaxis": "y"
        },
        {
         "alignmentgroup": "True",
         "hovertemplate": "SPEC=NV-A32<br>STEEL_KIND=%{x}<br>PLATE_NO=%{y}<extra></extra>",
         "legendgroup": "NV-A32",
         "marker": {
          "color": "#B6E880",
          "pattern": {
           "shape": ""
          }
         },
         "name": "NV-A32",
         "offsetgroup": "NV-A32",
         "orientation": "v",
         "showlegend": true,
         "textposition": "auto",
         "type": "bar",
         "x": [
          "C0"
         ],
         "xaxis": "x",
         "y": [
          33
         ],
         "yaxis": "y"
        },
        {
         "alignmentgroup": "True",
         "hovertemplate": "SPEC=SA283-C<br>STEEL_KIND=%{x}<br>PLATE_NO=%{y}<extra></extra>",
         "legendgroup": "SA283-C",
         "marker": {
          "color": "#FF97FF",
          "pattern": {
           "shape": ""
          }
         },
         "name": "SA283-C",
         "offsetgroup": "SA283-C",
         "orientation": "v",
         "showlegend": true,
         "textposition": "auto",
         "type": "bar",
         "x": [
          "C0"
         ],
         "xaxis": "x",
         "y": [
          21
         ],
         "yaxis": "y"
        },
        {
         "alignmentgroup": "True",
         "hovertemplate": "SPEC=COMMON<br>STEEL_KIND=%{x}<br>PLATE_NO=%{y}<extra></extra>",
         "legendgroup": "COMMON",
         "marker": {
          "color": "#FECB52",
          "pattern": {
           "shape": ""
          }
         },
         "name": "COMMON",
         "offsetgroup": "COMMON",
         "orientation": "v",
         "showlegend": true,
         "textposition": "auto",
         "type": "bar",
         "x": [
          "T0",
          "T1",
          "T7",
          "T8"
         ],
         "xaxis": "x",
         "y": [
          1,
          6,
          1,
          20
         ],
         "yaxis": "y"
        },
        {
         "alignmentgroup": "True",
         "hovertemplate": "SPEC=PILAC-BT33<br>STEEL_KIND=%{x}<br>PLATE_NO=%{y}<extra></extra>",
         "legendgroup": "PILAC-BT33",
         "marker": {
          "color": "#636efa",
          "pattern": {
           "shape": ""
          }
         },
         "name": "PILAC-BT33",
         "offsetgroup": "PILAC-BT33",
         "orientation": "v",
         "showlegend": true,
         "textposition": "auto",
         "type": "bar",
         "x": [
          "T5"
         ],
         "xaxis": "x",
         "y": [
          40
         ],
         "yaxis": "y"
        },
        {
         "alignmentgroup": "True",
         "hovertemplate": "SPEC=BV-EH36-TM<br>STEEL_KIND=%{x}<br>PLATE_NO=%{y}<extra></extra>",
         "legendgroup": "BV-EH36-TM",
         "marker": {
          "color": "#EF553B",
          "pattern": {
           "shape": ""
          }
         },
         "name": "BV-EH36-TM",
         "offsetgroup": "BV-EH36-TM",
         "orientation": "v",
         "showlegend": true,
         "textposition": "auto",
         "type": "bar",
         "x": [
          "T8"
         ],
         "xaxis": "x",
         "y": [
          35
         ],
         "yaxis": "y"
        }
       ],
       "layout": {
        "barmode": "relative",
        "legend": {
         "title": {
          "text": "SPEC"
         },
         "tracegroupgap": 0
        },
        "template": {
         "data": {
          "bar": [
           {
            "error_x": {
             "color": "#2a3f5f"
            },
            "error_y": {
             "color": "#2a3f5f"
            },
            "marker": {
             "line": {
              "color": "#E5ECF6",
              "width": 0.5
             },
             "pattern": {
              "fillmode": "overlay",
              "size": 10,
              "solidity": 0.2
             }
            },
            "type": "bar"
           }
          ],
          "barpolar": [
           {
            "marker": {
             "line": {
              "color": "#E5ECF6",
              "width": 0.5
             },
             "pattern": {
              "fillmode": "overlay",
              "size": 10,
              "solidity": 0.2
             }
            },
            "type": "barpolar"
           }
          ],
          "carpet": [
           {
            "aaxis": {
             "endlinecolor": "#2a3f5f",
             "gridcolor": "white",
             "linecolor": "white",
             "minorgridcolor": "white",
             "startlinecolor": "#2a3f5f"
            },
            "baxis": {
             "endlinecolor": "#2a3f5f",
             "gridcolor": "white",
             "linecolor": "white",
             "minorgridcolor": "white",
             "startlinecolor": "#2a3f5f"
            },
            "type": "carpet"
           }
          ],
          "choropleth": [
           {
            "colorbar": {
             "outlinewidth": 0,
             "ticks": ""
            },
            "type": "choropleth"
           }
          ],
          "contour": [
           {
            "colorbar": {
             "outlinewidth": 0,
             "ticks": ""
            },
            "colorscale": [
             [
              0,
              "#0d0887"
             ],
             [
              0.1111111111111111,
              "#46039f"
             ],
             [
              0.2222222222222222,
              "#7201a8"
             ],
             [
              0.3333333333333333,
              "#9c179e"
             ],
             [
              0.4444444444444444,
              "#bd3786"
             ],
             [
              0.5555555555555556,
              "#d8576b"
             ],
             [
              0.6666666666666666,
              "#ed7953"
             ],
             [
              0.7777777777777778,
              "#fb9f3a"
             ],
             [
              0.8888888888888888,
              "#fdca26"
             ],
             [
              1,
              "#f0f921"
             ]
            ],
            "type": "contour"
           }
          ],
          "contourcarpet": [
           {
            "colorbar": {
             "outlinewidth": 0,
             "ticks": ""
            },
            "type": "contourcarpet"
           }
          ],
          "heatmap": [
           {
            "colorbar": {
             "outlinewidth": 0,
             "ticks": ""
            },
            "colorscale": [
             [
              0,
              "#0d0887"
             ],
             [
              0.1111111111111111,
              "#46039f"
             ],
             [
              0.2222222222222222,
              "#7201a8"
             ],
             [
              0.3333333333333333,
              "#9c179e"
             ],
             [
              0.4444444444444444,
              "#bd3786"
             ],
             [
              0.5555555555555556,
              "#d8576b"
             ],
             [
              0.6666666666666666,
              "#ed7953"
             ],
             [
              0.7777777777777778,
              "#fb9f3a"
             ],
             [
              0.8888888888888888,
              "#fdca26"
             ],
             [
              1,
              "#f0f921"
             ]
            ],
            "type": "heatmap"
           }
          ],
          "heatmapgl": [
           {
            "colorbar": {
             "outlinewidth": 0,
             "ticks": ""
            },
            "colorscale": [
             [
              0,
              "#0d0887"
             ],
             [
              0.1111111111111111,
              "#46039f"
             ],
             [
              0.2222222222222222,
              "#7201a8"
             ],
             [
              0.3333333333333333,
              "#9c179e"
             ],
             [
              0.4444444444444444,
              "#bd3786"
             ],
             [
              0.5555555555555556,
              "#d8576b"
             ],
             [
              0.6666666666666666,
              "#ed7953"
             ],
             [
              0.7777777777777778,
              "#fb9f3a"
             ],
             [
              0.8888888888888888,
              "#fdca26"
             ],
             [
              1,
              "#f0f921"
             ]
            ],
            "type": "heatmapgl"
           }
          ],
          "histogram": [
           {
            "marker": {
             "pattern": {
              "fillmode": "overlay",
              "size": 10,
              "solidity": 0.2
             }
            },
            "type": "histogram"
           }
          ],
          "histogram2d": [
           {
            "colorbar": {
             "outlinewidth": 0,
             "ticks": ""
            },
            "colorscale": [
             [
              0,
              "#0d0887"
             ],
             [
              0.1111111111111111,
              "#46039f"
             ],
             [
              0.2222222222222222,
              "#7201a8"
             ],
             [
              0.3333333333333333,
              "#9c179e"
             ],
             [
              0.4444444444444444,
              "#bd3786"
             ],
             [
              0.5555555555555556,
              "#d8576b"
             ],
             [
              0.6666666666666666,
              "#ed7953"
             ],
             [
              0.7777777777777778,
              "#fb9f3a"
             ],
             [
              0.8888888888888888,
              "#fdca26"
             ],
             [
              1,
              "#f0f921"
             ]
            ],
            "type": "histogram2d"
           }
          ],
          "histogram2dcontour": [
           {
            "colorbar": {
             "outlinewidth": 0,
             "ticks": ""
            },
            "colorscale": [
             [
              0,
              "#0d0887"
             ],
             [
              0.1111111111111111,
              "#46039f"
             ],
             [
              0.2222222222222222,
              "#7201a8"
             ],
             [
              0.3333333333333333,
              "#9c179e"
             ],
             [
              0.4444444444444444,
              "#bd3786"
             ],
             [
              0.5555555555555556,
              "#d8576b"
             ],
             [
              0.6666666666666666,
              "#ed7953"
             ],
             [
              0.7777777777777778,
              "#fb9f3a"
             ],
             [
              0.8888888888888888,
              "#fdca26"
             ],
             [
              1,
              "#f0f921"
             ]
            ],
            "type": "histogram2dcontour"
           }
          ],
          "mesh3d": [
           {
            "colorbar": {
             "outlinewidth": 0,
             "ticks": ""
            },
            "type": "mesh3d"
           }
          ],
          "parcoords": [
           {
            "line": {
             "colorbar": {
              "outlinewidth": 0,
              "ticks": ""
             }
            },
            "type": "parcoords"
           }
          ],
          "pie": [
           {
            "automargin": true,
            "type": "pie"
           }
          ],
          "scatter": [
           {
            "marker": {
             "colorbar": {
              "outlinewidth": 0,
              "ticks": ""
             }
            },
            "type": "scatter"
           }
          ],
          "scatter3d": [
           {
            "line": {
             "colorbar": {
              "outlinewidth": 0,
              "ticks": ""
             }
            },
            "marker": {
             "colorbar": {
              "outlinewidth": 0,
              "ticks": ""
             }
            },
            "type": "scatter3d"
           }
          ],
          "scattercarpet": [
           {
            "marker": {
             "colorbar": {
              "outlinewidth": 0,
              "ticks": ""
             }
            },
            "type": "scattercarpet"
           }
          ],
          "scattergeo": [
           {
            "marker": {
             "colorbar": {
              "outlinewidth": 0,
              "ticks": ""
             }
            },
            "type": "scattergeo"
           }
          ],
          "scattergl": [
           {
            "marker": {
             "colorbar": {
              "outlinewidth": 0,
              "ticks": ""
             }
            },
            "type": "scattergl"
           }
          ],
          "scattermapbox": [
           {
            "marker": {
             "colorbar": {
              "outlinewidth": 0,
              "ticks": ""
             }
            },
            "type": "scattermapbox"
           }
          ],
          "scatterpolar": [
           {
            "marker": {
             "colorbar": {
              "outlinewidth": 0,
              "ticks": ""
             }
            },
            "type": "scatterpolar"
           }
          ],
          "scatterpolargl": [
           {
            "marker": {
             "colorbar": {
              "outlinewidth": 0,
              "ticks": ""
             }
            },
            "type": "scatterpolargl"
           }
          ],
          "scatterternary": [
           {
            "marker": {
             "colorbar": {
              "outlinewidth": 0,
              "ticks": ""
             }
            },
            "type": "scatterternary"
           }
          ],
          "surface": [
           {
            "colorbar": {
             "outlinewidth": 0,
             "ticks": ""
            },
            "colorscale": [
             [
              0,
              "#0d0887"
             ],
             [
              0.1111111111111111,
              "#46039f"
             ],
             [
              0.2222222222222222,
              "#7201a8"
             ],
             [
              0.3333333333333333,
              "#9c179e"
             ],
             [
              0.4444444444444444,
              "#bd3786"
             ],
             [
              0.5555555555555556,
              "#d8576b"
             ],
             [
              0.6666666666666666,
              "#ed7953"
             ],
             [
              0.7777777777777778,
              "#fb9f3a"
             ],
             [
              0.8888888888888888,
              "#fdca26"
             ],
             [
              1,
              "#f0f921"
             ]
            ],
            "type": "surface"
           }
          ],
          "table": [
           {
            "cells": {
             "fill": {
              "color": "#EBF0F8"
             },
             "line": {
              "color": "white"
             }
            },
            "header": {
             "fill": {
              "color": "#C8D4E3"
             },
             "line": {
              "color": "white"
             }
            },
            "type": "table"
           }
          ]
         },
         "layout": {
          "annotationdefaults": {
           "arrowcolor": "#2a3f5f",
           "arrowhead": 0,
           "arrowwidth": 1
          },
          "autotypenumbers": "strict",
          "coloraxis": {
           "colorbar": {
            "outlinewidth": 0,
            "ticks": ""
           }
          },
          "colorscale": {
           "diverging": [
            [
             0,
             "#8e0152"
            ],
            [
             0.1,
             "#c51b7d"
            ],
            [
             0.2,
             "#de77ae"
            ],
            [
             0.3,
             "#f1b6da"
            ],
            [
             0.4,
             "#fde0ef"
            ],
            [
             0.5,
             "#f7f7f7"
            ],
            [
             0.6,
             "#e6f5d0"
            ],
            [
             0.7,
             "#b8e186"
            ],
            [
             0.8,
             "#7fbc41"
            ],
            [
             0.9,
             "#4d9221"
            ],
            [
             1,
             "#276419"
            ]
           ],
           "sequential": [
            [
             0,
             "#0d0887"
            ],
            [
             0.1111111111111111,
             "#46039f"
            ],
            [
             0.2222222222222222,
             "#7201a8"
            ],
            [
             0.3333333333333333,
             "#9c179e"
            ],
            [
             0.4444444444444444,
             "#bd3786"
            ],
            [
             0.5555555555555556,
             "#d8576b"
            ],
            [
             0.6666666666666666,
             "#ed7953"
            ],
            [
             0.7777777777777778,
             "#fb9f3a"
            ],
            [
             0.8888888888888888,
             "#fdca26"
            ],
            [
             1,
             "#f0f921"
            ]
           ],
           "sequentialminus": [
            [
             0,
             "#0d0887"
            ],
            [
             0.1111111111111111,
             "#46039f"
            ],
            [
             0.2222222222222222,
             "#7201a8"
            ],
            [
             0.3333333333333333,
             "#9c179e"
            ],
            [
             0.4444444444444444,
             "#bd3786"
            ],
            [
             0.5555555555555556,
             "#d8576b"
            ],
            [
             0.6666666666666666,
             "#ed7953"
            ],
            [
             0.7777777777777778,
             "#fb9f3a"
            ],
            [
             0.8888888888888888,
             "#fdca26"
            ],
            [
             1,
             "#f0f921"
            ]
           ]
          },
          "colorway": [
           "#636efa",
           "#EF553B",
           "#00cc96",
           "#ab63fa",
           "#FFA15A",
           "#19d3f3",
           "#FF6692",
           "#B6E880",
           "#FF97FF",
           "#FECB52"
          ],
          "font": {
           "color": "#2a3f5f"
          },
          "geo": {
           "bgcolor": "white",
           "lakecolor": "white",
           "landcolor": "#E5ECF6",
           "showlakes": true,
           "showland": true,
           "subunitcolor": "white"
          },
          "hoverlabel": {
           "align": "left"
          },
          "hovermode": "closest",
          "mapbox": {
           "style": "light"
          },
          "paper_bgcolor": "white",
          "plot_bgcolor": "#E5ECF6",
          "polar": {
           "angularaxis": {
            "gridcolor": "white",
            "linecolor": "white",
            "ticks": ""
           },
           "bgcolor": "#E5ECF6",
           "radialaxis": {
            "gridcolor": "white",
            "linecolor": "white",
            "ticks": ""
           }
          },
          "scene": {
           "xaxis": {
            "backgroundcolor": "#E5ECF6",
            "gridcolor": "white",
            "gridwidth": 2,
            "linecolor": "white",
            "showbackground": true,
            "ticks": "",
            "zerolinecolor": "white"
           },
           "yaxis": {
            "backgroundcolor": "#E5ECF6",
            "gridcolor": "white",
            "gridwidth": 2,
            "linecolor": "white",
            "showbackground": true,
            "ticks": "",
            "zerolinecolor": "white"
           },
           "zaxis": {
            "backgroundcolor": "#E5ECF6",
            "gridcolor": "white",
            "gridwidth": 2,
            "linecolor": "white",
            "showbackground": true,
            "ticks": "",
            "zerolinecolor": "white"
           }
          },
          "shapedefaults": {
           "line": {
            "color": "#2a3f5f"
           }
          },
          "ternary": {
           "aaxis": {
            "gridcolor": "white",
            "linecolor": "white",
            "ticks": ""
           },
           "baxis": {
            "gridcolor": "white",
            "linecolor": "white",
            "ticks": ""
           },
           "bgcolor": "#E5ECF6",
           "caxis": {
            "gridcolor": "white",
            "linecolor": "white",
            "ticks": ""
           }
          },
          "title": {
           "x": 0.05
          },
          "xaxis": {
           "automargin": true,
           "gridcolor": "white",
           "linecolor": "white",
           "ticks": "",
           "title": {
            "standoff": 15
           },
           "zerolinecolor": "white",
           "zerolinewidth": 2
          },
          "yaxis": {
           "automargin": true,
           "gridcolor": "white",
           "linecolor": "white",
           "ticks": "",
           "title": {
            "standoff": 15
           },
           "zerolinecolor": "white",
           "zerolinewidth": 2
          }
         }
        },
        "title": {
         "text": "STEEL_KIND 별 SPEC cnt"
        },
        "xaxis": {
         "anchor": "y",
         "domain": [
          0,
          1
         ],
         "title": {
          "text": "STEEL_KIND"
         }
        },
        "yaxis": {
         "anchor": "x",
         "domain": [
          0,
          1
         ],
         "title": {
          "text": "PLATE_NO"
         }
        }
       }
      }
     },
     "metadata": {},
     "output_type": "display_data"
    }
   ],
   "source": [
    "fig_01 = px.bar(group_01, x='STEEL_KIND', y='PLATE_NO', color='SPEC', title='STEEL_KIND 별 SPEC cnt')\n",
    "fig_01.show()"
   ]
  },
  {
   "cell_type": "code",
   "execution_count": 131,
   "metadata": {},
   "outputs": [
    {
     "data": {
      "text/html": [
       "<div>\n",
       "<style scoped>\n",
       "    .dataframe tbody tr th:only-of-type {\n",
       "        vertical-align: middle;\n",
       "    }\n",
       "\n",
       "    .dataframe tbody tr th {\n",
       "        vertical-align: top;\n",
       "    }\n",
       "\n",
       "    .dataframe thead th {\n",
       "        text-align: right;\n",
       "    }\n",
       "</style>\n",
       "<table border=\"1\" class=\"dataframe\">\n",
       "  <thead>\n",
       "    <tr style=\"text-align: right;\">\n",
       "      <th></th>\n",
       "      <th>SCALE</th>\n",
       "      <th>STEEL_KIND</th>\n",
       "      <th>SPEC</th>\n",
       "      <th>PT_THK</th>\n",
       "      <th>PT_WDTH</th>\n",
       "      <th>PT_LTH</th>\n",
       "      <th>PT_WGT</th>\n",
       "    </tr>\n",
       "  </thead>\n",
       "  <tbody>\n",
       "    <tr>\n",
       "      <th>340</th>\n",
       "      <td>양품</td>\n",
       "      <td>C0</td>\n",
       "      <td>A516-60</td>\n",
       "      <td>12.8</td>\n",
       "      <td>3871</td>\n",
       "      <td>49414</td>\n",
       "      <td>76880</td>\n",
       "    </tr>\n",
       "    <tr>\n",
       "      <th>341</th>\n",
       "      <td>불량</td>\n",
       "      <td>C0</td>\n",
       "      <td>A516-60</td>\n",
       "      <td>12.8</td>\n",
       "      <td>3871</td>\n",
       "      <td>49414</td>\n",
       "      <td>76880</td>\n",
       "    </tr>\n",
       "  </tbody>\n",
       "</table>\n",
       "</div>"
      ],
      "text/plain": [
       "    SCALE STEEL_KIND     SPEC  PT_THK  PT_WDTH  PT_LTH  PT_WGT\n",
       "340    양품         C0  A516-60    12.8     3871   49414   76880\n",
       "341    불량         C0  A516-60    12.8     3871   49414   76880"
      ]
     },
     "execution_count": 131,
     "metadata": {},
     "output_type": "execute_result"
    }
   ],
   "source": [
    "kind = steel.loc[:, ['SCALE','STEEL_KIND','SPEC','PT_THK','PT_WDTH','PT_LTH','PT_WGT']]\n",
    "kind[kind['SPEC'] == 'A516-60']"
   ]
  },
  {
   "cell_type": "code",
   "execution_count": 132,
   "metadata": {},
   "outputs": [
    {
     "data": {
      "text/html": [
       "<div>\n",
       "<style scoped>\n",
       "    .dataframe tbody tr th:only-of-type {\n",
       "        vertical-align: middle;\n",
       "    }\n",
       "\n",
       "    .dataframe tbody tr th {\n",
       "        vertical-align: top;\n",
       "    }\n",
       "\n",
       "    .dataframe thead th {\n",
       "        text-align: right;\n",
       "    }\n",
       "</style>\n",
       "<table border=\"1\" class=\"dataframe\">\n",
       "  <thead>\n",
       "    <tr style=\"text-align: right;\">\n",
       "      <th></th>\n",
       "      <th>Unnamed: 0</th>\n",
       "      <th>PLATE_NO</th>\n",
       "      <th>ROLLING_DATE</th>\n",
       "      <th>SCALE</th>\n",
       "      <th>SPEC</th>\n",
       "      <th>STEEL_KIND</th>\n",
       "      <th>PT_THK</th>\n",
       "      <th>PT_WDTH</th>\n",
       "      <th>PT_LTH</th>\n",
       "      <th>PT_WGT</th>\n",
       "      <th>...</th>\n",
       "      <th>FUR_HZ_TEMP</th>\n",
       "      <th>FUR_HZ_TIME</th>\n",
       "      <th>FUR_SZ_TEMP</th>\n",
       "      <th>FUR_SZ_TIME</th>\n",
       "      <th>FUR_TIME</th>\n",
       "      <th>FUR_EXTEMP</th>\n",
       "      <th>ROLLING_TEMP_T5</th>\n",
       "      <th>HSB</th>\n",
       "      <th>ROLLING_DESCALING</th>\n",
       "      <th>WORK_GR</th>\n",
       "    </tr>\n",
       "  </thead>\n",
       "  <tbody>\n",
       "    <tr>\n",
       "      <th>568</th>\n",
       "      <td>568</td>\n",
       "      <td>PB563342</td>\n",
       "      <td>2008-08-02:07:74:39</td>\n",
       "      <td>불량</td>\n",
       "      <td>CCS-B</td>\n",
       "      <td>C0</td>\n",
       "      <td>19.13</td>\n",
       "      <td>2531</td>\n",
       "      <td>40728</td>\n",
       "      <td>30960</td>\n",
       "      <td>...</td>\n",
       "      <td>1157</td>\n",
       "      <td>206</td>\n",
       "      <td>1156</td>\n",
       "      <td>77</td>\n",
       "      <td>342</td>\n",
       "      <td>1156</td>\n",
       "      <td>1016</td>\n",
       "      <td>적용</td>\n",
       "      <td>10</td>\n",
       "      <td>4조</td>\n",
       "    </tr>\n",
       "  </tbody>\n",
       "</table>\n",
       "<p>1 rows × 22 columns</p>\n",
       "</div>"
      ],
      "text/plain": [
       "     Unnamed: 0  PLATE_NO         ROLLING_DATE SCALE   SPEC STEEL_KIND  \\\n",
       "568         568  PB563342  2008-08-02:07:74:39    불량  CCS-B         C0   \n",
       "\n",
       "     PT_THK  PT_WDTH  PT_LTH  PT_WGT  ... FUR_HZ_TEMP  FUR_HZ_TIME  \\\n",
       "568   19.13     2531   40728   30960  ...        1157          206   \n",
       "\n",
       "     FUR_SZ_TEMP  FUR_SZ_TIME  FUR_TIME  FUR_EXTEMP  ROLLING_TEMP_T5  HSB  \\\n",
       "568         1156           77       342        1156             1016   적용   \n",
       "\n",
       "     ROLLING_DESCALING WORK_GR  \n",
       "568                 10      4조  \n",
       "\n",
       "[1 rows x 22 columns]"
      ]
     },
     "execution_count": 132,
     "metadata": {},
     "output_type": "execute_result"
    }
   ],
   "source": [
    "kind = steel[steel['STEEL_KIND'] == 'C0']\n",
    "kind[kind['SPEC'] == 'CCS-B']"
   ]
  },
  {
   "cell_type": "markdown",
   "metadata": {},
   "source": [
    "- 한 종류 안, 한 규격 안에서도 유의미한 차이를 보이는 것들이 있어 자세한 분석이 필요해 보인다."
   ]
  },
  {
   "cell_type": "markdown",
   "metadata": {},
   "source": [
    "## 데이터 전처리"
   ]
  },
  {
   "cell_type": "markdown",
   "metadata": {},
   "source": [
    "### 중복 칼럼 제거"
   ]
  },
  {
   "cell_type": "code",
   "execution_count": 133,
   "metadata": {},
   "outputs": [
    {
     "name": "stdout",
     "output_type": "stream",
     "text": [
      "[ True]\n"
     ]
    }
   ],
   "source": [
    "#'FUR_SZ_TEMP', 'FUR_EXTEMP' 칼럼이 정확히 일치하는지 확인\n",
    "test1 = steel[['FUR_SZ_TEMP','FUR_EXTEMP']].assign(tf=lambda x: (x['FUR_SZ_TEMP'] == x['FUR_EXTEMP']))\n",
    "#print(test1.to_string())\n",
    "print(test1['tf'].unique())      #lamda로 추출한 값에 True만 존재하기 때문에, 정확히 일치함을 확인\n"
   ]
  },
  {
   "cell_type": "markdown",
   "metadata": {},
   "source": [
    "- SZ 가열로 온도와 가열로 추출온도가 완전히 같다 or 자료의 오류?"
   ]
  }
 ],
 "metadata": {
  "kernelspec": {
   "display_name": "Python 3 (ipykernel)",
   "language": "python",
   "name": "python3"
  },
  "language_info": {
   "codemirror_mode": {
    "name": "ipython",
    "version": 3
   },
   "file_extension": ".py",
   "mimetype": "text/x-python",
   "name": "python",
   "nbconvert_exporter": "python",
   "pygments_lexer": "ipython3",
   "version": "3.9.12"
  },
  "toc": {
   "base_numbering": 1,
   "nav_menu": {},
   "number_sections": true,
   "sideBar": true,
   "skip_h1_title": false,
   "title_cell": "Table of Contents",
   "title_sidebar": "Contents",
   "toc_cell": false,
   "toc_position": {},
   "toc_section_display": true,
   "toc_window_display": false
  },
  "vscode": {
   "interpreter": {
    "hash": "ff4f85d6e04298634172ac5d8264e7e9b556b95639fe52ebb9425c4d4cba0c9c"
   }
  }
 },
 "nbformat": 4,
 "nbformat_minor": 2
}
