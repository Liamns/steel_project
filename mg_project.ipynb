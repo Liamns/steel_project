{
 "cells": [
  {
   "cell_type": "code",
   "execution_count": 5,
   "metadata": {},
   "outputs": [],
   "source": [
    "import pandas as pd\n",
    "import numpy as np\n",
    "import seaborn as sns\n",
    "import matplotlib.pyplot as plt"
   ]
  },
  {
   "cell_type": "code",
   "execution_count": 6,
   "metadata": {},
   "outputs": [],
   "source": [
    "df = pd.read_csv('steel_date.csv')"
   ]
  },
  {
   "cell_type": "code",
   "execution_count": 7,
   "metadata": {},
   "outputs": [],
   "source": [
    "steel = df.copy()"
   ]
  },
  {
   "cell_type": "code",
   "execution_count": 8,
   "metadata": {},
   "outputs": [
    {
     "name": "stdout",
     "output_type": "stream",
     "text": [
      "<class 'pandas.core.frame.DataFrame'>\n",
      "RangeIndex: 720 entries, 0 to 719\n",
      "Data columns (total 22 columns):\n",
      " #   Column             Non-Null Count  Dtype  \n",
      "---  ------             --------------  -----  \n",
      " 0   Unnamed: 0         720 non-null    int64  \n",
      " 1   PLATE_NO           720 non-null    object \n",
      " 2   ROLLING_DATE       720 non-null    object \n",
      " 3   SCALE              720 non-null    object \n",
      " 4   SPEC               720 non-null    object \n",
      " 5   STEEL_KIND         720 non-null    object \n",
      " 6   PT_THK             720 non-null    float64\n",
      " 7   PT_WDTH            720 non-null    int64  \n",
      " 8   PT_LTH             720 non-null    int64  \n",
      " 9   PT_WGT             720 non-null    int64  \n",
      " 10  FUR_NO             720 non-null    object \n",
      " 11  FUR_NO_ROW         720 non-null    int64  \n",
      " 12  FUR_HZ_TEMP        720 non-null    int64  \n",
      " 13  FUR_HZ_TIME        720 non-null    int64  \n",
      " 14  FUR_SZ_TEMP        720 non-null    int64  \n",
      " 15  FUR_SZ_TIME        720 non-null    int64  \n",
      " 16  FUR_TIME           720 non-null    int64  \n",
      " 17  FUR_EXTEMP         720 non-null    int64  \n",
      " 18  ROLLING_TEMP_T5    720 non-null    int64  \n",
      " 19  HSB                720 non-null    object \n",
      " 20  ROLLING_DESCALING  720 non-null    int64  \n",
      " 21  WORK_GR            720 non-null    object \n",
      "dtypes: float64(1), int64(13), object(8)\n",
      "memory usage: 123.9+ KB\n"
     ]
    }
   ],
   "source": [
    "steel.info()"
   ]
  },
  {
   "cell_type": "markdown",
   "metadata": {},
   "source": [
    "- ptp = max - min"
   ]
  },
  {
   "cell_type": "code",
   "execution_count": 9,
   "metadata": {},
   "outputs": [
    {
     "name": "stdout",
     "output_type": "stream",
     "text": [
      "                        PT_THK  PT_WDTH  PT_LTH  PT_WGT  FUR_HZ_TEMP  FUR_HZ_TIME  FUR_SZ_TEMP  FUR_SZ_TIME\n",
      "STEEL_KIND SPEC                                                                                            \n",
      "C0         A283-C         8.09      844   12163   42770           16           18           22           29\n",
      "           A516-60        0.00        0       0       0            1            1            2            1\n",
      "           A709-36        0.00        0       0       0            0            0            0            0\n",
      "           AB/A          12.62     1193   13484   25890           69          197           42          193\n",
      "           AB/AH32        3.53       43    4978   24720           17           14            9           37\n",
      "           AB/B           6.07     1826   29771   53800           76           53           24           21\n",
      "           BV-A           0.00        0       0       0            0            0            0            0\n",
      "           BV-AH32        8.09     2488   30436   54480           40          130           23           31\n",
      "           BV-B           5.06     1570   15231   70960           73          131           46           75\n",
      "           CCS-B          0.00        0       0       0            0            0            0            0\n",
      "           GL-A           1.01      749   14466   14140           11           89           25          164\n",
      "           GL-A32         5.05      789   12175   57080           62           33           23           31\n",
      "           JS-SM400A      0.00        0       0       0           14            7           13            9\n",
      "           JS-SM400B      0.00        0       0       0           52           67           20           34\n",
      "           JS-SM490A     37.11      925   35685   63120           57          142           27           48\n",
      "           JS-SM490YA     0.00        0       0       0           27           20           15           15\n",
      "           JS-SM490YB     6.01     1284   21799   79500           83           87           42           96\n",
      "           JS-SS400      61.18      619   40411   73090           50          182           27           33\n",
      "           KR-A          11.59     2290   33790   97850           89          194           55          198\n",
      "           KR-AH32        0.50      660     533    8740           17           15           17           16\n",
      "           KR-B           0.00        0       0       0            0            0            0            0\n",
      "           KS-SM400A     10.16       67   16345   56940           33          154           20          156\n",
      "           KS-SM400B      8.14      482   17441   82920           29           78           18           16\n",
      "           KS-SM490A     10.03      603   24420   39040           35          190           19           36\n",
      "           KS-SM490B     21.09     1478   26101   53140           23          106           19          143\n",
      "           KS-SS400       5.02      206   14207   76900           31          174           18           42\n",
      "           LR-A          12.12     2375   37603   95760           84          259           55          253\n",
      "           LR-AH32        8.05     2528   33154   71750           65           45           38           32\n",
      "           LR-B           8.38     1448   20499   59710           59          120           46           64\n",
      "           NK-KA          7.08     1025   17923   46820           42           79           33          158\n",
      "           NK-KA32        3.03      742   11264   48750           71           32           39           29\n",
      "           NV-A          13.16     2035   30856   62320           87          266           62          181\n",
      "           NV-A32         8.09     1567   14564   52300           87           43           34           36\n",
      "           NV-B          12.64     1339    6184   43190           29           20           16           39\n",
      "           SA283-C       19.55      928   23846   37230           33           31           18           40\n",
      "C1         JS-SS400       0.00        0       0       0            0            0            0            0\n",
      "C3         AB/AH32        0.00        0       0       0            0            0            0            0\n",
      "           LR-AH32        0.00        0       0       0            0            0            0            0\n",
      "           LR-AH36        0.00        0       0       0            0            0            0            0\n",
      "           V42JBN3        0.00        0    6845   11370           31            5           14           20\n",
      "T0         BV-AH32-TM    10.06       15    6229   21260           65           59           21           33\n",
      "           COMMON         0.00        0       0       0            0            0            0            0\n",
      "           GL-A32-TM     27.29      604   18367   14460           42           47           33           79\n",
      "           NK-KA32-TM     0.00        0       0       0            0            0            0            0\n",
      "           NV-A32-TM      0.00        0       0       0           51           42           23           27\n",
      "           NV-D32-TM      0.01      454    5312    1600           54           17           21           50\n",
      "T1         AB/EH32-TM     0.00        0       0       0            0            6            2            6\n",
      "           BV-EH32-TM     0.00        0       0       0            0            0            0            0\n",
      "           COMMON         0.00       60      34     420           11           35            4           17\n",
      "           GL-E32-TM     16.18       22    8787   19780           15           73            8           21\n",
      "           LR-EH32-TM     0.00        0       0       0            0            0            0            0\n",
      "           NV-E32-TM      0.50        0      79    2200           40            2           33            1\n",
      "T3         API-2W-50T     0.00      626    9478   15610           29            4           21            4\n",
      "T5         KS-HSB500      2.00      115    3917   10670           20            6            9            5\n",
      "           KS-HSB600      0.00        0       0       0            0            0            0            0\n",
      "           PILAC-BT33    40.83     1255   16149   26310           62           87           17          108\n",
      "T7         A131-DH36TM    0.00        0       0       0            0            0            0            0\n",
      "           BV-AH36-TL     2.01        0     266       0           30           47           12           16\n",
      "           BV-AH36-TM     0.00        0       0       0            0            0            0            0\n",
      "           COMMON         0.00        0       0       0            0            0            0            0\n",
      "           GL-A36-TM      4.05      748    7517   45300           65           51           52           56\n",
      "           GL-D36-TM      0.00      815    7885   18140           42           43           16           33\n",
      "           LR-AH36-TM     0.00        0       0       0            0            0            0            0\n",
      "           NK-KD36-TM     0.00      110      18    2490           10            8           10           15\n",
      "           NV-A36-TM      0.00      317       8   12930           20           16            4            2\n",
      "           NV-D36-TM     31.26     1830   14505    5780           86           41           42           77\n",
      "T8         AB/EH36-TM    38.36      612    4514    6500           37           57           14           70\n",
      "           BV-EH36-TM    35.38     1303   13491   26390           69           81           32           82\n",
      "           COMMON        37.28      804    6438   16320           33           73           14           51\n",
      "           GL-E36-TM     31.32     1765   18483   28580           34           62           14           45\n",
      "           LR-EH36-TM     0.00        0       0       0            4            0            5            8\n",
      "           NV-E36-TM     37.33     1354    7349    3270           27           35           14           35\n"
     ]
    }
   ],
   "source": [
    "result = steel.groupby(['STEEL_KIND','SPEC']).agg({'PT_THK': np.ptp, 'PT_WDTH': np.ptp,\n",
    "                                                   'PT_LTH': np.ptp, 'PT_WGT': np.ptp,\n",
    "                                                   'FUR_HZ_TEMP': np.ptp,'FUR_HZ_TIME': np.ptp,\n",
    "                                                   'FUR_SZ_TEMP': np.ptp,'FUR_SZ_TIME': np.ptp})\n",
    "print(result.to_string())"
   ]
  },
  {
   "cell_type": "markdown",
   "metadata": {},
   "source": [
    "- 한 종류 안, 한 규격 안에서도 유의미한 차이를 보이는 것들이 있어 자세한 분석이 필요해 보인다."
   ]
  },
  {
   "cell_type": "markdown",
   "metadata": {},
   "source": [
    "## 데이터 전처리"
   ]
  },
  {
   "cell_type": "markdown",
   "metadata": {},
   "source": [
    "### 중복 칼럼 제거"
   ]
  },
  {
   "cell_type": "code",
   "execution_count": 13,
   "metadata": {},
   "outputs": [
    {
     "name": "stdout",
     "output_type": "stream",
     "text": [
      "[ True]\n"
     ]
    }
   ],
   "source": [
    "#'FUR_SZ_TEMP', 'FUR_EXTEMP' 칼럼이 정확히 일치하는지 확인\n",
    "test1 = steel[['FUR_SZ_TEMP','FUR_EXTEMP']].assign(tf=lambda x: (x['FUR_SZ_TEMP'] == x['FUR_EXTEMP']))\n",
    "#print(test1.to_string())\n",
    "print(test1['tf'].unique())      #lamda로 추출한 값에 True만 존재하기 때문에, 정확히 일치함을 확인\n"
   ]
  },
  {
   "cell_type": "markdown",
   "metadata": {},
   "source": [
    "- SZ 가열로 온도와 가열로 추출온도가 완전히 같다 or 자료의 오류?"
   ]
  }
 ],
 "metadata": {
  "kernelspec": {
   "display_name": "Python 3 (ipykernel)",
   "language": "python",
   "name": "python3"
  },
  "language_info": {
   "codemirror_mode": {
    "name": "ipython",
    "version": 3
   },
   "file_extension": ".py",
   "mimetype": "text/x-python",
   "name": "python",
   "nbconvert_exporter": "python",
   "pygments_lexer": "ipython3",
   "version": "3.9.12"
  },
  "toc": {
   "base_numbering": 1,
   "nav_menu": {},
   "number_sections": true,
   "sideBar": true,
   "skip_h1_title": false,
   "title_cell": "Table of Contents",
   "title_sidebar": "Contents",
   "toc_cell": false,
   "toc_position": {},
   "toc_section_display": true,
   "toc_window_display": false
  },
  "vscode": {
   "interpreter": {
    "hash": "ff4f85d6e04298634172ac5d8264e7e9b556b95639fe52ebb9425c4d4cba0c9c"
   }
  }
 },
 "nbformat": 4,
 "nbformat_minor": 2
}
